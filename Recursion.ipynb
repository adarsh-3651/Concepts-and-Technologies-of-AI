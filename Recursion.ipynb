{
 "cells": [
  {
   "cell_type": "code",
   "execution_count": 2,
   "id": "95e95880-0df7-4ab5-aaba-e1477609119b",
   "metadata": {},
   "outputs": [
    {
     "name": "stdout",
     "output_type": "stream",
     "text": [
      "36\n"
     ]
    }
   ],
   "source": [
    "# TASK 1 - Sum of Nested Lists\n",
    "def sum_nested_list(nested_list):\n",
    " \"\"\"\n",
    " Calculate the sum of all numbers in a nested list.\n",
    " This function takes a list that may contain integers and other nested lists.\n",
    " It recursively traverses the list and sums all the integers, no matter how deeply\n",
    " nested they are.\n",
    " Args:\n",
    " nested_list (list): A list that may contain integers or other lists of integers.\n",
    " Returns:\n",
    " int: Thetotalsumofallintegersinthenestedlist,includingthoseinsublists\n",
    " .\n",
    " Example:\n",
    " >>>sum_nested_list([1,[2,[3,4],5],6,[7,8]])\n",
    " 36\n",
    " >>>sum_nested_list([1,[2,3],[4,[5]]])\n",
    " 15\n",
    " \"\"\"\n",
    " total=0\n",
    " for element in nested_list:\n",
    "     if isinstance(element,list):#Checkiftheelementisalist\n",
    "         total+=sum_nested_list(element)#Recursivelysumthenestedlist\n",
    "     else:\n",
    "         total+=element#Addthenumbertothetotal\n",
    " return total\n",
    "print(sum_nested_list([1,[2,[3,4],5],6,[7,8]]))"
   ]
  },
  {
   "cell_type": "code",
   "execution_count": 6,
   "id": "8509edce-c2cf-4189-9f56-7efde591e094",
   "metadata": {},
   "outputs": [
    {
     "name": "stdout",
     "output_type": "stream",
     "text": [
      "['abc', 'acb', 'bac', 'bca', 'cab', 'cba']\n",
      "['aab', 'aba', 'baa']\n"
     ]
    }
   ],
   "source": [
    "## Task2-GenerateAllPermutationsofaString:\n",
    "from itertools import permutations\n",
    "\n",
    "def generate_permutations(s):\n",
    "    \"\"\"\n",
    "    Generate all unique permutations of a given string.\n",
    "    \n",
    "    Args:\n",
    "    s (str): The input string to generate permutations for.\n",
    "    \n",
    "    Returns:\n",
    "    list: A list of all unique permutations of the string.\n",
    "    \"\"\"\n",
    "    # Use itertools.permutations to generate permutations and set to remove duplicates\n",
    "    unique_permutations = set(''.join(p) for p in permutations(s))\n",
    "    \n",
    "    # Convert the set to a sorted list for a consistent order of output\n",
    "    return sorted(unique_permutations)\n",
    "\n",
    "# Test with the string \"abc\"\n",
    "print(generate_permutations(\"abc\"))\n",
    "# Expected output: ['abc', 'acb', 'bac', 'bca', 'cab', 'cba']\n",
    "\n",
    "# Test with the string \"aab\"\n",
    "print(generate_permutations(\"aab\"))\n",
    "# Expected output: ['aab', 'aba', 'baa']\n",
    "\n"
   ]
  },
  {
   "cell_type": "code",
   "execution_count": 10,
   "id": "db0feec3-60b4-40fe-944c-e1e7aa15930a",
   "metadata": {},
   "outputs": [
    {
     "name": "stdout",
     "output_type": "stream",
     "text": [
      "['abc', 'acb', 'bac', 'bca', 'cab', 'cba']\n",
      "['aab', 'aba', 'baa']\n"
     ]
    }
   ],
   "source": [
    "## OR ::\n",
    "\n",
    "def generate_permutations(s):\n",
    "    \"\"\"\n",
    "    Generate all unique permutations of a given string using recursion.\n",
    "    \n",
    "    This function uses a recursive approach to generate all unique permutations\n",
    "    of the input string. It ensures that no duplicate permutations are added\n",
    "    to the output list.\n",
    "\n",
    "    Args:\n",
    "    s (str): The input string for which to generate permutations.\n",
    "\n",
    "    Returns:\n",
    "    list: A list of all unique permutations of the input string.\n",
    "\n",
    "    Example:\n",
    "    >>> generate_permutations(\"abc\")\n",
    "    ['abc', 'acb', 'bac', 'bca', 'cab', 'cba']\n",
    "    \n",
    "    >>> generate_permutations(\"aab\")\n",
    "    ['aab', 'aba', 'baa']\n",
    "    \"\"\"\n",
    "    # Base case: if the string has only one character, return a list containing the string itself\n",
    "    if len(s) == 1:\n",
    "        return [s]\n",
    "\n",
    "    permutations = []  # List to store all unique permutations\n",
    "    for i, char in enumerate(s):\n",
    "        # Exclude the current character and get the permutations of the remaining characters\n",
    "        remaining_chars = s[:i] + s[i+1:]\n",
    "        for perm in generate_permutations(remaining_chars):\n",
    "            # Form a new permutation by adding the current character to the front\n",
    "            new_permutation = char + perm\n",
    "            if new_permutation not in permutations:  # Ensure uniqueness\n",
    "                permutations.append(new_permutation)\n",
    "    \n",
    "    return permutations\n",
    "\n",
    "# Test with the string \"abc\"\n",
    "print(generate_permutations(\"abc\"))\n",
    "# Should return ['abc', 'acb', 'bac', 'bca', 'cab', 'cba']\n",
    "\n",
    "# Test with the string \"aab\"\n",
    "print(generate_permutations(\"aab\"))\n",
    "# Should return ['aab', 'aba', 'baa']\n"
   ]
  },
  {
   "cell_type": "code",
   "execution_count": 12,
   "id": "06e29a27-ee9c-44a8-8fa1-06fae8d5ce01",
   "metadata": {},
   "outputs": [
    {
     "name": "stdout",
     "output_type": "stream",
     "text": [
      "Total size of the directory: 1450 KB\n"
     ]
    }
   ],
   "source": [
    "##  Task3-DirectorySizeCalculation:\n",
    "def calculate_directory_size(directory):\n",
    "    \"\"\"\n",
    "    Recursively calculates the total size of a directory, including all nested subdirectories.\n",
    "\n",
    "    Args:\n",
    "    directory (dict): A dictionary where keys are file or directory names. \n",
    "                      Values are either integers (file sizes in KB) or nested dictionaries (subdirectories).\n",
    "\n",
    "    Returns:\n",
    "    int: The total size of the directory in KB.\n",
    "    \"\"\"\n",
    "    total_size = 0\n",
    "    \n",
    "    for key, value in directory.items():\n",
    "        if isinstance(value, dict):  # Check if the value is a subdirectory\n",
    "            total_size += calculate_directory_size(value)  # Recursively add the size of the subdirectory\n",
    "        else:\n",
    "            total_size += value  # Add the file size directly if it's an integer\n",
    "    \n",
    "    return total_size\n",
    "\n",
    "# Test the function with a sample directory structure\n",
    "sample_directory = {\n",
    "    \"file1.txt\": 100,\n",
    "    \"file2.txt\": 200,\n",
    "    \"subdir1\": {\n",
    "        \"file3.txt\": 300,\n",
    "        \"file4.txt\": 150,\n",
    "        \"subdir2\": {\n",
    "            \"file5.txt\": 400,\n",
    "            \"file6.txt\": 250\n",
    "        }\n",
    "    },\n",
    "    \"file7.txt\": 50\n",
    "}\n",
    "\n",
    "\n",
    "# Test the function and print the result\n",
    "print(f\"Total size of the directory: {calculate_directory_size(sample_directory)} KB\")\n"
   ]
  },
  {
   "cell_type": "code",
   "execution_count": null,
   "id": "4d62f53f-c724-48a3-ac51-8ba35c804f11",
   "metadata": {},
   "outputs": [],
   "source": []
  }
 ],
 "metadata": {
  "kernelspec": {
   "display_name": "Python 3 (ipykernel)",
   "language": "python",
   "name": "python3"
  },
  "language_info": {
   "codemirror_mode": {
    "name": "ipython",
    "version": 3
   },
   "file_extension": ".py",
   "mimetype": "text/x-python",
   "name": "python",
   "nbconvert_exporter": "python",
   "pygments_lexer": "ipython3",
   "version": "3.12.7"
  }
 },
 "nbformat": 4,
 "nbformat_minor": 5
}
