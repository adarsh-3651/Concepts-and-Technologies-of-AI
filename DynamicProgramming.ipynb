{
 "cells": [
  {
   "cell_type": "code",
   "execution_count": 12,
   "id": "799d8577-02e8-476a-92f6-459b7d39e915",
   "metadata": {},
   "outputs": [],
   "source": [
    "## Task 1- Coin Change Problem:\n",
    "def min_coins(coins,amount):\n",
    "    \"\"\"\n",
    "     Findstheminimumnumberofcoinsneededtomakeupagivenamountusingdynamic\n",
    "     programming.\n",
    "     Thisfunctionsolvesthecoinchangeproblembydeterminingthefewestnumberof\n",
    "     coinsfromagivensetofcoindenominationsthatsumuptoatargetamount.The\n",
    "     solutionusesdynamicprogramming(tabulation)toiterativelybuilduptheminimum\n",
    "     numberofcoinsrequiredfor eachamount.\n",
    "     Parameters:\n",
    "     coins(listofint):Alistof coindenominationsavailableformakingchange.Each\n",
    "     coin denominationisapositiveinteger.\n",
    "     amount (int):Thetargetamountforwhichweneedtofindtheminimumnumberofcoins\n",
    "     .It mustbeanon-negativeinteger.\n",
    "     Returns:\n",
    "     int:The minimumnumberofcoins requiredtomakethegivenamount.\n",
    "     Ifitisnotpossibletomaketheamountwiththegivencoins,returns-1.\n",
    "     Example:\n",
    "     >>>min_coins([1,2,5],11)\n",
    "     3\n",
    "     >>>min_coins([2],3)-1\n",
    "    \"\"\"\n",
    "    dp=[float('inf')]*(amount+1)\n",
    "    dp[0]=0\n",
    "    for coin in coins:\n",
    "        for i in range(coin,amount+1):\n",
    "            dp[i]=min(dp[i],dp[i-coin]+1)\n",
    "    return dp[amount] if dp[amount]!=float('inf')else-1"
   ]
  },
  {
   "cell_type": "code",
   "execution_count": 16,
   "id": "f3c85855-4550-4bb5-a05f-54054e28b650",
   "metadata": {},
   "outputs": [
    {
     "name": "stdout",
     "output_type": "stream",
     "text": [
      "Minimum coins required to make 11: 3\n"
     ]
    }
   ],
   "source": [
    "## Task 1- Coin Change Problem:\n",
    "def min_coins(coins, amount):\n",
    "    \"\"\"\n",
    "    Find the minimum number of coins required to make the given amount using dynamic programming.\n",
    "\n",
    "    Parameters:\n",
    "    coins (list): A list of integers representing the denominations of coins available.\n",
    "    amount (int): The target amount to achieve using the given coin denominations.\n",
    "\n",
    "    Returns:\n",
    "    int: The minimum number of coins required to make the amount.\n",
    "         Returns -1 if it is not possible to make the amount with the given denominations.\n",
    "    \"\"\"\n",
    "    # Initialize the DP array to store the minimum coins needed for each amount\n",
    "    # from 0 to `amount`. Use a high value (amount + 1) as an indicator for infinity.\n",
    "    dp = [float('inf')] * (amount + 1)\n",
    "\n",
    "    # Base case: No coins are needed to make the amount 0\n",
    "    dp[0] = 0\n",
    "\n",
    "    # Fill the DP array\n",
    "    for coin in coins:\n",
    "        # Iterate through each amount from the coin value to the target amount\n",
    "        for x in range(coin, amount + 1):\n",
    "            # Update the DP array by choosing the minimum of current value or\n",
    "            # the value obtained by including the current coin\n",
    "            dp[x] = min(dp[x], dp[x - coin] + 1)\n",
    "\n",
    "    # If dp[amount] is still infinity, it means the amount cannot be formed\n",
    "    return dp[amount] if dp[amount] != float('inf') else -1\n",
    "\n",
    "# Test the function with the given scenario\n",
    "if __name__ == \"__main__\":\n",
    "    coins = [1, 2, 5]\n",
    "    amount = 11\n",
    "    result = min_coins(coins, amount)\n",
    "    print(f\"Minimum coins required to make {amount}: {result}\")\n"
   ]
  },
  {
   "cell_type": "code",
   "execution_count": 22,
   "id": "8bbebbf2-69eb-477a-b521-8497e2fad5fb",
   "metadata": {},
   "outputs": [
    {
     "name": "stdout",
     "output_type": "stream",
     "text": [
      "Length of Longest Common Subsequence between 'abcde' and 'ace': 3\n"
     ]
    }
   ],
   "source": [
    "##  Task2-LongestCommonSubsequence(LCS):\n",
    "def longest_common_subsequence(s1, s2):\n",
    "    \"\"\"\n",
    "    Finds the length of the Longest Common Subsequence (LCS) between two strings using dynamic programming.\n",
    "\n",
    "    Parameters:\n",
    "    s1 (str): The first string.\n",
    "    s2 (str): The second string.\n",
    "\n",
    "    Returns:\n",
    "    int: The length of the longest common subsequence between the two strings.\n",
    "    \"\"\"\n",
    "    # Get the lengths of the input strings\n",
    "    n, m = len(s1), len(s2)\n",
    "    \n",
    "    # Initialize a 2D DP table with dimensions (n+1) x (m+1), filled with zeros.\n",
    "    # dp[i][j] represents the length of LCS of the first i characters of s1 and the first j characters of s2.\n",
    "    dp = [[0] * (m + 1) for _ in range(n + 1)]\n",
    "\n",
    "    # Build the DP table\n",
    "    for i in range(1, n + 1):\n",
    "        for j in range(1, m + 1):\n",
    "            if s1[i - 1] == s2[j - 1]:  # If characters match, increment the LCS length\n",
    "                dp[i][j] = dp[i - 1][j - 1] + 1\n",
    "            else:  # Otherwise, take the maximum value from the previous row or column\n",
    "                dp[i][j] = max(dp[i - 1][j], dp[i][j - 1])\n",
    "\n",
    "    # The length of the LCS will be in dp[n][m]\n",
    "    return dp[n][m]\n",
    "\n",
    "# Test the function with the given scenario\n",
    "if __name__ == \"__main__\":\n",
    "    s1 = \"abcde\"\n",
    "    s2 = \"ace\"\n",
    "    result = longest_common_subsequence(s1, s2)\n",
    "    print(f\"Length of Longest Common Subsequence between '{s1}' and '{s2}': {result}\")\n"
   ]
  },
  {
   "cell_type": "code",
   "execution_count": 24,
   "id": "1a1a9ffb-8ae4-46a2-b6d5-129db9a719a2",
   "metadata": {},
   "outputs": [
    {
     "name": "stdout",
     "output_type": "stream",
     "text": [
      "Maximum value achievable within weight capacity 7: 9\n"
     ]
    }
   ],
   "source": [
    "##  Task 3- 0/1 Knapsack Problem:\n",
    "def knapsack(weights, values, capacity):\n",
    "    \"\"\"\n",
    "    Solves the 0/1 Knapsack Problem using dynamic programming to maximize total value \n",
    "    within the given weight capacity.\n",
    "\n",
    "    Parameters:\n",
    "    weights (list): A list of integers representing the weights of the items.\n",
    "    values (list): A list of integers representing the values of the items.\n",
    "    capacity (int): The maximum weight capacity of the knapsack.\n",
    "\n",
    "    Returns:\n",
    "    int: The maximum value that can be achieved without exceeding the weight capacity.\n",
    "    \"\"\"\n",
    "    # Number of items\n",
    "    n = len(weights)\n",
    "\n",
    "    # Initialize a 2D DP table with dimensions (n+1) x (capacity+1), filled with zeros.\n",
    "    # dp[i][w] represents the maximum value achievable with the first i items and weight limit w.\n",
    "    dp = [[0] * (capacity + 1) for _ in range(n + 1)]\n",
    "\n",
    "    # Fill the DP table\n",
    "    for i in range(1, n + 1):  # Loop through items\n",
    "        for w in range(1, capacity + 1):  # Loop through weight capacities\n",
    "            if weights[i - 1] <= w:\n",
    "                # Include the current item and take the maximum of including or excluding it\n",
    "                dp[i][w] = max(dp[i - 1][w], dp[i - 1][w - weights[i - 1]] + values[i - 1])\n",
    "            else:\n",
    "                # Exclude the current item\n",
    "                dp[i][w] = dp[i - 1][w]\n",
    "\n",
    "    # The maximum value is stored in dp[n][capacity]\n",
    "    return dp[n][capacity]\n",
    "\n",
    "# Test the function with the given scenario\n",
    "if __name__ == \"__main__\":\n",
    "    weights = [1, 3, 4, 5]\n",
    "    values = [1, 4, 5, 7]\n",
    "    capacity = 7\n",
    "    result = knapsack(weights, values, capacity)\n",
    "    print(f\"Maximum value achievable within weight capacity {capacity}: {result}\")\n"
   ]
  },
  {
   "cell_type": "code",
   "execution_count": null,
   "id": "948b9f08-3865-4380-adb7-896b0fa96c13",
   "metadata": {},
   "outputs": [],
   "source": []
  }
 ],
 "metadata": {
  "kernelspec": {
   "display_name": "Python 3 (ipykernel)",
   "language": "python",
   "name": "python3"
  },
  "language_info": {
   "codemirror_mode": {
    "name": "ipython",
    "version": 3
   },
   "file_extension": ".py",
   "mimetype": "text/x-python",
   "name": "python",
   "nbconvert_exporter": "python",
   "pygments_lexer": "ipython3",
   "version": "3.12.7"
  }
 },
 "nbformat": 4,
 "nbformat_minor": 5
}
