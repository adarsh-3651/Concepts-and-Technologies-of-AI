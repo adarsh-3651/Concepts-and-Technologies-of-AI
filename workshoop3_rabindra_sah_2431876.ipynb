{
  "nbformat": 4,
  "nbformat_minor": 0,
  "metadata": {
    "colab": {
      "provenance": []
    },
    "kernelspec": {
      "name": "python3",
      "display_name": "Python 3"
    },
    "language_info": {
      "name": "python"
    }
  },
  "cells": [
    {
      "cell_type": "code",
      "source": [
        "import pandas as pd\n",
        "df=pd.read_csv('/content/drive/MyDrive/Concepts of Technologies and AI/Titanic-Dataset.csv')\n",
        "df.info()"
      ],
      "metadata": {
        "id": "T_gDbNl3GCy6",
        "colab": {
          "base_uri": "https://localhost:8080/"
        },
        "outputId": "e5bb189c-f86b-490e-f0c0-4a11140f9dd3"
      },
      "execution_count": null,
      "outputs": [
        {
          "output_type": "stream",
          "name": "stdout",
          "text": [
            "<class 'pandas.core.frame.DataFrame'>\n",
            "RangeIndex: 891 entries, 0 to 890\n",
            "Data columns (total 12 columns):\n",
            " #   Column       Non-Null Count  Dtype  \n",
            "---  ------       --------------  -----  \n",
            " 0   PassengerId  891 non-null    int64  \n",
            " 1   Survived     891 non-null    int64  \n",
            " 2   Pclass       891 non-null    int64  \n",
            " 3   Name         891 non-null    object \n",
            " 4   Sex          891 non-null    object \n",
            " 5   Age          714 non-null    float64\n",
            " 6   SibSp        891 non-null    int64  \n",
            " 7   Parch        891 non-null    int64  \n",
            " 8   Ticket       891 non-null    object \n",
            " 9   Fare         891 non-null    float64\n",
            " 10  Cabin        204 non-null    object \n",
            " 11  Embarked     889 non-null    object \n",
            "dtypes: float64(2), int64(5), object(5)\n",
            "memory usage: 83.7+ KB\n"
          ]
        }
      ]
    },
    {
      "cell_type": "code",
      "source": [
        "fare = df[['Fare']]\n",
        "print(fare.head())"
      ],
      "metadata": {
        "colab": {
          "base_uri": "https://localhost:8080/"
        },
        "id": "Q3SGIeqGdyGe",
        "outputId": "3d1edcd5-7ca5-41d5-8702-4cda3d514966"
      },
      "execution_count": null,
      "outputs": [
        {
          "output_type": "stream",
          "name": "stdout",
          "text": [
            "      Fare\n",
            "0   7.2500\n",
            "1  71.2833\n",
            "2   7.9250\n",
            "3  53.1000\n",
            "4   8.0500\n"
          ]
        }
      ]
    },
    {
      "cell_type": "code",
      "source": [
        "class_age = df[['Pclass','Age']]\n",
        "print(class_age.head())"
      ],
      "metadata": {
        "colab": {
          "base_uri": "https://localhost:8080/"
        },
        "id": "t-QKiXDlfJp3",
        "outputId": "7693b963-49e7-46fd-9c6c-d86a1de602a3"
      },
      "execution_count": null,
      "outputs": [
        {
          "output_type": "stream",
          "name": "stdout",
          "text": [
            "   Pclass   Age\n",
            "0       3  22.0\n",
            "1       1  38.0\n",
            "2       3  26.0\n",
            "3       1  35.0\n",
            "4       3  35.0\n"
          ]
        }
      ]
    },
    {
      "cell_type": "code",
      "source": [
        "survived_gender = df[['Survived','Sex']]\n",
        "print(survived_gender.head())"
      ],
      "metadata": {
        "colab": {
          "base_uri": "https://localhost:8080/"
        },
        "id": "D6EOu7uRialA",
        "outputId": "9cf63b6e-be98-4c3e-f894-cba1c91f07bc"
      },
      "execution_count": null,
      "outputs": [
        {
          "output_type": "stream",
          "name": "stdout",
          "text": [
            "   Survived     Sex\n",
            "0         0    male\n",
            "1         1  female\n",
            "2         1  female\n",
            "3         1  female\n",
            "4         0    male\n"
          ]
        }
      ]
    },
    {
      "cell_type": "markdown",
      "source": [
        "# Problem 2: Subsetting"
      ],
      "metadata": {
        "id": "MIFInX_tjJ--"
      }
    },
    {
      "cell_type": "markdown",
      "source": [
        "## Subsetting Rows:"
      ],
      "metadata": {
        "id": "ifFW92AqI70Z"
      }
    },
    {
      "cell_type": "code",
      "source": [
        "fare_gt_100 = df[df['Fare'] > 100]\n",
        "print(fare_gt_100.head())\n",
        "\n",
        "first_class = df[df['Pclass'] == 1]\n",
        "print(first_class.head())\n",
        "\n",
        "female_under_18 = df[(df['Age'] > 18) & (df['Sex'] == 'female')]\n",
        "print(female_under_18.head())"
      ],
      "metadata": {
        "colab": {
          "base_uri": "https://localhost:8080/"
        },
        "id": "NjDmKIE1jAuU",
        "outputId": "2b94cfd3-362f-49b7-f671-5f5ba9a8462b"
      },
      "execution_count": null,
      "outputs": [
        {
          "output_type": "stream",
          "name": "stdout",
          "text": [
            "     PassengerId  Survived  Pclass  \\\n",
            "27            28         0       1   \n",
            "31            32         1       1   \n",
            "88            89         1       1   \n",
            "118          119         0       1   \n",
            "195          196         1       1   \n",
            "\n",
            "                                               Name     Sex   Age  SibSp  \\\n",
            "27                   Fortune, Mr. Charles Alexander    male  19.0      3   \n",
            "31   Spencer, Mrs. William Augustus (Marie Eugenie)  female   NaN      1   \n",
            "88                       Fortune, Miss. Mabel Helen  female  23.0      3   \n",
            "118                        Baxter, Mr. Quigg Edmond    male  24.0      0   \n",
            "195                            Lurette, Miss. Elise  female  58.0      0   \n",
            "\n",
            "     Parch    Ticket      Fare        Cabin Embarked  \n",
            "27       2     19950  263.0000  C23 C25 C27        S  \n",
            "31       0  PC 17569  146.5208          B78        C  \n",
            "88       2     19950  263.0000  C23 C25 C27        S  \n",
            "118      1  PC 17558  247.5208      B58 B60        C  \n",
            "195      0  PC 17569  146.5208          B80        C  \n",
            "    PassengerId  Survived  Pclass  \\\n",
            "1             2         1       1   \n",
            "3             4         1       1   \n",
            "6             7         0       1   \n",
            "11           12         1       1   \n",
            "23           24         1       1   \n",
            "\n",
            "                                                 Name     Sex   Age  SibSp  \\\n",
            "1   Cumings, Mrs. John Bradley (Florence Briggs Th...  female  38.0      1   \n",
            "3        Futrelle, Mrs. Jacques Heath (Lily May Peel)  female  35.0      1   \n",
            "6                             McCarthy, Mr. Timothy J    male  54.0      0   \n",
            "11                           Bonnell, Miss. Elizabeth  female  58.0      0   \n",
            "23                       Sloper, Mr. William Thompson    male  28.0      0   \n",
            "\n",
            "    Parch    Ticket     Fare Cabin Embarked  \n",
            "1       0  PC 17599  71.2833   C85        C  \n",
            "3       0    113803  53.1000  C123        S  \n",
            "6       0     17463  51.8625   E46        S  \n",
            "11      0    113783  26.5500  C103        S  \n",
            "23      0    113788  35.5000    A6        S  \n",
            "    PassengerId  Survived  Pclass  \\\n",
            "1             2         1       1   \n",
            "2             3         1       3   \n",
            "3             4         1       1   \n",
            "8             9         1       3   \n",
            "11           12         1       1   \n",
            "\n",
            "                                                 Name     Sex   Age  SibSp  \\\n",
            "1   Cumings, Mrs. John Bradley (Florence Briggs Th...  female  38.0      1   \n",
            "2                              Heikkinen, Miss. Laina  female  26.0      0   \n",
            "3        Futrelle, Mrs. Jacques Heath (Lily May Peel)  female  35.0      1   \n",
            "8   Johnson, Mrs. Oscar W (Elisabeth Vilhelmina Berg)  female  27.0      0   \n",
            "11                           Bonnell, Miss. Elizabeth  female  58.0      0   \n",
            "\n",
            "    Parch            Ticket     Fare Cabin Embarked  \n",
            "1       0          PC 17599  71.2833   C85        C  \n",
            "2       0  STON/O2. 3101282   7.9250   NaN        S  \n",
            "3       0            113803  53.1000  C123        S  \n",
            "8       2            347742  11.1333   NaN        S  \n",
            "11      0            113783  26.5500  C103        S  \n"
          ]
        }
      ]
    },
    {
      "cell_type": "markdown",
      "source": [
        "## Subsetting Rows by Categorical variables:"
      ],
      "metadata": {
        "id": "yj4K-l4OJVBl"
      }
    },
    {
      "cell_type": "code",
      "source": [
        "embark_c_or_s = df[df['Embarked'].isin([\"C\",\"S\"])]\n",
        "print(embark_c_or_s.head())\n",
        "\n",
        "first_second_class = df[df['Pclass'].isin([1,2])]\n",
        "print(first_second_class.head())"
      ],
      "metadata": {
        "colab": {
          "base_uri": "https://localhost:8080/"
        },
        "id": "Rrbxed_Gn-DP",
        "outputId": "cfdaa28a-cc40-49c6-f5c1-cd043acfab01"
      },
      "execution_count": null,
      "outputs": [
        {
          "output_type": "stream",
          "name": "stdout",
          "text": [
            "   PassengerId  Survived  Pclass  \\\n",
            "0            1         0       3   \n",
            "1            2         1       1   \n",
            "2            3         1       3   \n",
            "3            4         1       1   \n",
            "4            5         0       3   \n",
            "\n",
            "                                                Name     Sex   Age  SibSp  \\\n",
            "0                            Braund, Mr. Owen Harris    male  22.0      1   \n",
            "1  Cumings, Mrs. John Bradley (Florence Briggs Th...  female  38.0      1   \n",
            "2                             Heikkinen, Miss. Laina  female  26.0      0   \n",
            "3       Futrelle, Mrs. Jacques Heath (Lily May Peel)  female  35.0      1   \n",
            "4                           Allen, Mr. William Henry    male  35.0      0   \n",
            "\n",
            "   Parch            Ticket     Fare Cabin Embarked  \n",
            "0      0         A/5 21171   7.2500   NaN        S  \n",
            "1      0          PC 17599  71.2833   C85        C  \n",
            "2      0  STON/O2. 3101282   7.9250   NaN        S  \n",
            "3      0            113803  53.1000  C123        S  \n",
            "4      0            373450   8.0500   NaN        S  \n",
            "    PassengerId  Survived  Pclass  \\\n",
            "1             2         1       1   \n",
            "3             4         1       1   \n",
            "6             7         0       1   \n",
            "9            10         1       2   \n",
            "11           12         1       1   \n",
            "\n",
            "                                                 Name     Sex   Age  SibSp  \\\n",
            "1   Cumings, Mrs. John Bradley (Florence Briggs Th...  female  38.0      1   \n",
            "3        Futrelle, Mrs. Jacques Heath (Lily May Peel)  female  35.0      1   \n",
            "6                             McCarthy, Mr. Timothy J    male  54.0      0   \n",
            "9                 Nasser, Mrs. Nicholas (Adele Achem)  female  14.0      1   \n",
            "11                           Bonnell, Miss. Elizabeth  female  58.0      0   \n",
            "\n",
            "    Parch    Ticket     Fare Cabin Embarked  \n",
            "1       0  PC 17599  71.2833   C85        C  \n",
            "3       0    113803  53.1000  C123        S  \n",
            "6       0     17463  51.8625   E46        S  \n",
            "9       0    237736  30.0708   NaN        C  \n",
            "11      0    113783  26.5500  C103        S  \n"
          ]
        }
      ]
    },
    {
      "cell_type": "markdown",
      "source": [
        "# Exercise 1:"
      ],
      "metadata": {
        "id": "A56cV8-tuM11"
      }
    },
    {
      "cell_type": "code",
      "source": [
        "df['fare_per_year'] = df['Fare'] / df['Age']\n",
        "print(df.head())\n",
        "\n",
        "high_fare_age = df[df['fare_per_year'] > 5]\n",
        "print(high_fare_age)\n",
        "\n",
        "high_fare_age_srt = high_fare_age.sort_values(by='fare_per_year', ascending=False)\n",
        "print(high_fare_age_srt)\n",
        "\n",
        "result = high_fare_age_srt[['Name', 'fare_per_year']]\n",
        "print(result)\n",
        "\n"
      ],
      "metadata": {
        "colab": {
          "base_uri": "https://localhost:8080/"
        },
        "id": "XiazYKsdtygk",
        "outputId": "90d3dd96-6ea8-4cd4-8bfd-e68801ea627b"
      },
      "execution_count": null,
      "outputs": [
        {
          "output_type": "stream",
          "name": "stdout",
          "text": [
            "   PassengerId  Survived  Pclass  \\\n",
            "0            1         0       3   \n",
            "1            2         1       1   \n",
            "2            3         1       3   \n",
            "3            4         1       1   \n",
            "4            5         0       3   \n",
            "\n",
            "                                                Name     Sex   Age  SibSp  \\\n",
            "0                            Braund, Mr. Owen Harris    male  22.0      1   \n",
            "1  Cumings, Mrs. John Bradley (Florence Briggs Th...  female  38.0      1   \n",
            "2                             Heikkinen, Miss. Laina  female  26.0      0   \n",
            "3       Futrelle, Mrs. Jacques Heath (Lily May Peel)  female  35.0      1   \n",
            "4                           Allen, Mr. William Henry    male  35.0      0   \n",
            "\n",
            "   Parch            Ticket     Fare Cabin Embarked  fare_per_year  \\\n",
            "0      0         A/5 21171   7.2500   NaN        S       0.329545   \n",
            "1      0          PC 17599  71.2833   C85        C       1.875876   \n",
            "2      0  STON/O2. 3101282   7.9250   NaN        S       0.304808   \n",
            "3      0            113803  53.1000  C123        S       1.517143   \n",
            "4      0            373450   8.0500   NaN        S       0.230000   \n",
            "\n",
            "   fare_per_class age_group  \n",
            "0        2.416667     Adult  \n",
            "1       71.283300     Adult  \n",
            "2        2.641667     Adult  \n",
            "3       53.100000     Adult  \n",
            "4        2.683333     Adult  \n",
            "     PassengerId  Survived  Pclass                                      Name  \\\n",
            "7              8         0       3            Palsson, Master. Gosta Leonard   \n",
            "16            17         0       3                      Rice, Master. Eugene   \n",
            "27            28         0       1            Fortune, Mr. Charles Alexander   \n",
            "43            44         1       2  Laroche, Miss. Simonne Marie Anne Andree   \n",
            "50            51         0       3                Panula, Master. Juha Niilo   \n",
            "..           ...       ...     ...                                       ...   \n",
            "813          814         0       3        Andersson, Miss. Ebba Iris Alfrida   \n",
            "824          825         0       3              Panula, Master. Urho Abraham   \n",
            "827          828         1       2                     Mallet, Master. Andre   \n",
            "831          832         1       2           Richards, Master. George Sibley   \n",
            "850          851         0       3   Andersson, Master. Sigvard Harald Elias   \n",
            "\n",
            "        Sex    Age  SibSp  Parch           Ticket      Fare        Cabin  \\\n",
            "7      male   2.00      3      1           349909   21.0750          NaN   \n",
            "16     male   2.00      4      1           382652   29.1250          NaN   \n",
            "27     male  19.00      3      2            19950  263.0000  C23 C25 C27   \n",
            "43   female   3.00      1      2    SC/Paris 2123   41.5792          NaN   \n",
            "50     male   7.00      4      1          3101295   39.6875          NaN   \n",
            "..      ...    ...    ...    ...              ...       ...          ...   \n",
            "813  female   6.00      4      2           347082   31.2750          NaN   \n",
            "824    male   2.00      4      1          3101295   39.6875          NaN   \n",
            "827    male   1.00      0      2  S.C./PARIS 2079   37.0042          NaN   \n",
            "831    male   0.83      1      1            29106   18.7500          NaN   \n",
            "850    male   4.00      4      2           347082   31.2750          NaN   \n",
            "\n",
            "    Embarked  fare_per_year  fare_per_class age_group  \n",
            "7          S      10.537500        7.025000     Child  \n",
            "16         Q      14.562500        9.708333     Child  \n",
            "27         S      13.842105      263.000000     Adult  \n",
            "43         C      13.859733       20.789600     Child  \n",
            "50         S       5.669643       13.229167     Child  \n",
            "..       ...            ...             ...       ...  \n",
            "813        S       5.212500       10.425000     Child  \n",
            "824        S      19.843750       13.229167     Child  \n",
            "827        C      37.004200       18.502100     Child  \n",
            "831        S      22.590361        9.375000     Child  \n",
            "850        S       7.818750       10.425000     Child  \n",
            "\n",
            "[68 rows x 15 columns]\n",
            "     PassengerId  Survived  Pclass                                    Name  \\\n",
            "305          306         1       1          Allison, Master. Hudson Trevor   \n",
            "297          298         0       1            Allison, Miss. Helen Loraine   \n",
            "386          387         0       3         Goodwin, Master. Sidney Leonard   \n",
            "164          165         0       3            Panula, Master. Eino Viljami   \n",
            "183          184         1       2               Becker, Master. Richard F   \n",
            "..           ...       ...     ...                                     ...   \n",
            "318          319         1       1                Wick, Miss. Mary Natalie   \n",
            "348          349         1       3  Coutts, Master. William Loch \"William\"   \n",
            "205          206         0       3              Strom, Miss. Telma Matilda   \n",
            "813          814         0       3      Andersson, Miss. Ebba Iris Alfrida   \n",
            "480          481         0       3          Goodwin, Master. Harold Victor   \n",
            "\n",
            "        Sex    Age  SibSp  Parch      Ticket      Fare    Cabin Embarked  \\\n",
            "305    male   0.92      1      2      113781  151.5500  C22 C26        S   \n",
            "297  female   2.00      1      2      113781  151.5500  C22 C26        S   \n",
            "386    male   1.00      5      2     CA 2144   46.9000      NaN        S   \n",
            "164    male   1.00      4      1     3101295   39.6875      NaN        S   \n",
            "183    male   1.00      2      1      230136   39.0000       F4        S   \n",
            "..      ...    ...    ...    ...         ...       ...      ...      ...   \n",
            "318  female  31.00      0      2       36928  164.8667       C7        S   \n",
            "348    male   3.00      1      1  C.A. 37671   15.9000      NaN        S   \n",
            "205  female   2.00      0      1      347054   10.4625       G6        S   \n",
            "813  female   6.00      4      2      347082   31.2750      NaN        S   \n",
            "480    male   9.00      5      2     CA 2144   46.9000      NaN        S   \n",
            "\n",
            "     fare_per_year  fare_per_class age_group  \n",
            "305     164.728261      151.550000     Child  \n",
            "297      75.775000      151.550000     Child  \n",
            "386      46.900000       15.633333     Child  \n",
            "164      39.687500       13.229167     Child  \n",
            "183      39.000000       19.500000     Child  \n",
            "..             ...             ...       ...  \n",
            "318       5.318281      164.866700     Adult  \n",
            "348       5.300000        5.300000     Child  \n",
            "205       5.231250        3.487500     Child  \n",
            "813       5.212500       10.425000     Child  \n",
            "480       5.211111       15.633333     Child  \n",
            "\n",
            "[68 rows x 15 columns]\n",
            "                                       Name  fare_per_year\n",
            "305          Allison, Master. Hudson Trevor     164.728261\n",
            "297            Allison, Miss. Helen Loraine      75.775000\n",
            "386         Goodwin, Master. Sidney Leonard      46.900000\n",
            "164            Panula, Master. Eino Viljami      39.687500\n",
            "183               Becker, Master. Richard F      39.000000\n",
            "..                                      ...            ...\n",
            "318                Wick, Miss. Mary Natalie       5.318281\n",
            "348  Coutts, Master. William Loch \"William\"       5.300000\n",
            "205              Strom, Miss. Telma Matilda       5.231250\n",
            "813      Andersson, Miss. Ebba Iris Alfrida       5.212500\n",
            "480          Goodwin, Master. Harold Victor       5.211111\n",
            "\n",
            "[68 rows x 2 columns]\n"
          ]
        }
      ]
    },
    {
      "cell_type": "code",
      "source": [
        "df['fare_per_class'] = df['Fare'] / df['Pclass']\n",
        "print(df.head())\n",
        "\n",
        "adult_males = df[(df['Age']>=18) & (df['Sex'] == \"male\")]\n",
        "print(adult_males)\n",
        "\n",
        "adult_males_srt = adult_males.sort_values(by='fare_per_class', ascending=False)\n",
        "print(adult_males_srt)\n",
        "\n",
        "result = adult_males_srt[['Name', 'fare_per_class']]\n",
        "print(result)\n"
      ],
      "metadata": {
        "colab": {
          "base_uri": "https://localhost:8080/"
        },
        "id": "uN5of70K2g_Y",
        "outputId": "718e4f47-f9b7-4e73-9759-ddd8f1b1c8f9"
      },
      "execution_count": null,
      "outputs": [
        {
          "output_type": "stream",
          "name": "stdout",
          "text": [
            "   PassengerId  Survived  Pclass  \\\n",
            "0            1         0       3   \n",
            "1            2         1       1   \n",
            "2            3         1       3   \n",
            "3            4         1       1   \n",
            "4            5         0       3   \n",
            "\n",
            "                                                Name     Sex   Age  SibSp  \\\n",
            "0                            Braund, Mr. Owen Harris    male  22.0      1   \n",
            "1  Cumings, Mrs. John Bradley (Florence Briggs Th...  female  38.0      1   \n",
            "2                             Heikkinen, Miss. Laina  female  26.0      0   \n",
            "3       Futrelle, Mrs. Jacques Heath (Lily May Peel)  female  35.0      1   \n",
            "4                           Allen, Mr. William Henry    male  35.0      0   \n",
            "\n",
            "   Parch            Ticket     Fare Cabin Embarked  fare_per_class  \n",
            "0      0         A/5 21171   7.2500   NaN        S        2.416667  \n",
            "1      0          PC 17599  71.2833   C85        C       71.283300  \n",
            "2      0  STON/O2. 3101282   7.9250   NaN        S        2.641667  \n",
            "3      0            113803  53.1000  C123        S       53.100000  \n",
            "4      0            373450   8.0500   NaN        S        2.683333  \n",
            "     PassengerId  Survived  Pclass                            Name   Sex  \\\n",
            "0              1         0       3         Braund, Mr. Owen Harris  male   \n",
            "4              5         0       3        Allen, Mr. William Henry  male   \n",
            "6              7         0       1         McCarthy, Mr. Timothy J  male   \n",
            "12            13         0       3  Saundercock, Mr. William Henry  male   \n",
            "13            14         0       3     Andersson, Mr. Anders Johan  male   \n",
            "..           ...       ...     ...                             ...   ...   \n",
            "883          884         0       2   Banfield, Mr. Frederick James  male   \n",
            "884          885         0       3          Sutehall, Mr. Henry Jr  male   \n",
            "886          887         0       2           Montvila, Rev. Juozas  male   \n",
            "889          890         1       1           Behr, Mr. Karl Howell  male   \n",
            "890          891         0       3             Dooley, Mr. Patrick  male   \n",
            "\n",
            "      Age  SibSp  Parch            Ticket     Fare Cabin Embarked  \\\n",
            "0    22.0      1      0         A/5 21171   7.2500   NaN        S   \n",
            "4    35.0      0      0            373450   8.0500   NaN        S   \n",
            "6    54.0      0      0             17463  51.8625   E46        S   \n",
            "12   20.0      0      0         A/5. 2151   8.0500   NaN        S   \n",
            "13   39.0      1      5            347082  31.2750   NaN        S   \n",
            "..    ...    ...    ...               ...      ...   ...      ...   \n",
            "883  28.0      0      0  C.A./SOTON 34068  10.5000   NaN        S   \n",
            "884  25.0      0      0   SOTON/OQ 392076   7.0500   NaN        S   \n",
            "886  27.0      0      0            211536  13.0000   NaN        S   \n",
            "889  26.0      0      0            111369  30.0000  C148        C   \n",
            "890  32.0      0      0            370376   7.7500   NaN        Q   \n",
            "\n",
            "     fare_per_class  \n",
            "0          2.416667  \n",
            "4          2.683333  \n",
            "6         51.862500  \n",
            "12         2.683333  \n",
            "13        10.425000  \n",
            "..              ...  \n",
            "883        5.250000  \n",
            "884        2.350000  \n",
            "886        6.500000  \n",
            "889       30.000000  \n",
            "890        2.583333  \n",
            "\n",
            "[395 rows x 13 columns]\n",
            "     PassengerId  Survived  Pclass                                Name   Sex  \\\n",
            "737          738         1       1              Lesurer, Mr. Gustave J  male   \n",
            "679          680         1       1  Cardeza, Mr. Thomas Drake Martinez  male   \n",
            "27            28         0       1      Fortune, Mr. Charles Alexander  male   \n",
            "438          439         0       1                   Fortune, Mr. Mark  male   \n",
            "118          119         0       1            Baxter, Mr. Quigg Edmond  male   \n",
            "..           ...       ...     ...                                 ...   ...   \n",
            "271          272         1       3        Tornquist, Mr. William Henry  male   \n",
            "179          180         0       3                 Leonard, Mr. Lionel  male   \n",
            "302          303         0       3     Johnson, Mr. William Cahoone Jr  male   \n",
            "822          823         0       1     Reuchlin, Jonkheer. John George  male   \n",
            "806          807         0       1              Andrews, Mr. Thomas Jr  male   \n",
            "\n",
            "      Age  SibSp  Parch    Ticket      Fare        Cabin Embarked  \\\n",
            "737  35.0      0      0  PC 17755  512.3292         B101        C   \n",
            "679  36.0      0      1  PC 17755  512.3292  B51 B53 B55        C   \n",
            "27   19.0      3      2     19950  263.0000  C23 C25 C27        S   \n",
            "438  64.0      1      4     19950  263.0000  C23 C25 C27        S   \n",
            "118  24.0      0      1  PC 17558  247.5208      B58 B60        C   \n",
            "..    ...    ...    ...       ...       ...          ...      ...   \n",
            "271  25.0      0      0      LINE    0.0000          NaN        S   \n",
            "179  36.0      0      0      LINE    0.0000          NaN        S   \n",
            "302  19.0      0      0      LINE    0.0000          NaN        S   \n",
            "822  38.0      0      0     19972    0.0000          NaN        S   \n",
            "806  39.0      0      0    112050    0.0000          A36        S   \n",
            "\n",
            "     fare_per_class  \n",
            "737        512.3292  \n",
            "679        512.3292  \n",
            "27         263.0000  \n",
            "438        263.0000  \n",
            "118        247.5208  \n",
            "..              ...  \n",
            "271          0.0000  \n",
            "179          0.0000  \n",
            "302          0.0000  \n",
            "822          0.0000  \n",
            "806          0.0000  \n",
            "\n",
            "[395 rows x 13 columns]\n",
            "                                   Name  fare_per_class\n",
            "737              Lesurer, Mr. Gustave J        512.3292\n",
            "679  Cardeza, Mr. Thomas Drake Martinez        512.3292\n",
            "27       Fortune, Mr. Charles Alexander        263.0000\n",
            "438                   Fortune, Mr. Mark        263.0000\n",
            "118            Baxter, Mr. Quigg Edmond        247.5208\n",
            "..                                  ...             ...\n",
            "271        Tornquist, Mr. William Henry          0.0000\n",
            "179                 Leonard, Mr. Lionel          0.0000\n",
            "302     Johnson, Mr. William Cahoone Jr          0.0000\n",
            "822     Reuchlin, Jonkheer. John George          0.0000\n",
            "806              Andrews, Mr. Thomas Jr          0.0000\n",
            "\n",
            "[395 rows x 2 columns]\n"
          ]
        }
      ]
    },
    {
      "cell_type": "markdown",
      "source": [
        "# Exploratory Data Analysis with Group-by Method Practice Exercise:"
      ],
      "metadata": {
        "id": "k_L5mKBf6bnB"
      }
    },
    {
      "cell_type": "markdown",
      "source": [
        "## What percent of the total fare revenue came from each passenger class?"
      ],
      "metadata": {
        "id": "4Fqs6-aYCXs4"
      }
    },
    {
      "cell_type": "code",
      "source": [
        "total = df.groupby('Pclass')['Fare'].sum()\n",
        "print(\"Total fare by class: \",total)\n",
        "\n",
        "total_fare_Pclass_1 = df.groupby('Pclass').get_group(1)['Fare'].sum()\n",
        "print(\"Total fare by class 1: \",total_fare_Pclass_1)\n",
        "\n",
        "total_fare_Pclass_2 = df.groupby('Pclass').get_group(2)['Fare'].sum()\n",
        "print(\"Total fare by class 2: \",total_fare_Pclass_2)\n",
        "\n",
        "total_fare_Pclass_3 = df.groupby('Pclass').get_group(3)['Fare'].sum()\n",
        "print(\"Total fare by class 3: \",total_fare_Pclass_3)\n",
        "\n",
        "fare_totals = sum([total_fare_Pclass_1,total_fare_Pclass_2,total_fare_Pclass_3])\n",
        "print(\"Total fare: \",fare_totals)\n",
        "\n",
        "proportion_fare_Pclass_1 = total_fare_Pclass_1 / fare_totals\n",
        "print(\"Proportion of fare by class 1: \",proportion_fare_Pclass_1)\n",
        "\n",
        "proportion_fare_Pclass_2 = total_fare_Pclass_1 / fare_totals\n",
        "print(\"Proportion of fare by class 2: \",proportion_fare_Pclass_2)\n",
        "\n",
        "proportion_fare_Pclass_3 = total_fare_Pclass_1 / fare_totals\n",
        "print(\"Proportion of fare by class 3: \",proportion_fare_Pclass_3)\n"
      ],
      "metadata": {
        "colab": {
          "base_uri": "https://localhost:8080/"
        },
        "id": "clngfY_J6QvW",
        "outputId": "ee7c012f-456b-4a21-e804-c2e039ba898d"
      },
      "execution_count": null,
      "outputs": [
        {
          "output_type": "stream",
          "name": "stdout",
          "text": [
            "Total fare by class:  Pclass\n",
            "1    18177.4125\n",
            "2     3801.8417\n",
            "3     6714.6951\n",
            "Name: Fare, dtype: float64\n",
            "Total fare by class 1:  18177.4125\n",
            "Total fare by class 2:  3801.8417\n",
            "Total fare by class 3:  6714.6951\n",
            "Total fare:  28693.9493\n",
            "Proportion of fare by class 1:  0.6334928771899656\n",
            "Proportion of fare by class 2:  0.6334928771899656\n",
            "Proportion of fare by class 3:  0.6334928771899656\n"
          ]
        }
      ]
    },
    {
      "cell_type": "markdown",
      "source": [
        "## What percent of the total number of passengers on the Titanic belonged to each age group(e.g., child, adult, senior)?"
      ],
      "metadata": {
        "id": "-yjayBwKCcct"
      }
    },
    {
      "cell_type": "code",
      "source": [
        "def categorize_age(age):\n",
        "  if pd.isna(age):\n",
        "    return \"Unknown\"\n",
        "  elif age < 18:\n",
        "    return \"Child\"\n",
        "  elif age < 65:\n",
        "    return \"Adult\"\n",
        "  else:\n",
        "    return \"Senoir\"\n",
        "\n",
        "df['age_group'] = df['Age'].apply(categorize_age)\n",
        "\n",
        "total_passanger = len(df)\n",
        "\n",
        "no_of_passanger_in_each_age_group = df.groupby('age_group')['Name'].count()\n",
        "print(no_of_passanger_in_each_age_group)\n",
        "\n",
        "age_group_proportion = (no_of_passanger_in_each_age_group / total_passanger)*100\n",
        "print(age_group_proportion)\n"
      ],
      "metadata": {
        "colab": {
          "base_uri": "https://localhost:8080/"
        },
        "id": "wAmqd7_R8Agf",
        "outputId": "7e65232f-c8de-4dd4-dc9b-bba3b41f8e18"
      },
      "execution_count": null,
      "outputs": [
        {
          "output_type": "stream",
          "name": "stdout",
          "text": [
            "age_group\n",
            "Adult      590\n",
            "Child      113\n",
            "Senoir      11\n",
            "Unknown    177\n",
            "Name: Name, dtype: int64\n",
            "age_group\n",
            "Adult      66.217733\n",
            "Child      12.682379\n",
            "Senoir      1.234568\n",
            "Unknown    19.865320\n",
            "Name: Name, dtype: float64\n"
          ]
        }
      ]
    },
    {
      "cell_type": "code",
      "source": [],
      "metadata": {
        "id": "hI5vyiGsFWGw"
      },
      "execution_count": null,
      "outputs": []
    }
  ]
}