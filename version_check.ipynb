{
 "cells": [
  {
   "cell_type": "code",
   "execution_count": 7,
   "id": "8bea48dc-7770-460f-afc6-96e6eb517136",
   "metadata": {},
   "outputs": [
    {
     "name": "stdout",
     "output_type": "stream",
     "text": [
      "Hello, World!\n",
      "Python version: 3.12.7 | packaged by Anaconda, Inc. | (main, Oct  4 2024, 13:17:27) [MSC v.1929 64 bit (AMD64)]\n"
     ]
    }
   ],
   "source": [
    "import sys\n",
    "# Check Python Version\n",
    "if sys.version_info.major == 3 and sys.version_info.minor >= 6:\n",
    "    print (\"Hello, World!\")\n",
    "    print (f\"Python version: {sys.version}\")\n",
    "else:\n",
    "    print (\"Please use Python 3.6 or higher.\")"
   ]
  },
  {
   "cell_type": "code",
   "execution_count": 9,
   "id": "466a3803-0aa5-45b3-9605-21bf87fde1ee",
   "metadata": {},
   "outputs": [
    {
     "name": "stdout",
     "output_type": "stream",
     "text": [
      "Data type of variable age is  <class 'int'>\n",
      "Data type of variable pi is  <class 'float'>\n",
      "Data type of variable temperature is  <class 'float'>\n"
     ]
    }
   ],
   "source": [
    "age = 23 #int\n",
    "pi = 3.14 #float\n",
    "temperature = -5.5 #float\n",
    "print(\"Data type of variable age is \",type(age))\n",
    "print(\"Data type of variable pi is \",type(pi))\n",
    "print(\"Data type of variable temperature is \",type(temperature))"
   ]
  },
  {
   "cell_type": "code",
   "execution_count": 17,
   "id": "d88dfe7a-1c73-447b-93fe-db69ad1673a2",
   "metadata": {},
   "outputs": [
    {
     "name": "stdout",
     "output_type": "stream",
     "text": [
      "data type of the variable name =  <class 'str'>\n",
      "data type of the variable greeting =  <class 'str'>\n",
      "data type of the variable address =  <class 'str'>\n",
      "The first letter of the name is: A\n",
      "The last letter of the name is: e\n",
      "The second letter to the fourth of the name is: lic\n",
      "The first two letters of the name are: Al\n",
      "Substring starting from the third letter is: ice\n"
     ]
    }
   ],
   "source": [
    " name = \"Alice\"\n",
    " greeting = \"Hello\"\n",
    " address = \"123 Main St\"\n",
    " print(\"data type of the variable name = \",type(name))\n",
    " print(\"data type of the variable greeting = \",type(greeting))\n",
    " print(\"data type of the variable address = \",type(address))\n",
    " # slice only one element\n",
    " print(\"The first letter of the name is:\", name[0])\n",
    " print(\"The last letter of the name is:\", name[-1])\n",
    " # slice a range of elements\n",
    " print(\"The second letter to the fourth of the name is:\", name[1:4])\n",
    " print(\"The first two letters of the name are:\", name[:2])\n",
    " print(\"Substring starting from the third letter is:\", name[2:])"
   ]
  },
  {
   "cell_type": "code",
   "execution_count": 19,
   "id": "465db737-98a7-4da3-b021-12e473e08438",
   "metadata": {},
   "outputs": [
    {
     "data": {
      "text/plain": [
       "[False, 'Hello', True]"
      ]
     },
     "execution_count": 19,
     "metadata": {},
     "output_type": "execute_result"
    }
   ],
   "source": [
    " list1 = [1, 2, 3, 4]\n",
    " mixed_list = [12, \"Hello\", True]\n",
    " # List is mutable\n",
    " mixed_list[0] = False\n",
    " mixed_list"
   ]
  },
  {
   "cell_type": "code",
   "execution_count": 31,
   "id": "d3060696-d624-4cf3-8e4b-18e9e47a3625",
   "metadata": {},
   "outputs": [
    {
     "name": "stdout",
     "output_type": "stream",
     "text": [
      "First element: red\n",
      "Last two elements: ('yellow', 'blue')\n",
      "Middle two elements: ('green', 'yellow')\n"
     ]
    },
    {
     "data": {
      "text/plain": [
       "('red', 'green', 'yellow', 'blue')"
      ]
     },
     "execution_count": 31,
     "metadata": {},
     "output_type": "execute_result"
    }
   ],
   "source": [
    "colors = ('red', 'green', 'yellow', 'blue')\n",
    "print(\"First element:\", colors[0])\n",
    "print(\"Last two elements:\", colors[2:])\n",
    "print(\"Middle two elements:\", colors[1:3])\n",
    "colors[0] = 'purple'\n",
    "colors # will generate an error as tuple is immutable."
   ]
  },
  {
   "cell_type": "code",
   "execution_count": 35,
   "id": "6889c90e-28dd-45e0-8b1f-473d1cdd23a4",
   "metadata": {},
   "outputs": [
    {
     "name": "stdout",
     "output_type": "stream",
     "text": [
      "Hello my name is John. I am 30 years old and I live at Pittsburgh.\n",
      "All keys: ['name', 'age', 'city']\n",
      "All values: ['John', 30, 'Pittsburgh']\n"
     ]
    }
   ],
   "source": [
    "person = {'name':'John','age':30,'city':'Pittsburgh'}\n",
    "print(f\"Hello my name is {person['name']}. I am {person['age']} years old and I live at {person['city']}.\")\n",
    "print(\"All keys:\", list(person.keys()))\n",
    "print(\"All values:\", list(person.values()))"
   ]
  },
  {
   "cell_type": "code",
   "execution_count": 37,
   "id": "e831290c-8b11-4c48-bc2c-f7cabc83dc7e",
   "metadata": {
    "collapsed": true,
    "jupyter": {
     "outputs_hidden": true
    }
   },
   "outputs": [
    {
     "name": "stdout",
     "output_type": "stream",
     "text": [
      "{1, 2, 3, 4, 5}\n"
     ]
    }
   ],
   "source": [
    "unique_numbers = {1,2,3,3,3,3,4,5}\n",
    "print(unique_numbers)"
   ]
  },
  {
   "cell_type": "code",
   "execution_count": 39,
   "id": "a26fbe02-ccd7-4f82-ab7e-d23e35d1bdb5",
   "metadata": {
    "collapsed": true,
    "jupyter": {
     "outputs_hidden": true
    }
   },
   "outputs": [
    {
     "name": "stdout",
     "output_type": "stream",
     "text": [
      "data type of the variable is_student =  <class 'bool'>\n",
      "data type of the variable has_license =  <class 'bool'>\n"
     ]
    }
   ],
   "source": [
    "is_student = True\n",
    "has_license = False\n",
    "print(\"data type of the variable is_student = \",type(is_student))\n",
    "print(\"data type of the variable has_license = \",type(has_license))"
   ]
  },
  {
   "cell_type": "code",
   "execution_count": 41,
   "id": "0f21a621-8aa6-41a7-aa6f-b69eaa9b13f2",
   "metadata": {},
   "outputs": [],
   "source": [
    " result = None"
   ]
  },
  {
   "cell_type": "code",
   "execution_count": 4,
   "id": "e125072a-3dab-4183-a0a3-35441013bf62",
   "metadata": {},
   "outputs": [
    {
     "name": "stdout",
     "output_type": "stream",
     "text": [
      "Positive\n"
     ]
    }
   ],
   "source": [
    "num = 10\n",
    "if num > 0:\n",
    "    print(\"Positive\")\n",
    "elif num == 0:\n",
    "    print(\"Zero\")\n",
    "else:\n",
    "    print(\"Non-positive\")"
   ]
  },
  {
   "cell_type": "code",
   "execution_count": 6,
   "id": "a9959a0f-3aa5-4826-94ac-d690ecc2df14",
   "metadata": {},
   "outputs": [
    {
     "name": "stdout",
     "output_type": "stream",
     "text": [
      "Both conditions are true\n",
      "At least one condition is true\n",
      "x is not equal to 0\n"
     ]
    }
   ],
   "source": [
    "x = 5\n",
    "y = 10 \n",
    "if x > 0 and y < 20:\n",
    "    print(\"Both conditions are true\")\n",
    "if x > 0 or y > 20:\n",
    "    print(\"At least one condition is true\")\n",
    "if not x == 0:\n",
    "    print(\"x is not equal to 0\")"
   ]
  },
  {
   "cell_type": "code",
   "execution_count": 12,
   "id": "571b0206-1df5-4356-8c12-3e689a3121ee",
   "metadata": {},
   "outputs": [
    {
     "name": "stdout",
     "output_type": "stream",
     "text": [
      "Either a or b is False\n",
      "At least one of a or b is True\n",
      "a is True\n"
     ]
    }
   ],
   "source": [
    " # Define two boolean variables\n",
    "a = True\n",
    "b = False\n",
    " # Using the ’and’ operator\n",
    "if a and b:\n",
    "    print(\"Both a and b are True\")\n",
    "else:\n",
    "    print(\"Either a or b is False\") # This will be printed\n",
    " # Using the ’or’ operator\n",
    "if a or b:\n",
    "    print(\"At least one of a or b is True\") # This will be printed\n",
    "else:\n",
    "    print(\"Both a and b are False\")\n",
    " # Using the ’not’ operator\n",
    "if not a:\n",
    "    print(\"a is False\") # This will not be printed\n",
    "else:\n",
    "    print(\"a is True\") # This will be printed"
   ]
  },
  {
   "cell_type": "code",
   "execution_count": 14,
   "id": "df88ede1-6a1f-44bd-b1f9-e474323180a9",
   "metadata": {},
   "outputs": [
    {
     "name": "stdout",
     "output_type": "stream",
     "text": [
      "apple\n",
      "banana\n",
      "cherry\n",
      "Count is: 0\n",
      "Count is: 1\n",
      "Count is: 2\n",
      "Count is: 3\n",
      "Count is: 4\n",
      "loop 1\n",
      "apple\n",
      "loop 2\n",
      "orange\n"
     ]
    }
   ],
   "source": [
    " # for loop:\n",
    "fruits = [\"apple\", \"banana\",\"cherry\"]\n",
    "for fruit in fruits:\n",
    "    print(fruit)\n",
    " # While loop:\n",
    "    count = 0\n",
    "while count < 5:\n",
    "    print(\"Count is:\", count)\n",
    "    count += 1\n",
    " # Break\n",
    "fruits = [\"apple\", \"banana\", \"orange\"]\n",
    "print(\"loop 1\")\n",
    "for fruit in fruits:\n",
    "    print(fruit)\n",
    "    if fruit == \"apple\":\n",
    "        break\n",
    " # Continiue\n",
    "print(\"loop 2\")\n",
    "for fruit in fruits:\n",
    "    if fruit == \"apple\":\n",
    "        continue\n",
    "else:\n",
    "    print(fruit)"
   ]
  },
  {
   "cell_type": "code",
   "execution_count": 26,
   "id": "a91d9760-d54a-4057-ae28-64c8c50e0a2b",
   "metadata": {},
   "outputs": [],
   "source": [
    "def add_binary(a, b):\n",
    "    '''\n",
    " Returns the sum of two decimal numbers in binary digits.\n",
    " Parameters:\n",
    " a (int): A decimal integer\n",
    " b (int): Another decimal integer\n",
    " Returns:\n",
    " binary_sum (str): Binary string of the sum of a and b\n",
    "     '''\n",
    "    binary_sum = bin(a+b)[2:]\n",
    "    return binary_sum"
   ]
  },
  {
   "cell_type": "code",
   "execution_count": 42,
   "id": "bb094e34-1a55-43e5-a639-8daf52674089",
   "metadata": {},
   "outputs": [
    {
     "name": "stdout",
     "output_type": "stream",
     "text": [
      "Hello, World!\n",
      "5\n",
      "<class 'int'>\n",
      "6\n"
     ]
    }
   ],
   "source": [
    "print(\"Hello, World!\") # Output: Hello, World!\n",
    "print(len(\"Hello\")) # Output: 5\n",
    "print(type(42)) # Output: <class ’int’>\n",
    "print(sum([1, 2, 3]))\n"
   ]
  },
  {
   "cell_type": "code",
   "execution_count": 44,
   "id": "233a1d3d-d453-423e-9c81-719b7c455cef",
   "metadata": {},
   "outputs": [],
   "source": [
    "#str.upper():Convertsallcharactersinastringtouppercase.\n",
    "message=\"hello\".upper()#Output:\"HELLO\"\n",
    " #list.append():Addsanelementtotheendofalist.\n",
    "fruits=[\"apple\",\"banana\"]\n",
    "fruits.append(\"cherry\")#Output:[\"apple\",\"banana\",\"cherry\"]\n",
    " #dict.get():Returnsthevalueassociatedwithakeyinadictionary.\n",
    "info={\"name\":\"Alice\",\"age\":25}\n",
    "age=info.get(\"age\")#Output:25"
   ]
  },
  {
   "cell_type": "code",
   "execution_count": 67,
   "id": "cb57a4ff-6528-4362-8d48-73876ae48afe",
   "metadata": {},
   "outputs": [
    {
     "name": "stdout",
     "output_type": "stream",
     "text": [
      "Choose conversion type:\n",
      "1.Celsius to Fahrenheit\n",
      "2.Fahrenheit to Celsius\n"
     ]
    },
    {
     "name": "stdin",
     "output_type": "stream",
     "text": [
      "Enter 1 or 2: 1\n",
      "Enter temperature in Celsius: 37\n"
     ]
    },
    {
     "name": "stdout",
     "output_type": "stream",
     "text": [
      "37.0C is equal to 98.6F\n"
     ]
    },
    {
     "data": {
      "text/plain": [
       "98.6"
      ]
     },
     "execution_count": 67,
     "metadata": {},
     "output_type": "execute_result"
    }
   ],
   "source": [
    "def temperature_converter():\n",
    "    \"\"\"\n",
    " Converts temperaturebetweenCelsiusandFahrenheit.\n",
    " Thisfunctionpromptstheuser tospecifytheconversiontype(CelsiustoFahrenheit\n",
    " or FahrenheittoCelsius)\n",
    " andthen asksforthetemperaturevalue.Itcalculatesandreturnstheconverted\n",
    " temperature.\n",
    " Returns:\n",
    " float:Theconvertedtemperaturevalue.\n",
    "    \"\"\"\n",
    "    print(\"Choose conversion type:\")\n",
    "    print(\"1.Celsius to Fahrenheit\")\n",
    "    print(\"2.Fahrenheit to Celsius\")\n",
    " #Getconversionchoicefromuser\n",
    "    choice = input(\"Enter 1 or 2:\")\n",
    "    if choice==\"1\":\n",
    " #CelsiustoFahrenheitconversion\n",
    "        celsius=float(input(\"Enter temperature in Celsius:\"))\n",
    "        fahrenheit=(celsius*9/5) +32\n",
    "        print(f\"{celsius}C is equal to {fahrenheit}F\")\n",
    "        return fahrenheit\n",
    "    elif choice==\"2\":\n",
    " #FahrenheittoCelsiusconversion\n",
    "        fahrenheit=float(input(\"Enter temperature in Fahrenheit:\"))\n",
    "        celsius=(fahrenheit-32)*5/9\n",
    "        print(f\"{fahrenheit}F is equal to {celsius}C\")\n",
    "        return celsius\n",
    "    else:\n",
    "        print(\"Invalid choice. Please enter 1 or 2.\")\n",
    "        return None\n",
    " # Call the function\n",
    "temperature_converter()"
   ]
  },
  {
   "cell_type": "code",
   "execution_count": 69,
   "id": "9753eceb-6450-45ae-b745-dd7e89ca3951",
   "metadata": {},
   "outputs": [
    {
     "name": "stdout",
     "output_type": "stream",
     "text": [
      "10\n"
     ]
    }
   ],
   "source": [
    "x = 10 # Global Variable.\n",
    "def print_global():\n",
    "    print(x) # Accessing global variable\n",
    "print_global() # Output: 10"
   ]
  },
  {
   "cell_type": "code",
   "execution_count": 71,
   "id": "0c23a3b4-e258-459b-ae89-c4310f62a625",
   "metadata": {},
   "outputs": [
    {
     "name": "stdout",
     "output_type": "stream",
     "text": [
      "20\n"
     ]
    }
   ],
   "source": [
    "x = 10 # Global variable\n",
    "def modify_global():\n",
    "    global x # Declaring x as global\n",
    "    x = 20 # Modifying global x\n",
    "modify_global()\n",
    "print(x) # Output: 20"
   ]
  },
  {
   "cell_type": "code",
   "execution_count": 77,
   "id": "10b78e5f-049e-4a04-adb3-7b7c7f1eb639",
   "metadata": {},
   "outputs": [
    {
     "name": "stdout",
     "output_type": "stream",
     "text": [
      "120\n"
     ]
    }
   ],
   "source": [
    "def factorial(n):\n",
    "    \"\"\"\n",
    " Calculate the factorial of a non-negative integer n.\n",
    " The factorial of a number n (denoted n!) is the product of all positive integers less\n",
    " than or equal to n.\n",
    " Specifically:- If n is 0, the factorial is defined as 1 (base case).- For any positive integer n, the factorial is calculated recursively as n * (n-1)\n",
    " * (n-2) * ... * 1.\n",
    " Args:\n",
    " n (int): A non-negative integer for which to calculate the factorial.\n",
    " Returns:\n",
    " int: The factorial of the input number n.\n",
    " Raises:\n",
    " ValueError: If the input n is a negative integer, as factorial is only defined for\n",
    " non-negative integers.\n",
    " \"\"\"\n",
    "    if n == 0: # Base case\n",
    "         return 1\n",
    "    else: # Recursive case\n",
    "         return n * factorial(n- 1)\n",
    "print(factorial(5));"
   ]
  },
  {
   "cell_type": "code",
   "execution_count": 93,
   "id": "37f8f2f5-5126-4c42-9a0d-66b01feda701",
   "metadata": {},
   "outputs": [],
   "source": [
    " #Sampledirectorystructure\n",
    "directory_structure={\"file1.txt\":200,\"file2.txt\":300,\"subdir1\":\n",
    "                     {\"file3.txt\":400,\"file4.txt\":100},\"subdir2\":\n",
    "                     {\"subsubdir1\":\n",
    "                      {\"file5.txt\":250}, \"file6.txt\": 150}\n",
    "                    }"
   ]
  },
  {
   "cell_type": "code",
   "execution_count": 103,
   "id": "3ddfebbb-7d82-45f1-9356-26f2b57603ba",
   "metadata": {},
   "outputs": [
    {
     "data": {
      "text/plain": [
       "5"
      ]
     },
     "execution_count": 103,
     "metadata": {},
     "output_type": "execute_result"
    }
   ],
   "source": [
    " def fibonacci(n,memo={}):\n",
    "     \"\"\"\n",
    "     Computes thenthFibonaccinumberusingmemoizationtooptimizetherecursive\n",
    "     solution.Thisfunctionusesmemoization tostorepreviouslycomputedFibonaccinumbers,\n",
    "     reducingredundantcalculationsandimprovingperformance.\n",
    "     Parameters:\n",
    "     n(int): TheindexintheFibonaccisequenceforwhichthevalueistobecomputed.\n",
    "     Mustbeanon-negative integer.\n",
    "     memo(dict,optional):AdictionaryusedtostorepreviouslycomputedFibonacci\n",
    "     values.\n",
    "     Itisinitializedasanemptydictionarybydefaultandisused\n",
    "     duringtherecursivecallstoavoidrecalculatingresults.\n",
    "     Returns:\n",
    "     int:The nthFibonaccinumber.\n",
    "     Example:\n",
    "     >>>fibonacci(5)\n",
    "     5\n",
    "     >>>fibonacci(10)\n",
    "     55\n",
    "     TimeComplexity:-ThetimecomplexityisO(n)becauseeachFibonaccinumberiscomputedonlyonce.\n",
    "     SpaceComplexity:-ThespacecomplexityisO(n) duetothememoizationdictionarystoringtheresults.\n",
    "     \"\"\"\n",
    "     if n in memo:\n",
    "         return memo[n]\n",
    "     if n<=1:\n",
    "         return n\n",
    "     memo[n]=fibonacci(n-1,memo) +fibonacci(n-2,memo)\n",
    "     return memo[n]\n",
    "fibonacci(5)"
   ]
  },
  {
   "cell_type": "code",
   "execution_count": 113,
   "id": "2354e416-2d00-4988-883f-6d828c34b51f",
   "metadata": {},
   "outputs": [
    {
     "data": {
      "text/plain": [
       "5"
      ]
     },
     "execution_count": 113,
     "metadata": {},
     "output_type": "execute_result"
    }
   ],
   "source": [
    "def fibonacci(n):\n",
    "    \"\"\"\n",
    "    Computes thenthFibonaccinumberusingdynamicprogrammingtooptimizethesolution.\n",
    "    Thisfunctionusesabottom-up dynamicprogrammingapproachtocalculatethenth\n",
    "    Fibonacci\n",
    "    number byiterativelybuilding upanarrayofFibonaccinumbersupton,thus\n",
    "    eliminating\n",
    "    redundantcalculationsandoptimizingperformance.\n",
    "    Parameters:\n",
    "    n (int): The index in the Fibonacci sequence for which the value is to be computed.\n",
    "    Must be a non-negative integer.\n",
    "    Returns:\n",
    "    int: The nth Fibonacci number.\n",
    "    Example:\n",
    "    >>> fibonacci(5)\n",
    "    5\n",
    "    >>> fibonacci(10)\n",
    "    55\n",
    "    Time Complexity:- The time complexity is O(n), as the function iterates through the range 2 to n,\n",
    "    calculating\n",
    "    each Fibonacci number once.\n",
    "    Space Complexity:- The space complexity is O(n), due to the array used to store the Fibonacci numbers\n",
    "    up to n.\n",
    "    \"\"\"\n",
    "    if n <= 1:\n",
    "        return n\n",
    "    else:\n",
    "        dp = [0] * (n + 1)\n",
    "        dp[1] = 1\n",
    "        for i in range(2, n + 1):\n",
    "            dp[i] = dp[i- 1] + dp[i- 2]\n",
    "        return dp[n]\n",
    "fibonacci(5)"
   ]
  },
  {
   "cell_type": "code",
   "execution_count": 115,
   "id": "349daf66-e279-4e54-804b-85593057f9fd",
   "metadata": {},
   "outputs": [
    {
     "name": "stdout",
     "output_type": "stream",
     "text": [
      "<class 'list'>\n"
     ]
    }
   ],
   "source": [
    "list=[]\n",
    "print(type(list))"
   ]
  },
  {
   "cell_type": "code",
   "execution_count": null,
   "id": "377d31ce-2c26-45fc-8f73-dfa4b9492ed0",
   "metadata": {},
   "outputs": [],
   "source": []
  }
 ],
 "metadata": {
  "kernelspec": {
   "display_name": "Python 3 (ipykernel)",
   "language": "python",
   "name": "python3"
  },
  "language_info": {
   "codemirror_mode": {
    "name": "ipython",
    "version": 3
   },
   "file_extension": ".py",
   "mimetype": "text/x-python",
   "name": "python",
   "nbconvert_exporter": "python",
   "pygments_lexer": "ipython3",
   "version": "3.12.7"
  }
 },
 "nbformat": 4,
 "nbformat_minor": 5
}
