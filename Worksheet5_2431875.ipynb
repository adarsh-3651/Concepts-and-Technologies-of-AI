{
  "nbformat": 4,
  "nbformat_minor": 0,
  "metadata": {
    "colab": {
      "provenance": []
    },
    "kernelspec": {
      "name": "python3",
      "display_name": "Python 3"
    },
    "language_info": {
      "name": "python"
    }
  },
  "cells": [
    {
      "cell_type": "code",
      "execution_count": null,
      "metadata": {
        "id": "3iTdoCyO7sJf"
      },
      "outputs": [],
      "source": [
        "import pandas as pd\n",
        "import numpy as np\n",
        "import matplotlib.pyplot as plt\n",
        "from sklearn.model_selection import train_test_split\n"
      ]
    },
    {
      "cell_type": "markdown",
      "source": [
        "# To Do - 1:"
      ],
      "metadata": {
        "id": "mRg6P0Tc_4rp"
      }
    },
    {
      "cell_type": "code",
      "source": [
        "df = pd.read_csv('/content/drive/MyDrive/Concepts of Technologies and AI/student.csv')\n",
        "print(df.head())\n",
        "print(df.tail())"
      ],
      "metadata": {
        "colab": {
          "base_uri": "https://localhost:8080/"
        },
        "id": "QNAJ9rOs_HOB",
        "outputId": "6894cf8b-5b2e-409b-c739-5dc99c3d8ac4"
      },
      "execution_count": null,
      "outputs": [
        {
          "output_type": "stream",
          "name": "stdout",
          "text": [
            "   Math  Reading  Writing\n",
            "0    48       68       63\n",
            "1    62       81       72\n",
            "2    79       80       78\n",
            "3    76       83       79\n",
            "4    59       64       62\n",
            "     Math  Reading  Writing\n",
            "995    72       74       70\n",
            "996    73       86       90\n",
            "997    89       87       94\n",
            "998    83       82       78\n",
            "999    66       66       72\n"
          ]
        }
      ]
    },
    {
      "cell_type": "code",
      "source": [
        "print(df.info())"
      ],
      "metadata": {
        "colab": {
          "base_uri": "https://localhost:8080/"
        },
        "id": "XEqJCrbL_fc8",
        "outputId": "93a49269-40a1-4c4f-89d7-4b16d695a41d"
      },
      "execution_count": null,
      "outputs": [
        {
          "output_type": "stream",
          "name": "stdout",
          "text": [
            "<class 'pandas.core.frame.DataFrame'>\n",
            "RangeIndex: 1000 entries, 0 to 999\n",
            "Data columns (total 3 columns):\n",
            " #   Column   Non-Null Count  Dtype\n",
            "---  ------   --------------  -----\n",
            " 0   Math     1000 non-null   int64\n",
            " 1   Reading  1000 non-null   int64\n",
            " 2   Writing  1000 non-null   int64\n",
            "dtypes: int64(3)\n",
            "memory usage: 23.6 KB\n",
            "None\n"
          ]
        }
      ]
    },
    {
      "cell_type": "code",
      "source": [
        "print(df.describe())"
      ],
      "metadata": {
        "colab": {
          "base_uri": "https://localhost:8080/"
        },
        "id": "ttUcNqxH_pJn",
        "outputId": "a86fc350-e5ee-4de7-c6f6-bc12584ab190"
      },
      "execution_count": null,
      "outputs": [
        {
          "output_type": "stream",
          "name": "stdout",
          "text": [
            "              Math      Reading      Writing\n",
            "count  1000.000000  1000.000000  1000.000000\n",
            "mean     67.290000    69.872000    68.616000\n",
            "std      15.085008    14.657027    15.241287\n",
            "min      13.000000    19.000000    14.000000\n",
            "25%      58.000000    60.750000    58.000000\n",
            "50%      68.000000    70.000000    69.500000\n",
            "75%      78.000000    81.000000    79.000000\n",
            "max     100.000000   100.000000   100.000000\n"
          ]
        }
      ]
    },
    {
      "cell_type": "code",
      "source": [
        "x = df[['Math', 'Reading']].values\n",
        "y = df[['Writing']].values\n",
        "\n",
        "print(x[:5])\n",
        "print(y[:5])"
      ],
      "metadata": {
        "colab": {
          "base_uri": "https://localhost:8080/"
        },
        "id": "Nde9h9BPAMkF",
        "outputId": "d325ae5e-1d4a-45c2-98b0-33a5e98008e2"
      },
      "execution_count": null,
      "outputs": [
        {
          "output_type": "stream",
          "name": "stdout",
          "text": [
            "[[48 68]\n",
            " [62 81]\n",
            " [79 80]\n",
            " [76 83]\n",
            " [59 64]]\n",
            "[[63]\n",
            " [72]\n",
            " [78]\n",
            " [79]\n",
            " [62]]\n"
          ]
        }
      ]
    },
    {
      "cell_type": "markdown",
      "source": [
        "# To-Do-3:"
      ],
      "metadata": {
        "id": "VlreIoYWCmpc"
      }
    },
    {
      "cell_type": "markdown",
      "source": [
        "##  1. Split the dataset into training and test sets."
      ],
      "metadata": {
        "id": "R8Yt96lZCs4G"
      }
    },
    {
      "cell_type": "code",
      "source": [
        "x_train,x_test,y_train,y_test = train_test_split(x, y, test_size=0.2, random_state=42)\n",
        "print(\"\\nTraining Features Shape:\", x_train.shape)\n",
        "print(\"Test Features Shape:\", x_test.shape)\n",
        "print(\"Training Labels Shape:\", y_train.shape)\n",
        "print(\"Test Labels Shape:\", y_test.shape)"
      ],
      "metadata": {
        "colab": {
          "base_uri": "https://localhost:8080/"
        },
        "id": "u9cc4Oyslf9A",
        "outputId": "f0b329bd-5de6-435e-ff06-b6ce9122b5c2"
      },
      "execution_count": null,
      "outputs": [
        {
          "output_type": "stream",
          "name": "stdout",
          "text": [
            "\n",
            "Training Features Shape: (800, 2)\n",
            "Test Features Shape: (200, 2)\n",
            "Training Labels Shape: (800, 1)\n",
            "Test Labels Shape: (200, 1)\n"
          ]
        }
      ]
    },
    {
      "cell_type": "markdown",
      "source": [
        "#  Step-2-BuildaCostFunction:"
      ],
      "metadata": {
        "id": "_ztPAc9kmi-L"
      }
    },
    {
      "cell_type": "code",
      "source": [
        "#Definethecostfunction\n",
        "def cost_function(x, y,w):\n",
        "  \"\"\"Parameters:\n",
        "  This function finds the Mean Square Error.\n",
        "  Input parameters:\n",
        "    X: Feature Matrix\n",
        "    Y: Target Matrix\n",
        "    W: Weight Matrix\n",
        " Output Parameters:\n",
        "    cost:accumulated mean square error.\n",
        "  \"\"\"\n",
        "  n = x.shape[0]\n",
        "  y_pred = np.dot(x, w)\n",
        "  errors = y_pred - y\n",
        "  cost = np.sum(errors ** 2) / (2 * n)\n",
        "  return cost\n",
        "\n",
        "# Test case\n",
        "x_test = np.array([[1, 2], [3, 4], [5, 6]])  # Feature matrix\n",
        "y_test = np.array([3, 7, 11])               # Target matrix\n",
        "w_test = np.array([1, 1])                   # Weight matrix\n",
        "\n",
        "# Calculate cost\n",
        "cost = cost_function(x_test, y_test, w_test)\n",
        "\n",
        "# Verify cost\n",
        "if cost == 0:\n",
        "    print(\"Proceed Further\")\n",
        "else:\n",
        "    print(\"Something went wrong: Reimplement the cost function\")\n",
        "\n",
        "# Print cost function output\n",
        "print(\"Cost function output:\",cost_function(x_test,y_test,w_test))"
      ],
      "metadata": {
        "colab": {
          "base_uri": "https://localhost:8080/"
        },
        "id": "s9PSGK6vmkCi",
        "outputId": "3dc89a0c-edea-45f4-e5cc-02c9b6b2ae84"
      },
      "execution_count": null,
      "outputs": [
        {
          "output_type": "stream",
          "name": "stdout",
          "text": [
            "Proceed Further\n",
            "Cost function output: 0.0\n"
          ]
        }
      ]
    },
    {
      "cell_type": "markdown",
      "source": [
        "# Step-3-Gradient Descent for Simple Linear Regression:"
      ],
      "metadata": {
        "id": "43oYVNoOpsPh"
      }
    },
    {
      "cell_type": "code",
      "source": [
        "def gradient_descent(x, y, w, alpha, iterations):\n",
        "  \"\"\"\n",
        "  Perform gradient descent to optimize the parameters of a linear regression model.\n",
        "  Parameters:\n",
        "  X(numpy.ndarray):Feature matrix(mxn).\n",
        "  Y(numpy.ndarray):Target vector(mx1).\n",
        "  W(numpy.ndarray):Initial guess for parameters(nx1).\n",
        "  alpha(float):Learning rate.\n",
        "  iterations(int):Number of iterations for gradient descent.\n",
        "\n",
        "  Returns:\n",
        "  tuple:A tuple containing the final optimized parameters(W_update)andthehistoryofcostvalues.\n",
        "  W_update(numpy.ndarray):Updated parameters(nx1).\n",
        "  cost_history(list):History of cost values over iterations.\n",
        "  \"\"\"\n",
        "  #Initialize cost history\n",
        "  cost_history= [0] * iterations\n",
        "  #Number of samples\n",
        "  m=len(y)\n",
        "  for iteration in range(iterations):\n",
        "  #Step1: Hypothesis Values\n",
        "   y_pred = np.dot(x, w)\n",
        "\n",
        "  #Step2:Difference between Hypothesis and Actual Y\n",
        "  loss = y_pred - y\n",
        "  #Step3:Gradient Calculation\n",
        "  dw = (1 / m) * np.dot(x.T, loss)\n",
        "  #Step4:UpdatingValuesofWusingGradient\n",
        "  w_update = w - alpha * dw\n",
        "\n",
        "  #Step5:New Cost Value\n",
        "  cost = cost_function(x,y,w_update)\n",
        "  cost_history[iteration] = cost\n",
        "\n",
        "  return w_update, cost_history\n",
        "\n",
        "\n"
      ],
      "metadata": {
        "id": "rUGyOMIDpthQ"
      },
      "execution_count": null,
      "outputs": []
    },
    {
      "cell_type": "code",
      "source": [
        "# Generate random test data\n",
        "np.random.seed(0)\n",
        "X = np.random.rand(100, 3)\n",
        "Y = np.random.rand(100)\n",
        "W = np.random.rand(3)\n",
        "\n",
        "# Set hyperparameters\n",
        "alpha = 0.00001\n",
        "iterations = 1000\n",
        "\n",
        "# Test the gradient_descent function\n",
        "final_params, cost_history = gradient_descent(X, Y, W, alpha, iterations)\n",
        "\n",
        "# Print the final parameters and cost history\n",
        "print(\"Final Parameters:\", final_params)\n",
        "print(\"Cost History (first 10 values):\", cost_history[:10])"
      ],
      "metadata": {
        "colab": {
          "base_uri": "https://localhost:8080/"
        },
        "id": "thNrtrx9t_0_",
        "outputId": "6b49db84-fb7e-418a-9fec-c2c4a71b0643"
      },
      "execution_count": null,
      "outputs": [
        {
          "output_type": "stream",
          "name": "stdout",
          "text": [
            "Final Parameters: [0.40125789 0.92928958 0.09961358]\n",
            "Cost History (first 10 values): [0, 0, 0, 0, 0, 0, 0, 0, 0, 0]\n"
          ]
        }
      ]
    },
    {
      "cell_type": "markdown",
      "source": [
        "#  Step-4-Evaluate the Model:"
      ],
      "metadata": {
        "id": "JdSxgEc_uPnV"
      }
    },
    {
      "cell_type": "markdown",
      "source": [
        "## 1.Root Mean Square Error:"
      ],
      "metadata": {
        "id": "_DXBv8uQuWD4"
      }
    },
    {
      "cell_type": "code",
      "source": [
        "#Model Evaluation - RMSE\n",
        "def rmse(y,y_pred):\n",
        "  \"\"\"\n",
        "  This Function calculates the Root Mean Squres.\n",
        "  Input Arguments:\n",
        "  Y:Array of actual(Target) Dependent Varaibles.\n",
        "  Y_pred:Array of predeicted Dependent Varaibles.\n",
        "  Output Arguments:\n",
        "  rmse:RootMeanSquare.\n",
        "  \"\"\"\n",
        "  squared_errors = (y - y_pred) ** 2\n",
        "\n",
        "  rmse = np.sqrt(np.mean(squared_errors))\n",
        "\n",
        "  return rmse\n",
        "\n",
        "# Example data\n",
        "y_actual = np.array([3, 7, 11])\n",
        "y_predicted = np.array([3, 7, 11])\n",
        "\n",
        "# Calculate RMSE\n",
        "result = rmse(y_actual, y_predicted)\n",
        "print(\"RMSE on Test Set: \", result)"
      ],
      "metadata": {
        "colab": {
          "base_uri": "https://localhost:8080/"
        },
        "id": "EJWWchytuSEF",
        "outputId": "4d34705a-ff34-4511-e78b-50f4df2824a6"
      },
      "execution_count": null,
      "outputs": [
        {
          "output_type": "stream",
          "name": "stdout",
          "text": [
            "RMSE on Test Set:  0.0\n"
          ]
        }
      ]
    },
    {
      "cell_type": "code",
      "source": [
        "import numpy as np\n",
        "\n",
        "# Model Evaluation - R²\n",
        "def r2(y, y_pred):\n",
        "    \"\"\"\n",
        "    This function calculates the R Squared Error.\n",
        "\n",
        "    Input Arguments:\n",
        "    Y : numpy.ndarray\n",
        "        Array of actual (target) dependent variables.\n",
        "    Y_pred : numpy.ndarray\n",
        "        Array of predicted dependent variables.\n",
        "\n",
        "    Output Arguments:\n",
        "    r_squared : float\n",
        "        R Squared Error.\n",
        "    \"\"\"\n",
        "    # Mean of actual values\n",
        "    mean_y = np.mean(y)\n",
        "\n",
        "    # Total Sum of Squares (SST)\n",
        "    ss_tot = np.sum((y - mean_y) ** 2)\n",
        "\n",
        "    # Sum of Squared Residuals (SSR)\n",
        "    ss_res = np.sum((y - y_pred) ** 2)\n",
        "\n",
        "    # R² calculation\n",
        "    r2 = 1 - (ss_res / ss_tot)\n",
        "\n",
        "    return r2\n",
        "\n",
        "r2 = r2(y_actual, y_predicted)\n",
        "print(\"R-Square on Test Set: \",r2)\n"
      ],
      "metadata": {
        "colab": {
          "base_uri": "https://localhost:8080/"
        },
        "id": "MssJV-vAvr3G",
        "outputId": "eea8ce81-78b6-4ece-fdc7-932404b4ef18"
      },
      "execution_count": null,
      "outputs": [
        {
          "output_type": "stream",
          "name": "stdout",
          "text": [
            "R-Square on Test Set:  1.0\n"
          ]
        }
      ]
    }
  ]
}