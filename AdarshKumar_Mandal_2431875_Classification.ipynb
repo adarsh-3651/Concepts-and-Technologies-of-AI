{
  "cells": [
    {
      "cell_type": "markdown",
      "source": [
        "#  **Classification Task**"
      ],
      "metadata": {
        "id": "oKpFO6103Vwd"
      }
    },
    {
      "cell_type": "markdown",
      "source": [
        "## **1. Exploratory Data Analysis and Data Understanding**"
      ],
      "metadata": {
        "id": "gYcoMlPI3-C5"
      }
    },
    {
      "cell_type": "markdown",
      "source": [
        "###  **1. Choosing a Dataset:**"
      ],
      "metadata": {
        "id": "Deoqqh0B4DbS"
      }
    },
    {
      "cell_type": "markdown",
      "source": [
        "#### **• Select a dataset of your choice that interests you and aligns with one of the United Nations Sustainable Development Goals (UNSDG).**\n",
        "\n",
        "#### => I have chosen a dataset which represents the health condition among the individuals of various age groups. As one of the major aspect of sustainable development goal is good health of people therefore, I have chosen this dataset."
      ],
      "metadata": {
        "id": "VGPnA69343bw"
      }
    },
    {
      "cell_type": "code",
      "execution_count": 58,
      "metadata": {
        "id": "WiBEEveQnUSs"
      },
      "outputs": [],
      "source": [
        "import pandas as pd\n",
        "import numpy as np\n",
        "import matplotlib.pyplot as plt\n",
        "import seaborn as sns\n",
        "from sklearn.preprocessing import OneHotEncoder, StandardScaler\n",
        "from sklearn.feature_selection import SelectKBest, f_classif\n",
        "from sklearn.model_selection import train_test_split, GridSearchCV, RandomizedSearchCV\n",
        "from sklearn.metrics import accuracy_score, precision_score, recall_score, f1_score, confusion_matrix\n",
        "from sklearn.neighbors import KNeighborsClassifier"
      ]
    },
    {
      "cell_type": "code",
      "source": [
        "from google.colab import drive\n",
        "drive.mount('/content/drive')"
      ],
      "metadata": {
        "colab": {
          "base_uri": "https://localhost:8080/"
        },
        "id": "R-jPR5AX0nvE",
        "outputId": "c6174141-7968-45c5-fc88-3e8a10d03b04"
      },
      "execution_count": 10,
      "outputs": [
        {
          "output_type": "stream",
          "name": "stdout",
          "text": [
            "Drive already mounted at /content/drive; to attempt to forcibly remount, call drive.mount(\"/content/drive\", force_remount=True).\n"
          ]
        }
      ]
    },
    {
      "cell_type": "markdown",
      "source": [
        "####  **•Load the dataset into a DataFrame object using the Pandas library.**"
      ],
      "metadata": {
        "id": "XgQRjWwD5Xg3"
      }
    },
    {
      "cell_type": "code",
      "execution_count": 50,
      "metadata": {
        "id": "aLo3w2N_nedq",
        "collapsed": true,
        "colab": {
          "base_uri": "https://localhost:8080/",
          "height": 464
        },
        "outputId": "7ad53017-7f3a-4109-cb0a-8def29b03dc3"
      },
      "outputs": [
        {
          "output_type": "execute_result",
          "data": {
            "text/plain": [
              "            Age  Weight_kg  Height_ft Marital_Status PCOS Family_History_PCOS  \\\n",
              "0         20-25       66.0     157.48      Unmarried   No                  No   \n",
              "1  Less than 20       56.0     165.10      Unmarried   No                  No   \n",
              "2  Less than 20       89.0     167.64      Unmarried   No                 Yes   \n",
              "3         20-25       55.0     160.02      Unmarried   No                 Yes   \n",
              "4  Less than 20       55.0     160.02      Unmarried   No                  No   \n",
              "\n",
              "  Menstrual_Irregularity Hormonal_Imbalance Hyperandrogenism Hirsutism  ...  \\\n",
              "0                    Yes                 No               No        No  ...   \n",
              "1                     No                 No               No        No  ...   \n",
              "2                     No                 No               No       Yes  ...   \n",
              "3                     No                Yes               No       Yes  ...   \n",
              "4                     No                 No               No        No  ...   \n",
              "\n",
              "  Diet_Multivitamin Vegetarian Exercise_Frequency  \\\n",
              "0                 0         No             Rarely   \n",
              "1                 0         No              Daily   \n",
              "2                 0         No             Rarely   \n",
              "3                 1         No              Never   \n",
              "4                 0         No              Daily   \n",
              "\n",
              "                               Exercise_Type     Exercise_Duration  \\\n",
              "0  Cardio (e.g., running, cycling, swimming)            30 minutes   \n",
              "1                                No Exercise  Less than 30 minutes   \n",
              "2  Cardio (e.g., running, cycling, swimming)  Less than 30 minutes   \n",
              "3                                No Exercise        Not Applicable   \n",
              "4  Cardio (e.g., running, cycling, swimming)  30 minutes to 1 hour   \n",
              "\n",
              "         Sleep_Hours  Stress_Level  Smoking  Exercise_Benefit  PCOS_Medication  \n",
              "0  Less than 6 hours            No       No          Somewhat              No.  \n",
              "1          6-8 hours            No       No          Somewhat              No.  \n",
              "2          6-8 hours           Yes       No          Somewhat              No.  \n",
              "3          6-8 hours           Yes       No          Somewhat              No.  \n",
              "4          6-8 hours           Yes       No        Not at All              No.  \n",
              "\n",
              "[5 rows x 36 columns]"
            ],
            "text/html": [
              "\n",
              "  <div id=\"df-3349357c-e855-423b-9158-414493cce610\" class=\"colab-df-container\">\n",
              "    <div>\n",
              "<style scoped>\n",
              "    .dataframe tbody tr th:only-of-type {\n",
              "        vertical-align: middle;\n",
              "    }\n",
              "\n",
              "    .dataframe tbody tr th {\n",
              "        vertical-align: top;\n",
              "    }\n",
              "\n",
              "    .dataframe thead th {\n",
              "        text-align: right;\n",
              "    }\n",
              "</style>\n",
              "<table border=\"1\" class=\"dataframe\">\n",
              "  <thead>\n",
              "    <tr style=\"text-align: right;\">\n",
              "      <th></th>\n",
              "      <th>Age</th>\n",
              "      <th>Weight_kg</th>\n",
              "      <th>Height_ft</th>\n",
              "      <th>Marital_Status</th>\n",
              "      <th>PCOS</th>\n",
              "      <th>Family_History_PCOS</th>\n",
              "      <th>Menstrual_Irregularity</th>\n",
              "      <th>Hormonal_Imbalance</th>\n",
              "      <th>Hyperandrogenism</th>\n",
              "      <th>Hirsutism</th>\n",
              "      <th>...</th>\n",
              "      <th>Diet_Multivitamin</th>\n",
              "      <th>Vegetarian</th>\n",
              "      <th>Exercise_Frequency</th>\n",
              "      <th>Exercise_Type</th>\n",
              "      <th>Exercise_Duration</th>\n",
              "      <th>Sleep_Hours</th>\n",
              "      <th>Stress_Level</th>\n",
              "      <th>Smoking</th>\n",
              "      <th>Exercise_Benefit</th>\n",
              "      <th>PCOS_Medication</th>\n",
              "    </tr>\n",
              "  </thead>\n",
              "  <tbody>\n",
              "    <tr>\n",
              "      <th>0</th>\n",
              "      <td>20-25</td>\n",
              "      <td>66.0</td>\n",
              "      <td>157.48</td>\n",
              "      <td>Unmarried</td>\n",
              "      <td>No</td>\n",
              "      <td>No</td>\n",
              "      <td>Yes</td>\n",
              "      <td>No</td>\n",
              "      <td>No</td>\n",
              "      <td>No</td>\n",
              "      <td>...</td>\n",
              "      <td>0</td>\n",
              "      <td>No</td>\n",
              "      <td>Rarely</td>\n",
              "      <td>Cardio (e.g., running, cycling, swimming)</td>\n",
              "      <td>30 minutes</td>\n",
              "      <td>Less than 6 hours</td>\n",
              "      <td>No</td>\n",
              "      <td>No</td>\n",
              "      <td>Somewhat</td>\n",
              "      <td>No.</td>\n",
              "    </tr>\n",
              "    <tr>\n",
              "      <th>1</th>\n",
              "      <td>Less than 20</td>\n",
              "      <td>56.0</td>\n",
              "      <td>165.10</td>\n",
              "      <td>Unmarried</td>\n",
              "      <td>No</td>\n",
              "      <td>No</td>\n",
              "      <td>No</td>\n",
              "      <td>No</td>\n",
              "      <td>No</td>\n",
              "      <td>No</td>\n",
              "      <td>...</td>\n",
              "      <td>0</td>\n",
              "      <td>No</td>\n",
              "      <td>Daily</td>\n",
              "      <td>No Exercise</td>\n",
              "      <td>Less than 30 minutes</td>\n",
              "      <td>6-8 hours</td>\n",
              "      <td>No</td>\n",
              "      <td>No</td>\n",
              "      <td>Somewhat</td>\n",
              "      <td>No.</td>\n",
              "    </tr>\n",
              "    <tr>\n",
              "      <th>2</th>\n",
              "      <td>Less than 20</td>\n",
              "      <td>89.0</td>\n",
              "      <td>167.64</td>\n",
              "      <td>Unmarried</td>\n",
              "      <td>No</td>\n",
              "      <td>Yes</td>\n",
              "      <td>No</td>\n",
              "      <td>No</td>\n",
              "      <td>No</td>\n",
              "      <td>Yes</td>\n",
              "      <td>...</td>\n",
              "      <td>0</td>\n",
              "      <td>No</td>\n",
              "      <td>Rarely</td>\n",
              "      <td>Cardio (e.g., running, cycling, swimming)</td>\n",
              "      <td>Less than 30 minutes</td>\n",
              "      <td>6-8 hours</td>\n",
              "      <td>Yes</td>\n",
              "      <td>No</td>\n",
              "      <td>Somewhat</td>\n",
              "      <td>No.</td>\n",
              "    </tr>\n",
              "    <tr>\n",
              "      <th>3</th>\n",
              "      <td>20-25</td>\n",
              "      <td>55.0</td>\n",
              "      <td>160.02</td>\n",
              "      <td>Unmarried</td>\n",
              "      <td>No</td>\n",
              "      <td>Yes</td>\n",
              "      <td>No</td>\n",
              "      <td>Yes</td>\n",
              "      <td>No</td>\n",
              "      <td>Yes</td>\n",
              "      <td>...</td>\n",
              "      <td>1</td>\n",
              "      <td>No</td>\n",
              "      <td>Never</td>\n",
              "      <td>No Exercise</td>\n",
              "      <td>Not Applicable</td>\n",
              "      <td>6-8 hours</td>\n",
              "      <td>Yes</td>\n",
              "      <td>No</td>\n",
              "      <td>Somewhat</td>\n",
              "      <td>No.</td>\n",
              "    </tr>\n",
              "    <tr>\n",
              "      <th>4</th>\n",
              "      <td>Less than 20</td>\n",
              "      <td>55.0</td>\n",
              "      <td>160.02</td>\n",
              "      <td>Unmarried</td>\n",
              "      <td>No</td>\n",
              "      <td>No</td>\n",
              "      <td>No</td>\n",
              "      <td>No</td>\n",
              "      <td>No</td>\n",
              "      <td>No</td>\n",
              "      <td>...</td>\n",
              "      <td>0</td>\n",
              "      <td>No</td>\n",
              "      <td>Daily</td>\n",
              "      <td>Cardio (e.g., running, cycling, swimming)</td>\n",
              "      <td>30 minutes to 1 hour</td>\n",
              "      <td>6-8 hours</td>\n",
              "      <td>Yes</td>\n",
              "      <td>No</td>\n",
              "      <td>Not at All</td>\n",
              "      <td>No.</td>\n",
              "    </tr>\n",
              "  </tbody>\n",
              "</table>\n",
              "<p>5 rows × 36 columns</p>\n",
              "</div>\n",
              "    <div class=\"colab-df-buttons\">\n",
              "\n",
              "  <div class=\"colab-df-container\">\n",
              "    <button class=\"colab-df-convert\" onclick=\"convertToInteractive('df-3349357c-e855-423b-9158-414493cce610')\"\n",
              "            title=\"Convert this dataframe to an interactive table.\"\n",
              "            style=\"display:none;\">\n",
              "\n",
              "  <svg xmlns=\"http://www.w3.org/2000/svg\" height=\"24px\" viewBox=\"0 -960 960 960\">\n",
              "    <path d=\"M120-120v-720h720v720H120Zm60-500h600v-160H180v160Zm220 220h160v-160H400v160Zm0 220h160v-160H400v160ZM180-400h160v-160H180v160Zm440 0h160v-160H620v160ZM180-180h160v-160H180v160Zm440 0h160v-160H620v160Z\"/>\n",
              "  </svg>\n",
              "    </button>\n",
              "\n",
              "  <style>\n",
              "    .colab-df-container {\n",
              "      display:flex;\n",
              "      gap: 12px;\n",
              "    }\n",
              "\n",
              "    .colab-df-convert {\n",
              "      background-color: #E8F0FE;\n",
              "      border: none;\n",
              "      border-radius: 50%;\n",
              "      cursor: pointer;\n",
              "      display: none;\n",
              "      fill: #1967D2;\n",
              "      height: 32px;\n",
              "      padding: 0 0 0 0;\n",
              "      width: 32px;\n",
              "    }\n",
              "\n",
              "    .colab-df-convert:hover {\n",
              "      background-color: #E2EBFA;\n",
              "      box-shadow: 0px 1px 2px rgba(60, 64, 67, 0.3), 0px 1px 3px 1px rgba(60, 64, 67, 0.15);\n",
              "      fill: #174EA6;\n",
              "    }\n",
              "\n",
              "    .colab-df-buttons div {\n",
              "      margin-bottom: 4px;\n",
              "    }\n",
              "\n",
              "    [theme=dark] .colab-df-convert {\n",
              "      background-color: #3B4455;\n",
              "      fill: #D2E3FC;\n",
              "    }\n",
              "\n",
              "    [theme=dark] .colab-df-convert:hover {\n",
              "      background-color: #434B5C;\n",
              "      box-shadow: 0px 1px 3px 1px rgba(0, 0, 0, 0.15);\n",
              "      filter: drop-shadow(0px 1px 2px rgba(0, 0, 0, 0.3));\n",
              "      fill: #FFFFFF;\n",
              "    }\n",
              "  </style>\n",
              "\n",
              "    <script>\n",
              "      const buttonEl =\n",
              "        document.querySelector('#df-3349357c-e855-423b-9158-414493cce610 button.colab-df-convert');\n",
              "      buttonEl.style.display =\n",
              "        google.colab.kernel.accessAllowed ? 'block' : 'none';\n",
              "\n",
              "      async function convertToInteractive(key) {\n",
              "        const element = document.querySelector('#df-3349357c-e855-423b-9158-414493cce610');\n",
              "        const dataTable =\n",
              "          await google.colab.kernel.invokeFunction('convertToInteractive',\n",
              "                                                    [key], {});\n",
              "        if (!dataTable) return;\n",
              "\n",
              "        const docLinkHtml = 'Like what you see? Visit the ' +\n",
              "          '<a target=\"_blank\" href=https://colab.research.google.com/notebooks/data_table.ipynb>data table notebook</a>'\n",
              "          + ' to learn more about interactive tables.';\n",
              "        element.innerHTML = '';\n",
              "        dataTable['output_type'] = 'display_data';\n",
              "        await google.colab.output.renderOutput(dataTable, element);\n",
              "        const docLink = document.createElement('div');\n",
              "        docLink.innerHTML = docLinkHtml;\n",
              "        element.appendChild(docLink);\n",
              "      }\n",
              "    </script>\n",
              "  </div>\n",
              "\n",
              "\n",
              "<div id=\"df-9bb35efd-07c9-4867-baa4-6416b6257d40\">\n",
              "  <button class=\"colab-df-quickchart\" onclick=\"quickchart('df-9bb35efd-07c9-4867-baa4-6416b6257d40')\"\n",
              "            title=\"Suggest charts\"\n",
              "            style=\"display:none;\">\n",
              "\n",
              "<svg xmlns=\"http://www.w3.org/2000/svg\" height=\"24px\"viewBox=\"0 0 24 24\"\n",
              "     width=\"24px\">\n",
              "    <g>\n",
              "        <path d=\"M19 3H5c-1.1 0-2 .9-2 2v14c0 1.1.9 2 2 2h14c1.1 0 2-.9 2-2V5c0-1.1-.9-2-2-2zM9 17H7v-7h2v7zm4 0h-2V7h2v10zm4 0h-2v-4h2v4z\"/>\n",
              "    </g>\n",
              "</svg>\n",
              "  </button>\n",
              "\n",
              "<style>\n",
              "  .colab-df-quickchart {\n",
              "      --bg-color: #E8F0FE;\n",
              "      --fill-color: #1967D2;\n",
              "      --hover-bg-color: #E2EBFA;\n",
              "      --hover-fill-color: #174EA6;\n",
              "      --disabled-fill-color: #AAA;\n",
              "      --disabled-bg-color: #DDD;\n",
              "  }\n",
              "\n",
              "  [theme=dark] .colab-df-quickchart {\n",
              "      --bg-color: #3B4455;\n",
              "      --fill-color: #D2E3FC;\n",
              "      --hover-bg-color: #434B5C;\n",
              "      --hover-fill-color: #FFFFFF;\n",
              "      --disabled-bg-color: #3B4455;\n",
              "      --disabled-fill-color: #666;\n",
              "  }\n",
              "\n",
              "  .colab-df-quickchart {\n",
              "    background-color: var(--bg-color);\n",
              "    border: none;\n",
              "    border-radius: 50%;\n",
              "    cursor: pointer;\n",
              "    display: none;\n",
              "    fill: var(--fill-color);\n",
              "    height: 32px;\n",
              "    padding: 0;\n",
              "    width: 32px;\n",
              "  }\n",
              "\n",
              "  .colab-df-quickchart:hover {\n",
              "    background-color: var(--hover-bg-color);\n",
              "    box-shadow: 0 1px 2px rgba(60, 64, 67, 0.3), 0 1px 3px 1px rgba(60, 64, 67, 0.15);\n",
              "    fill: var(--button-hover-fill-color);\n",
              "  }\n",
              "\n",
              "  .colab-df-quickchart-complete:disabled,\n",
              "  .colab-df-quickchart-complete:disabled:hover {\n",
              "    background-color: var(--disabled-bg-color);\n",
              "    fill: var(--disabled-fill-color);\n",
              "    box-shadow: none;\n",
              "  }\n",
              "\n",
              "  .colab-df-spinner {\n",
              "    border: 2px solid var(--fill-color);\n",
              "    border-color: transparent;\n",
              "    border-bottom-color: var(--fill-color);\n",
              "    animation:\n",
              "      spin 1s steps(1) infinite;\n",
              "  }\n",
              "\n",
              "  @keyframes spin {\n",
              "    0% {\n",
              "      border-color: transparent;\n",
              "      border-bottom-color: var(--fill-color);\n",
              "      border-left-color: var(--fill-color);\n",
              "    }\n",
              "    20% {\n",
              "      border-color: transparent;\n",
              "      border-left-color: var(--fill-color);\n",
              "      border-top-color: var(--fill-color);\n",
              "    }\n",
              "    30% {\n",
              "      border-color: transparent;\n",
              "      border-left-color: var(--fill-color);\n",
              "      border-top-color: var(--fill-color);\n",
              "      border-right-color: var(--fill-color);\n",
              "    }\n",
              "    40% {\n",
              "      border-color: transparent;\n",
              "      border-right-color: var(--fill-color);\n",
              "      border-top-color: var(--fill-color);\n",
              "    }\n",
              "    60% {\n",
              "      border-color: transparent;\n",
              "      border-right-color: var(--fill-color);\n",
              "    }\n",
              "    80% {\n",
              "      border-color: transparent;\n",
              "      border-right-color: var(--fill-color);\n",
              "      border-bottom-color: var(--fill-color);\n",
              "    }\n",
              "    90% {\n",
              "      border-color: transparent;\n",
              "      border-bottom-color: var(--fill-color);\n",
              "    }\n",
              "  }\n",
              "</style>\n",
              "\n",
              "  <script>\n",
              "    async function quickchart(key) {\n",
              "      const quickchartButtonEl =\n",
              "        document.querySelector('#' + key + ' button');\n",
              "      quickchartButtonEl.disabled = true;  // To prevent multiple clicks.\n",
              "      quickchartButtonEl.classList.add('colab-df-spinner');\n",
              "      try {\n",
              "        const charts = await google.colab.kernel.invokeFunction(\n",
              "            'suggestCharts', [key], {});\n",
              "      } catch (error) {\n",
              "        console.error('Error during call to suggestCharts:', error);\n",
              "      }\n",
              "      quickchartButtonEl.classList.remove('colab-df-spinner');\n",
              "      quickchartButtonEl.classList.add('colab-df-quickchart-complete');\n",
              "    }\n",
              "    (() => {\n",
              "      let quickchartButtonEl =\n",
              "        document.querySelector('#df-9bb35efd-07c9-4867-baa4-6416b6257d40 button');\n",
              "      quickchartButtonEl.style.display =\n",
              "        google.colab.kernel.accessAllowed ? 'block' : 'none';\n",
              "    })();\n",
              "  </script>\n",
              "</div>\n",
              "\n",
              "    </div>\n",
              "  </div>\n"
            ],
            "application/vnd.google.colaboratory.intrinsic+json": {
              "type": "dataframe",
              "variable_name": "df"
            }
          },
          "metadata": {},
          "execution_count": 50
        }
      ],
      "source": [
        "df=pd.read_csv('/content/drive/MyDrive/Concept of Technologies and AI/Health.csv')\n",
        "df.head()"
      ]
    },
    {
      "cell_type": "markdown",
      "source": [
        "####  • **Perform an initial analysis to gather a detailed description of the dataset.**"
      ],
      "metadata": {
        "id": "MFUg1trc5a6J"
      }
    },
    {
      "cell_type": "markdown",
      "source": [
        "#####  **(a) When and by whom was the dataset created?**"
      ],
      "metadata": {
        "id": "LM2t1cBq5fNj"
      }
    },
    {
      "cell_type": "markdown",
      "source": [
        "##### => The dataset was created by United Nations in accordance with the survey done to study the sustainable development aspect in 2022 A.D."
      ],
      "metadata": {
        "id": "yC8tp8Yudblo"
      }
    },
    {
      "cell_type": "markdown",
      "source": [
        "#####  **(b) How did you access the dataset?**"
      ],
      "metadata": {
        "id": "sUVXLGsM5qSr"
      }
    },
    {
      "cell_type": "markdown",
      "source": [
        "##### => I accessed the dataset from the dataset website Kaggle."
      ],
      "metadata": {
        "id": "NHJkgiWuduip"
      }
    },
    {
      "cell_type": "markdown",
      "source": [
        "##### **(c) How does it align with the chosen UNSDG?**"
      ],
      "metadata": {
        "id": "oyiQUAmp5vLY"
      }
    },
    {
      "cell_type": "markdown",
      "source": [
        "##### => This dataset gives the overview of the health status among the different age groups of individuals. This is one of the key goal for the United Nations Sustainable Development."
      ],
      "metadata": {
        "id": "uTCF2fQ7P0Me"
      }
    },
    {
      "cell_type": "markdown",
      "source": [
        "#####  **(d) List all the attributes (columns) present in the dataset.**"
      ],
      "metadata": {
        "id": "Enl29B-f5ymc"
      }
    },
    {
      "cell_type": "code",
      "source": [
        "print(\"\\nDataset Info:\\n\")\n",
        "df.info()"
      ],
      "metadata": {
        "colab": {
          "base_uri": "https://localhost:8080/"
        },
        "collapsed": true,
        "id": "5iIaO-mm1bMP",
        "outputId": "37f40124-861a-456f-ea91-019a315b99cb"
      },
      "execution_count": 51,
      "outputs": [
        {
          "output_type": "stream",
          "name": "stdout",
          "text": [
            "\n",
            "Dataset Info:\n",
            "\n",
            "<class 'pandas.core.frame.DataFrame'>\n",
            "RangeIndex: 173 entries, 0 to 172\n",
            "Data columns (total 36 columns):\n",
            " #   Column                      Non-Null Count  Dtype  \n",
            "---  ------                      --------------  -----  \n",
            " 0   Age                         173 non-null    object \n",
            " 1   Weight_kg                   173 non-null    float64\n",
            " 2   Height_ft                   173 non-null    float64\n",
            " 3   Marital_Status              173 non-null    object \n",
            " 4   PCOS                        173 non-null    object \n",
            " 5   Family_History_PCOS         173 non-null    object \n",
            " 6   Menstrual_Irregularity      173 non-null    object \n",
            " 7   Hormonal_Imbalance          169 non-null    object \n",
            " 8   Hyperandrogenism            169 non-null    object \n",
            " 9   Hirsutism                   173 non-null    object \n",
            " 10  Mental_Health               173 non-null    object \n",
            " 11  Conception_Difficulty       169 non-null    object \n",
            " 12  Insulin_Resistance          169 non-null    object \n",
            " 13  Diabetes                    168 non-null    object \n",
            " 14  Childhood_Trauma            168 non-null    object \n",
            " 15  Cardiovascular_Disease      173 non-null    object \n",
            " 16  Diet_Bread_Cereals          168 non-null    float64\n",
            " 17  Diet_Milk_Products          169 non-null    float64\n",
            " 18  Diet_Fruits                 169 non-null    float64\n",
            " 19  Diet_Vegetables             173 non-null    int64  \n",
            " 20  Diet_Starchy_Vegetables     173 non-null    int64  \n",
            " 21  Diet_NonStarchy_Vegetables  173 non-null    int64  \n",
            " 22  Diet_Fats                   173 non-null    int64  \n",
            " 23  Diet_Sweets                 173 non-null    int64  \n",
            " 24  Diet_Fried_Food             173 non-null    int64  \n",
            " 25  Diet_Tea_Coffee             173 non-null    int64  \n",
            " 26  Diet_Multivitamin           173 non-null    int64  \n",
            " 27  Vegetarian                  173 non-null    object \n",
            " 28  Exercise_Frequency          173 non-null    object \n",
            " 29  Exercise_Type               173 non-null    object \n",
            " 30  Exercise_Duration           173 non-null    object \n",
            " 31  Sleep_Hours                 173 non-null    object \n",
            " 32  Stress_Level                173 non-null    object \n",
            " 33  Smoking                     173 non-null    object \n",
            " 34  Exercise_Benefit            173 non-null    object \n",
            " 35  PCOS_Medication             173 non-null    object \n",
            "dtypes: float64(5), int64(8), object(23)\n",
            "memory usage: 48.8+ KB\n"
          ]
        }
      ]
    },
    {
      "cell_type": "markdown",
      "source": [
        "#### **• Identify potential questions that the dataset could help answer.**"
      ],
      "metadata": {
        "id": "2U-V-Aze54qs"
      }
    },
    {
      "cell_type": "markdown",
      "source": [
        "##### => The dataset answers about Marital_Status          ,                  Family_History_PCOS    ,      Menstrual_Irregularity,       Hormonal_Imbalance,           Hyperandrogenism,           Hirsutism ,                   Mental_Health                ,Conception_Difficulty       , Insulin_Resistance         ,  Diabetes                  ,   Childhood_Trauma         ,   Cardiovascular_Disease ,      Diet_Bread_Cereals      ,     Diet_Milk_Products    ,       Diet_Fruits          ,                   Diet_Multivitamin   ,         Vegetarian         ,          Exercise_Frequency,           Exercise_Type             "
      ],
      "metadata": {
        "id": "LrNt2U2IR16k"
      }
    },
    {
      "cell_type": "markdown",
      "source": [
        "####  **• Assess the dataset’s suitability for analysis (e.g., data completeness, relevance, and quality).**"
      ],
      "metadata": {
        "id": "uhBTFsm357Iw"
      }
    },
    {
      "cell_type": "code",
      "source": [
        "missing_values=df.isnull().sum()\n",
        "print(\"Missing Values:\")\n",
        "print(missing_values)"
      ],
      "metadata": {
        "collapsed": true,
        "colab": {
          "base_uri": "https://localhost:8080/"
        },
        "id": "9ft9kxlnTW7l",
        "outputId": "529dad74-8d34-4f30-ba20-e4a5f051c98a"
      },
      "execution_count": 52,
      "outputs": [
        {
          "output_type": "stream",
          "name": "stdout",
          "text": [
            "Missing Values:\n",
            "Age                           0\n",
            "Weight_kg                     0\n",
            "Height_ft                     0\n",
            "Marital_Status                0\n",
            "PCOS                          0\n",
            "Family_History_PCOS           0\n",
            "Menstrual_Irregularity        0\n",
            "Hormonal_Imbalance            4\n",
            "Hyperandrogenism              4\n",
            "Hirsutism                     0\n",
            "Mental_Health                 0\n",
            "Conception_Difficulty         4\n",
            "Insulin_Resistance            4\n",
            "Diabetes                      5\n",
            "Childhood_Trauma              5\n",
            "Cardiovascular_Disease        0\n",
            "Diet_Bread_Cereals            5\n",
            "Diet_Milk_Products            4\n",
            "Diet_Fruits                   4\n",
            "Diet_Vegetables               0\n",
            "Diet_Starchy_Vegetables       0\n",
            "Diet_NonStarchy_Vegetables    0\n",
            "Diet_Fats                     0\n",
            "Diet_Sweets                   0\n",
            "Diet_Fried_Food               0\n",
            "Diet_Tea_Coffee               0\n",
            "Diet_Multivitamin             0\n",
            "Vegetarian                    0\n",
            "Exercise_Frequency            0\n",
            "Exercise_Type                 0\n",
            "Exercise_Duration             0\n",
            "Sleep_Hours                   0\n",
            "Stress_Level                  0\n",
            "Smoking                       0\n",
            "Exercise_Benefit              0\n",
            "PCOS_Medication               0\n",
            "dtype: int64\n"
          ]
        }
      ]
    },
    {
      "cell_type": "code",
      "source": [
        "plt.figure(figsize=(10, 5))\n",
        "sns.heatmap(df.isnull(), cmap=\"viridis\", cbar=False, yticklabels=False)\n",
        "plt.title(\"Missing Values Heatmap\")\n",
        "plt.show()"
      ],
      "metadata": {
        "colab": {
          "base_uri": "https://localhost:8080/",
          "height": 0
        },
        "collapsed": true,
        "id": "4W6LVX6iWvb6",
        "outputId": "1841769b-8485-439d-cdab-f5e15ab9ca7a"
      },
      "execution_count": 54,
      "outputs": [
        {
          "output_type": "display_data",
          "data": {
            "text/plain": [
              "<Figure size 1000x500 with 1 Axes>"
            ],
            "image/png": "[encoded data removed]"
          },
          "metadata": {}
        }
      ]
    },
    {
      "cell_type": "markdown",
      "source": [
        "###  **2. Conducting Exploratory Data Analysis (EDA):**"
      ],
      "metadata": {
        "id": "9NXDNHB66LmH"
      }
    },
    {
      "cell_type": "markdown",
      "source": [
        "####  • Understanding the characteristics of the data beforehand is crucial for building a model with acceptable performance. Before proceeding to build, train, and test the model, write code to inspect, preview, summarize, explore, andvisualize your data."
      ],
      "metadata": {
        "id": "8FaPJ1196PQq"
      }
    },
    {
      "cell_type": "markdown",
      "source": [
        "#####  **(a) Perform data cleaning and compute summary statistics for the dataset.**"
      ],
      "metadata": {
        "id": "0LK5f-sp6q82"
      }
    },
    {
      "cell_type": "code",
      "execution_count": 53,
      "metadata": {
        "colab": {
          "base_uri": "https://localhost:8080/"
        },
        "id": "_uxPdUsZsuFu",
        "outputId": "d14c09a3-1f87-4583-a30d-1a994e49431b",
        "collapsed": true
      },
      "outputs": [
        {
          "output_type": "stream",
          "name": "stdout",
          "text": [
            "\n",
            "Descriptive Statistics:\n",
            "         Weight_kg   Height_ft  Diet_Bread_Cereals  Diet_Milk_Products  \\\n",
            "count  173.000000  173.000000          168.000000          169.000000   \n",
            "mean    56.549711  160.636647            5.511905            3.621302   \n",
            "std     12.025369    7.287373            2.084985            2.535185   \n",
            "min     36.000000  124.460000            0.000000            0.000000   \n",
            "25%     49.000000  157.480000            4.000000            1.000000   \n",
            "50%     55.000000  160.020000            7.000000            3.000000   \n",
            "75%     64.000000  165.100000            7.000000            7.000000   \n",
            "max    115.000000  182.880000            7.000000            7.000000   \n",
            "\n",
            "       Diet_Fruits  Diet_Vegetables  Diet_Starchy_Vegetables  \\\n",
            "count   169.000000       173.000000               173.000000   \n",
            "mean      3.029586         3.439306                 3.069364   \n",
            "std       2.033722         1.769596                 1.857054   \n",
            "min       0.000000         0.000000                 0.000000   \n",
            "25%       1.000000         2.000000                 2.000000   \n",
            "50%       3.000000         3.000000                 3.000000   \n",
            "75%       4.000000         5.000000                 4.000000   \n",
            "max       7.000000         7.000000                 7.000000   \n",
            "\n",
            "       Diet_NonStarchy_Vegetables   Diet_Fats  Diet_Sweets  Diet_Fried_Food  \\\n",
            "count                  173.000000  173.000000   173.000000       173.000000   \n",
            "mean                     2.450867    4.531792     3.618497         3.179191   \n",
            "std                      1.709808    2.293919     2.255253         2.019448   \n",
            "min                      0.000000    0.000000     0.000000         0.000000   \n",
            "25%                      1.000000    2.000000     2.000000         1.000000   \n",
            "50%                      2.000000    5.000000     3.000000         3.000000   \n",
            "75%                      3.000000    7.000000     6.000000         5.000000   \n",
            "max                      7.000000    7.000000     7.000000         7.000000   \n",
            "\n",
            "       Diet_Tea_Coffee  Diet_Multivitamin  \n",
            "count       173.000000         173.000000  \n",
            "mean          4.549133           1.393064  \n",
            "std           2.785795           2.326880  \n",
            "min           0.000000           0.000000  \n",
            "25%           2.000000           0.000000  \n",
            "50%           6.000000           0.000000  \n",
            "75%           7.000000           2.000000  \n",
            "max           7.000000           7.000000  \n"
          ]
        }
      ],
      "source": [
        "print(\"\\nDescriptive Statistics:\\n\", df.describe())"
      ]
    },
    {
      "cell_type": "code",
      "source": [
        "# Iterate through columns with missing values and fill them\n",
        "for col in missing_values[missing_values > 0].index:\n",
        "    if df[col].dtype == 'object':  # For categorical columns\n",
        "        df[col].fillna(df[col].mode()[0], inplace=True)  # Fill with mode\n",
        "        print(f\"Filled missing values in column '{col}' with its mode.\")\n",
        "    else:  # For numerical columns\n",
        "        df[col].fillna(df[col].mean(), inplace=True)  # Fill with mean\n",
        "        print(f\"Filled missing values in column '{col}' with its mean.\")\n"
      ],
      "metadata": {
        "id": "4G_flMaV17FT",
        "colab": {
          "base_uri": "https://localhost:8080/"
        },
        "collapsed": true,
        "outputId": "3f50ec7b-df1d-4c25-a3c8-7945a4fe4e53"
      },
      "execution_count": 96,
      "outputs": [
        {
          "output_type": "stream",
          "name": "stdout",
          "text": [
            "Filled missing values in column 'Hormonal_Imbalance' with its mode.\n",
            "Filled missing values in column 'Hyperandrogenism' with its mode.\n",
            "Filled missing values in column 'Conception_Difficulty' with its mode.\n",
            "Filled missing values in column 'Insulin_Resistance' with its mode.\n",
            "Filled missing values in column 'Diabetes' with its mode.\n",
            "Filled missing values in column 'Childhood_Trauma' with its mode.\n",
            "Filled missing values in column 'Diet_Bread_Cereals' with its mean.\n",
            "Filled missing values in column 'Diet_Milk_Products' with its mean.\n",
            "Filled missing values in column 'Diet_Fruits' with its mean.\n"
          ]
        },
        {
          "output_type": "stream",
          "name": "stderr",
          "text": [
            "<ipython-input-96-6d8a48b147e2>:4: FutureWarning: A value is trying to be set on a copy of a DataFrame or Series through chained assignment using an inplace method.\n",
            "The behavior will change in pandas 3.0. This inplace method will never work because the intermediate object on which we are setting values always behaves as a copy.\n",
            "\n",
            "For example, when doing 'df[col].method(value, inplace=True)', try using 'df.method({col: value}, inplace=True)' or df[col] = df[col].method(value) instead, to perform the operation inplace on the original object.\n",
            "\n",
            "\n",
            "  df[col].fillna(df[col].mode()[0], inplace=True)  # Fill with mode\n",
            "<ipython-input-96-6d8a48b147e2>:7: FutureWarning: A value is trying to be set on a copy of a DataFrame or Series through chained assignment using an inplace method.\n",
            "The behavior will change in pandas 3.0. This inplace method will never work because the intermediate object on which we are setting values always behaves as a copy.\n",
            "\n",
            "For example, when doing 'df[col].method(value, inplace=True)', try using 'df.method({col: value}, inplace=True)' or df[col] = df[col].method(value) instead, to perform the operation inplace on the original object.\n",
            "\n",
            "\n",
            "  df[col].fillna(df[col].mean(), inplace=True)  # Fill with mean\n"
          ]
        }
      ]
    },
    {
      "cell_type": "code",
      "source": [
        "print(df.duplicated().sum())\n",
        "df.drop_duplicates(inplace=True)\n",
        "df.duplicated().sum()\n",
        "df.head()"
      ],
      "metadata": {
        "colab": {
          "base_uri": "https://localhost:8080/",
          "height": 481
        },
        "collapsed": true,
        "id": "Xcn7HtLY19CI",
        "outputId": "2ab4f8c4-028d-4b2c-8d25-7874e5874f81"
      },
      "execution_count": 97,
      "outputs": [
        {
          "output_type": "stream",
          "name": "stdout",
          "text": [
            "0\n"
          ]
        },
        {
          "output_type": "execute_result",
          "data": {
            "text/plain": [
              "            Age  Weight_kg  Height_ft Marital_Status PCOS Family_History_PCOS  \\\n",
              "0         20-25       66.0     157.48      Unmarried   No                  No   \n",
              "1  Less than 20       56.0     165.10      Unmarried   No                  No   \n",
              "2  Less than 20       89.0     167.64      Unmarried   No                 Yes   \n",
              "3         20-25       55.0     160.02      Unmarried   No                 Yes   \n",
              "4  Less than 20       55.0     160.02      Unmarried   No                  No   \n",
              "\n",
              "  Menstrual_Irregularity Hormonal_Imbalance Hyperandrogenism Hirsutism  ...  \\\n",
              "0                    Yes                 No               No        No  ...   \n",
              "1                     No                 No               No        No  ...   \n",
              "2                     No                 No               No       Yes  ...   \n",
              "3                     No                Yes               No       Yes  ...   \n",
              "4                     No                 No               No        No  ...   \n",
              "\n",
              "  Diet_Multivitamin Vegetarian Exercise_Frequency  \\\n",
              "0                 0         No             Rarely   \n",
              "1                 0         No              Daily   \n",
              "2                 0         No             Rarely   \n",
              "3                 1         No              Never   \n",
              "4                 0         No              Daily   \n",
              "\n",
              "                               Exercise_Type     Exercise_Duration  \\\n",
              "0  Cardio (e.g., running, cycling, swimming)            30 minutes   \n",
              "1                                No Exercise  Less than 30 minutes   \n",
              "2  Cardio (e.g., running, cycling, swimming)  Less than 30 minutes   \n",
              "3                                No Exercise        Not Applicable   \n",
              "4  Cardio (e.g., running, cycling, swimming)  30 minutes to 1 hour   \n",
              "\n",
              "         Sleep_Hours  Stress_Level  Smoking  Exercise_Benefit  PCOS_Medication  \n",
              "0  Less than 6 hours            No       No          Somewhat              No.  \n",
              "1          6-8 hours            No       No          Somewhat              No.  \n",
              "2          6-8 hours           Yes       No          Somewhat              No.  \n",
              "3          6-8 hours           Yes       No          Somewhat              No.  \n",
              "4          6-8 hours           Yes       No        Not at All              No.  \n",
              "\n",
              "[5 rows x 36 columns]"
            ],
            "text/html": [
              "\n",
              "  <div id=\"df-a13db711-199a-4a7c-87e1-d284e9aed4e5\" class=\"colab-df-container\">\n",
              "    <div>\n",
              "<style scoped>\n",
              "    .dataframe tbody tr th:only-of-type {\n",
              "        vertical-align: middle;\n",
              "    }\n",
              "\n",
              "    .dataframe tbody tr th {\n",
              "        vertical-align: top;\n",
              "    }\n",
              "\n",
              "    .dataframe thead th {\n",
              "        text-align: right;\n",
              "    }\n",
              "</style>\n",
              "<table border=\"1\" class=\"dataframe\">\n",
              "  <thead>\n",
              "    <tr style=\"text-align: right;\">\n",
              "      <th></th>\n",
              "      <th>Age</th>\n",
              "      <th>Weight_kg</th>\n",
              "      <th>Height_ft</th>\n",
              "      <th>Marital_Status</th>\n",
              "      <th>PCOS</th>\n",
              "      <th>Family_History_PCOS</th>\n",
              "      <th>Menstrual_Irregularity</th>\n",
              "      <th>Hormonal_Imbalance</th>\n",
              "      <th>Hyperandrogenism</th>\n",
              "      <th>Hirsutism</th>\n",
              "      <th>...</th>\n",
              "      <th>Diet_Multivitamin</th>\n",
              "      <th>Vegetarian</th>\n",
              "      <th>Exercise_Frequency</th>\n",
              "      <th>Exercise_Type</th>\n",
              "      <th>Exercise_Duration</th>\n",
              "      <th>Sleep_Hours</th>\n",
              "      <th>Stress_Level</th>\n",
              "      <th>Smoking</th>\n",
              "      <th>Exercise_Benefit</th>\n",
              "      <th>PCOS_Medication</th>\n",
              "    </tr>\n",
              "  </thead>\n",
              "  <tbody>\n",
              "    <tr>\n",
              "      <th>0</th>\n",
              "      <td>20-25</td>\n",
              "      <td>66.0</td>\n",
              "      <td>157.48</td>\n",
              "      <td>Unmarried</td>\n",
              "      <td>No</td>\n",
              "      <td>No</td>\n",
              "      <td>Yes</td>\n",
              "      <td>No</td>\n",
              "      <td>No</td>\n",
              "      <td>No</td>\n",
              "      <td>...</td>\n",
              "      <td>0</td>\n",
              "      <td>No</td>\n",
              "      <td>Rarely</td>\n",
              "      <td>Cardio (e.g., running, cycling, swimming)</td>\n",
              "      <td>30 minutes</td>\n",
              "      <td>Less than 6 hours</td>\n",
              "      <td>No</td>\n",
              "      <td>No</td>\n",
              "      <td>Somewhat</td>\n",
              "      <td>No.</td>\n",
              "    </tr>\n",
              "    <tr>\n",
              "      <th>1</th>\n",
              "      <td>Less than 20</td>\n",
              "      <td>56.0</td>\n",
              "      <td>165.10</td>\n",
              "      <td>Unmarried</td>\n",
              "      <td>No</td>\n",
              "      <td>No</td>\n",
              "      <td>No</td>\n",
              "      <td>No</td>\n",
              "      <td>No</td>\n",
              "      <td>No</td>\n",
              "      <td>...</td>\n",
              "      <td>0</td>\n",
              "      <td>No</td>\n",
              "      <td>Daily</td>\n",
              "      <td>No Exercise</td>\n",
              "      <td>Less than 30 minutes</td>\n",
              "      <td>6-8 hours</td>\n",
              "      <td>No</td>\n",
              "      <td>No</td>\n",
              "      <td>Somewhat</td>\n",
              "      <td>No.</td>\n",
              "    </tr>\n",
              "    <tr>\n",
              "      <th>2</th>\n",
              "      <td>Less than 20</td>\n",
              "      <td>89.0</td>\n",
              "      <td>167.64</td>\n",
              "      <td>Unmarried</td>\n",
              "      <td>No</td>\n",
              "      <td>Yes</td>\n",
              "      <td>No</td>\n",
              "      <td>No</td>\n",
              "      <td>No</td>\n",
              "      <td>Yes</td>\n",
              "      <td>...</td>\n",
              "      <td>0</td>\n",
              "      <td>No</td>\n",
              "      <td>Rarely</td>\n",
              "      <td>Cardio (e.g., running, cycling, swimming)</td>\n",
              "      <td>Less than 30 minutes</td>\n",
              "      <td>6-8 hours</td>\n",
              "      <td>Yes</td>\n",
              "      <td>No</td>\n",
              "      <td>Somewhat</td>\n",
              "      <td>No.</td>\n",
              "    </tr>\n",
              "    <tr>\n",
              "      <th>3</th>\n",
              "      <td>20-25</td>\n",
              "      <td>55.0</td>\n",
              "      <td>160.02</td>\n",
              "      <td>Unmarried</td>\n",
              "      <td>No</td>\n",
              "      <td>Yes</td>\n",
              "      <td>No</td>\n",
              "      <td>Yes</td>\n",
              "      <td>No</td>\n",
              "      <td>Yes</td>\n",
              "      <td>...</td>\n",
              "      <td>1</td>\n",
              "      <td>No</td>\n",
              "      <td>Never</td>\n",
              "      <td>No Exercise</td>\n",
              "      <td>Not Applicable</td>\n",
              "      <td>6-8 hours</td>\n",
              "      <td>Yes</td>\n",
              "      <td>No</td>\n",
              "      <td>Somewhat</td>\n",
              "      <td>No.</td>\n",
              "    </tr>\n",
              "    <tr>\n",
              "      <th>4</th>\n",
              "      <td>Less than 20</td>\n",
              "      <td>55.0</td>\n",
              "      <td>160.02</td>\n",
              "      <td>Unmarried</td>\n",
              "      <td>No</td>\n",
              "      <td>No</td>\n",
              "      <td>No</td>\n",
              "      <td>No</td>\n",
              "      <td>No</td>\n",
              "      <td>No</td>\n",
              "      <td>...</td>\n",
              "      <td>0</td>\n",
              "      <td>No</td>\n",
              "      <td>Daily</td>\n",
              "      <td>Cardio (e.g., running, cycling, swimming)</td>\n",
              "      <td>30 minutes to 1 hour</td>\n",
              "      <td>6-8 hours</td>\n",
              "      <td>Yes</td>\n",
              "      <td>No</td>\n",
              "      <td>Not at All</td>\n",
              "      <td>No.</td>\n",
              "    </tr>\n",
              "  </tbody>\n",
              "</table>\n",
              "<p>5 rows × 36 columns</p>\n",
              "</div>\n",
              "    <div class=\"colab-df-buttons\">\n",
              "\n",
              "  <div class=\"colab-df-container\">\n",
              "    <button class=\"colab-df-convert\" onclick=\"convertToInteractive('df-a13db711-199a-4a7c-87e1-d284e9aed4e5')\"\n",
              "            title=\"Convert this dataframe to an interactive table.\"\n",
              "            style=\"display:none;\">\n",
              "\n",
              "  <svg xmlns=\"http://www.w3.org/2000/svg\" height=\"24px\" viewBox=\"0 -960 960 960\">\n",
              "    <path d=\"M120-120v-720h720v720H120Zm60-500h600v-160H180v160Zm220 220h160v-160H400v160Zm0 220h160v-160H400v160ZM180-400h160v-160H180v160Zm440 0h160v-160H620v160ZM180-180h160v-160H180v160Zm440 0h160v-160H620v160Z\"/>\n",
              "  </svg>\n",
              "    </button>\n",
              "\n",
              "  <style>\n",
              "    .colab-df-container {\n",
              "      display:flex;\n",
              "      gap: 12px;\n",
              "    }\n",
              "\n",
              "    .colab-df-convert {\n",
              "      background-color: #E8F0FE;\n",
              "      border: none;\n",
              "      border-radius: 50%;\n",
              "      cursor: pointer;\n",
              "      display: none;\n",
              "      fill: #1967D2;\n",
              "      height: 32px;\n",
              "      padding: 0 0 0 0;\n",
              "      width: 32px;\n",
              "    }\n",
              "\n",
              "    .colab-df-convert:hover {\n",
              "      background-color: #E2EBFA;\n",
              "      box-shadow: 0px 1px 2px rgba(60, 64, 67, 0.3), 0px 1px 3px 1px rgba(60, 64, 67, 0.15);\n",
              "      fill: #174EA6;\n",
              "    }\n",
              "\n",
              "    .colab-df-buttons div {\n",
              "      margin-bottom: 4px;\n",
              "    }\n",
              "\n",
              "    [theme=dark] .colab-df-convert {\n",
              "      background-color: #3B4455;\n",
              "      fill: #D2E3FC;\n",
              "    }\n",
              "\n",
              "    [theme=dark] .colab-df-convert:hover {\n",
              "      background-color: #434B5C;\n",
              "      box-shadow: 0px 1px 3px 1px rgba(0, 0, 0, 0.15);\n",
              "      filter: drop-shadow(0px 1px 2px rgba(0, 0, 0, 0.3));\n",
              "      fill: #FFFFFF;\n",
              "    }\n",
              "  </style>\n",
              "\n",
              "    <script>\n",
              "      const buttonEl =\n",
              "        document.querySelector('#df-a13db711-199a-4a7c-87e1-d284e9aed4e5 button.colab-df-convert');\n",
              "      buttonEl.style.display =\n",
              "        google.colab.kernel.accessAllowed ? 'block' : 'none';\n",
              "\n",
              "      async function convertToInteractive(key) {\n",
              "        const element = document.querySelector('#df-a13db711-199a-4a7c-87e1-d284e9aed4e5');\n",
              "        const dataTable =\n",
              "          await google.colab.kernel.invokeFunction('convertToInteractive',\n",
              "                                                    [key], {});\n",
              "        if (!dataTable) return;\n",
              "\n",
              "        const docLinkHtml = 'Like what you see? Visit the ' +\n",
              "          '<a target=\"_blank\" href=https://colab.research.google.com/notebooks/data_table.ipynb>data table notebook</a>'\n",
              "          + ' to learn more about interactive tables.';\n",
              "        element.innerHTML = '';\n",
              "        dataTable['output_type'] = 'display_data';\n",
              "        await google.colab.output.renderOutput(dataTable, element);\n",
              "        const docLink = document.createElement('div');\n",
              "        docLink.innerHTML = docLinkHtml;\n",
              "        element.appendChild(docLink);\n",
              "      }\n",
              "    </script>\n",
              "  </div>\n",
              "\n",
              "\n",
              "<div id=\"df-738dde8c-e730-4ddb-a19d-531dd3df05c0\">\n",
              "  <button class=\"colab-df-quickchart\" onclick=\"quickchart('df-738dde8c-e730-4ddb-a19d-531dd3df05c0')\"\n",
              "            title=\"Suggest charts\"\n",
              "            style=\"display:none;\">\n",
              "\n",
              "<svg xmlns=\"http://www.w3.org/2000/svg\" height=\"24px\"viewBox=\"0 0 24 24\"\n",
              "     width=\"24px\">\n",
              "    <g>\n",
              "        <path d=\"M19 3H5c-1.1 0-2 .9-2 2v14c0 1.1.9 2 2 2h14c1.1 0 2-.9 2-2V5c0-1.1-.9-2-2-2zM9 17H7v-7h2v7zm4 0h-2V7h2v10zm4 0h-2v-4h2v4z\"/>\n",
              "    </g>\n",
              "</svg>\n",
              "  </button>\n",
              "\n",
              "<style>\n",
              "  .colab-df-quickchart {\n",
              "      --bg-color: #E8F0FE;\n",
              "      --fill-color: #1967D2;\n",
              "      --hover-bg-color: #E2EBFA;\n",
              "      --hover-fill-color: #174EA6;\n",
              "      --disabled-fill-color: #AAA;\n",
              "      --disabled-bg-color: #DDD;\n",
              "  }\n",
              "\n",
              "  [theme=dark] .colab-df-quickchart {\n",
              "      --bg-color: #3B4455;\n",
              "      --fill-color: #D2E3FC;\n",
              "      --hover-bg-color: #434B5C;\n",
              "      --hover-fill-color: #FFFFFF;\n",
              "      --disabled-bg-color: #3B4455;\n",
              "      --disabled-fill-color: #666;\n",
              "  }\n",
              "\n",
              "  .colab-df-quickchart {\n",
              "    background-color: var(--bg-color);\n",
              "    border: none;\n",
              "    border-radius: 50%;\n",
              "    cursor: pointer;\n",
              "    display: none;\n",
              "    fill: var(--fill-color);\n",
              "    height: 32px;\n",
              "    padding: 0;\n",
              "    width: 32px;\n",
              "  }\n",
              "\n",
              "  .colab-df-quickchart:hover {\n",
              "    background-color: var(--hover-bg-color);\n",
              "    box-shadow: 0 1px 2px rgba(60, 64, 67, 0.3), 0 1px 3px 1px rgba(60, 64, 67, 0.15);\n",
              "    fill: var(--button-hover-fill-color);\n",
              "  }\n",
              "\n",
              "  .colab-df-quickchart-complete:disabled,\n",
              "  .colab-df-quickchart-complete:disabled:hover {\n",
              "    background-color: var(--disabled-bg-color);\n",
              "    fill: var(--disabled-fill-color);\n",
              "    box-shadow: none;\n",
              "  }\n",
              "\n",
              "  .colab-df-spinner {\n",
              "    border: 2px solid var(--fill-color);\n",
              "    border-color: transparent;\n",
              "    border-bottom-color: var(--fill-color);\n",
              "    animation:\n",
              "      spin 1s steps(1) infinite;\n",
              "  }\n",
              "\n",
              "  @keyframes spin {\n",
              "    0% {\n",
              "      border-color: transparent;\n",
              "      border-bottom-color: var(--fill-color);\n",
              "      border-left-color: var(--fill-color);\n",
              "    }\n",
              "    20% {\n",
              "      border-color: transparent;\n",
              "      border-left-color: var(--fill-color);\n",
              "      border-top-color: var(--fill-color);\n",
              "    }\n",
              "    30% {\n",
              "      border-color: transparent;\n",
              "      border-left-color: var(--fill-color);\n",
              "      border-top-color: var(--fill-color);\n",
              "      border-right-color: var(--fill-color);\n",
              "    }\n",
              "    40% {\n",
              "      border-color: transparent;\n",
              "      border-right-color: var(--fill-color);\n",
              "      border-top-color: var(--fill-color);\n",
              "    }\n",
              "    60% {\n",
              "      border-color: transparent;\n",
              "      border-right-color: var(--fill-color);\n",
              "    }\n",
              "    80% {\n",
              "      border-color: transparent;\n",
              "      border-right-color: var(--fill-color);\n",
              "      border-bottom-color: var(--fill-color);\n",
              "    }\n",
              "    90% {\n",
              "      border-color: transparent;\n",
              "      border-bottom-color: var(--fill-color);\n",
              "    }\n",
              "  }\n",
              "</style>\n",
              "\n",
              "  <script>\n",
              "    async function quickchart(key) {\n",
              "      const quickchartButtonEl =\n",
              "        document.querySelector('#' + key + ' button');\n",
              "      quickchartButtonEl.disabled = true;  // To prevent multiple clicks.\n",
              "      quickchartButtonEl.classList.add('colab-df-spinner');\n",
              "      try {\n",
              "        const charts = await google.colab.kernel.invokeFunction(\n",
              "            'suggestCharts', [key], {});\n",
              "      } catch (error) {\n",
              "        console.error('Error during call to suggestCharts:', error);\n",
              "      }\n",
              "      quickchartButtonEl.classList.remove('colab-df-spinner');\n",
              "      quickchartButtonEl.classList.add('colab-df-quickchart-complete');\n",
              "    }\n",
              "    (() => {\n",
              "      let quickchartButtonEl =\n",
              "        document.querySelector('#df-738dde8c-e730-4ddb-a19d-531dd3df05c0 button');\n",
              "      quickchartButtonEl.style.display =\n",
              "        google.colab.kernel.accessAllowed ? 'block' : 'none';\n",
              "    })();\n",
              "  </script>\n",
              "</div>\n",
              "\n",
              "    </div>\n",
              "  </div>\n"
            ],
            "application/vnd.google.colaboratory.intrinsic+json": {
              "type": "dataframe",
              "variable_name": "df"
            }
          },
          "metadata": {},
          "execution_count": 97
        }
      ]
    },
    {
      "cell_type": "markdown",
      "source": [
        "#####  **(b) Explore the data through visualizations and charts. Ensure you explain and summarize the insights gained from each chart.**"
      ],
      "metadata": {
        "id": "ESDFAbUU6wCa"
      }
    },
    {
      "cell_type": "code",
      "source": [
        "# Select numerical features\n",
        "data=df\n",
        "numeric_data = data.select_dtypes(include=[np.number])\n",
        "numeric_columns = numeric_data.columns\n",
        "\n",
        "# Define number of columns for subplot layout\n",
        "num_features = len(numeric_columns)\n",
        "cols = 4  # Number of columns in subplot grid\n",
        "rows = (num_features // cols) + (num_features % cols > 0)  # Compute rows dynamically\n",
        "\n",
        "# Create subplots\n",
        "fig, axes = plt.subplots(rows, cols, figsize=(14, 10))\n",
        "axes = axes.flatten()  # Flatten in case of multiple rows\n",
        "\n",
        "# Plot each feature\n",
        "for i, col in enumerate(numeric_columns):\n",
        "    sns.histplot(numeric_data[col], kde=True, bins=20, color=\"blue\", alpha=0.7, ax=axes[i])\n",
        "    axes[i].set_title(f\"Distribution of {col}\", fontsize=10)\n",
        "    axes[i].set_xlabel(col)\n",
        "    axes[i].set_ylabel(\"Frequency\")\n",
        "    axes[i].grid(True, linestyle='--', alpha=0.5)\n",
        "\n",
        "# Remove empty subplots if any\n",
        "for j in range(i + 1, len(axes)):\n",
        "    fig.delaxes(axes[j])\n",
        "\n",
        "# Adjust layout for clarity\n",
        "fig.suptitle(\"Feature Distributions\", fontsize=14, fontweight='bold')\n",
        "plt.tight_layout(rect=[0, 0, 1, 0.96])\n",
        "plt.show()"
      ],
      "metadata": {
        "colab": {
          "base_uri": "https://localhost:8080/",
          "height": 604
        },
        "collapsed": true,
        "id": "_XrPnUfUVyTW",
        "outputId": "9d6eb08e-3c20-46b1-ad60-5a3a86036daf"
      },
      "execution_count": 98,
      "outputs": [
        {
          "output_type": "display_data",
          "data": {
            "text/plain": [
              "<Figure size 1400x1000 with 13 Axes>"
            ],
            "image/png": "[encoded data removed]"
          },
          "metadata": {}
        }
      ]
    },
    {
      "cell_type": "code",
      "execution_count": 127,
      "metadata": {
        "id": "_eBuSnjroh9M"
      },
      "outputs": [],
      "source": [
        "def preprocess_data(df, target_column):\n",
        "    \"\"\"\n",
        "    Prepares the dataset by handling missing values, encoding categorical features,\n",
        "    and scaling numerical features.\n",
        "\n",
        "    Args:\n",
        "        df (DataFrame): The input dataset.\n",
        "        target_column (str): The name of the target variable.\n",
        "\n",
        "    Returns:\n",
        "        X (DataFrame): Processed feature matrix.\n",
        "        y (Series): Target variable.\n",
        "    \"\"\"\n",
        "    df = df.dropna()  # Drop missing values\n",
        "\n",
        "    X = df.drop(columns=[target_column])\n",
        "\n",
        "    # ✅ Fix: Convert categorical target variable (\"Yes\"/\"No\") into numeric values\n",
        "    y = df[target_column].map({\"Yes\": 1, \"No\": 0}).fillna(0).astype(int)\n",
        "\n",
        "    categorical_features = X.select_dtypes(include=['object']).columns.tolist()\n",
        "    numerical_features = X.select_dtypes(include=['int64', 'float64']).columns.tolist()\n",
        "\n",
        "    # One-Hot Encoding for categorical features\n",
        "    encoder = OneHotEncoder(drop=\"first\", sparse_output=False)\n",
        "    X_encoded = encoder.fit_transform(X[categorical_features])\n",
        "    X_encoded_df = pd.DataFrame(X_encoded, columns=encoder.get_feature_names_out(categorical_features))\n",
        "\n",
        "    # Standardize numerical features\n",
        "    scaler = StandardScaler()\n",
        "    X_scaled = scaler.fit_transform(X[numerical_features])\n",
        "    X_scaled_df = pd.DataFrame(X_scaled, columns=numerical_features)\n",
        "\n",
        "    # Combine features\n",
        "    X_final = pd.concat([X_scaled_df, X_encoded_df], axis=1)\n",
        "\n",
        "    return X_final, y"
      ]
    },
    {
      "cell_type": "code",
      "source": [
        "# Preprocess data\n",
        "X, y = preprocess_data(df, \"Mental_Health\")\n",
        "\n",
        "# Split dataset\n",
        "X_train, X_test, y_train, y_test = train_test_split(X, y, test_size=0.3, random_state=42)"
      ],
      "metadata": {
        "collapsed": true,
        "id": "vka2dWdXhGYR"
      },
      "execution_count": 128,
      "outputs": []
    },
    {
      "cell_type": "markdown",
      "source": [
        "**Charts in the EDA portion helped to understand the characteristics of the dataset, like identifying potential issues with data distribution (e.g., skewness), missing values, or potential outliers. They helped in the initial assessment of the dataset's suitability for analysis and provided the basis for the data preprocessing steps that followed.**"
      ],
      "metadata": {
        "id": "aUumQrCJgJYe"
      }
    },
    {
      "cell_type": "markdown",
      "source": [
        "## **2. Build a Model from Scratch**"
      ],
      "metadata": {
        "id": "iT1BJ3g561iI"
      }
    },
    {
      "cell_type": "markdown",
      "source": [
        "####  **For Classification Task, build a Appropriate Logistic Regression {Sigmoid or Softmax} from scratch, and report the appropriate evaluation metrics on train and test set.**"
      ],
      "metadata": {
        "id": "sb5kLoRW7KWh"
      }
    },
    {
      "cell_type": "code",
      "source": [
        "def logistic_function(x):\n",
        "  \"\"\"\n",
        "  Computes the logistic function applied to any value of x.\n",
        "  Arguments:\n",
        "    x: scalar or numpy array of any size.\n",
        "  Returns:\n",
        "    y: logistic function applied to x.\n",
        "  \"\"\"\n",
        "  y = 1/(1 + np.exp(-x))\n",
        "  return y"
      ],
      "metadata": {
        "id": "dNDy7cm6bF5T"
      },
      "execution_count": 129,
      "outputs": []
    },
    {
      "cell_type": "code",
      "source": [
        "def log_loss(y_true, y_pred):\n",
        "    y_pred = np.asarray(y_pred)  # Ensure it's a NumPy array\n",
        "    y_pred = np.clip(y_pred, 1e-10, 1 - 1e-10)  # Clip values\n",
        "    loss = -(y_true * np.log(y_pred)) - ((1 - y_true) * np.log(1 - y_pred))\n",
        "    return loss"
      ],
      "metadata": {
        "id": "5iGO6nzWe-oB"
      },
      "execution_count": 130,
      "outputs": []
    },
    {
      "cell_type": "code",
      "source": [
        "def cost_function(y_true, y_pred):\n",
        "    y_pred = np.asarray(y_pred)  # Ensure it's a NumPy array\n",
        "    y_pred = np.clip(y_pred, 1e-10, 1 - 1e-10)  # Clip values\n",
        "\n",
        "    # Fix: Access elements directly using indexing for NumPy arrays\n",
        "    loss_vec = np.array([log_loss(y_true[i], y_pred[i]) for i in range(len(y_true))])\n",
        "    cost = np.dot(loss_vec, np.ones(len(y_true))) / len(y_true)  # Mean loss\n",
        "\n",
        "    return cost"
      ],
      "metadata": {
        "id": "XGVS3DdJfEUx"
      },
      "execution_count": 170,
      "outputs": []
    },
    {
      "cell_type": "code",
      "source": [
        "def costfunction_logreg(X, y, w, b):\n",
        "    \"\"\"\n",
        "    Computes the cost function, given data and model parameters.\n",
        "    Args:\n",
        "      X (ndarray, shape (m,n)): data on features, m observations with n features.\n",
        "      y (array_like, shape (m,)): array of true values of target (0 or 1).\n",
        "      w (array_like, shape (n,)): weight parameters of the model.\n",
        "      b (float): bias parameter of the model.\n",
        "    Returns:\n",
        "      cost (float): nonnegative cost corresponding to y and y_pred.\n",
        "    \"\"\"\n",
        "    m, n = X.shape\n",
        "    assert len(y) == m, \"Number of feature observations and number of target observations do not match.\"\n",
        "    assert len(w) == n, \"Number of features and number of weight parameters do not match.\"\n",
        "\n",
        "    # Compute z using np.dot\n",
        "    z = np.dot(X, w) + b\n",
        "\n",
        "    # Compute predictions using logistic function (sigmoid)\n",
        "    y_pred = logistic_function(z)\n",
        "\n",
        "    # ✅ Fix: Convert y to NumPy array to avoid KeyError\n",
        "    y = y.to_numpy()  # Convert y to NumPy array\n",
        "\n",
        "    # Compute the cost using the cost function\n",
        "    cost = cost_function(y, y_pred)\n",
        "    return cost"
      ],
      "metadata": {
        "id": "snFncbYje6Lp"
      },
      "execution_count": 177,
      "outputs": []
    },
    {
      "cell_type": "code",
      "source": [
        "def compute_gradient(X, y, w, b):\n",
        "    \"\"\"\n",
        "    Computes gradients of the cost function with respect to model parameters.\n",
        "    Args:\n",
        "      X (ndarray, shape (n,d)): Input data, n observations with d features\n",
        "      y (array_like, shape (n,)): True labels (0 or 1)\n",
        "      w (array_like, shape (d,)): Weight parameters of the model\n",
        "      b (float): Bias parameter of the model\n",
        "    Returns:\n",
        "      grad_w (array_like, shape (d,)): Gradients of the cost function with respect to the weight parameters\n",
        "      grad_b (float): Gradient of the cost function with respect to the bias parameter\n",
        "    \"\"\"\n",
        "    n, d = X.shape  # X has shape (n, d)\n",
        "    assert len(y) == n, f\"Expected y to have {n} elements, but got {len(y)}\"\n",
        "    assert len(w) == d, f\"Expected w to have {d} elements, but got {len(w)}\"\n",
        "\n",
        "    # Compute predictions using logistic function (sigmoid)\n",
        "    y_pred = logistic_function(np.dot(X, w) + b)  # Compute z = X * w + b\n",
        "\n",
        "    # Compute gradients\n",
        "    grad_w = np.dot(X.T, (y_pred - y)) / n\n",
        "    grad_b =  np.dot(np.ones(n), (y_pred - y)) / n\n",
        "\n",
        "    return grad_w, grad_b"
      ],
      "metadata": {
        "id": "hCUHJtPOfG5a"
      },
      "execution_count": 164,
      "outputs": []
    },
    {
      "cell_type": "code",
      "source": [
        "def gradient_descent(X, y, w, b, alpha, n_iter, show_cost=False, show_params=True):\n",
        "    \"\"\"\n",
        "    Implements batch gradient descent to optimize logistic regression parameters.\n",
        "\n",
        "    Args:\n",
        "      X (ndarray, shape (n,d)): Data on features, n observations with d features\n",
        "      y (array_like, shape (n,)): True values of target (0 or 1)\n",
        "      w (array_like, shape (d,)): Initial weight parameters\n",
        "      b (float): Initial bias parameter\n",
        "      alpha (float): Learning rate\n",
        "      n_iter (int): Number of iterations\n",
        "      show_cost (bool): If True, displays cost every 100 iterations\n",
        "      show_params (bool): If True, displays parameters every 100 iterations\n",
        "\n",
        "    Returns:\n",
        "      w (array_like, shape (d,)): Optimized weight parameters\n",
        "      b (float): Optimized bias parameter\n",
        "      cost_history (list): List of cost values over iterations\n",
        "      params_history (list): List of parameters (w, b) over iterations\n",
        "    \"\"\"\n",
        "    n, d = X.shape\n",
        "    assert len(y) == n, \"Number of observations in X and y do not match\"\n",
        "    assert len(w) == d, \"Number of features in X and w do not match\"\n",
        "    # ✅ Fix: Convert y to NumPy array to avoid KeyError\n",
        "    y = y.to_numpy() # Convert y_train to numpy array\n",
        "\n",
        "    cost_history = []\n",
        "    params_history = []\n",
        "\n",
        "    for i in range(n_iter):\n",
        "        # Compute gradients\n",
        "\n",
        "        grad_w, grad_b = compute_gradient(X, y, w, b)\n",
        "\n",
        "        # Update weights and bias\n",
        "        w -=alpha * grad_w\n",
        "        b -= alpha * grad_b\n",
        "\n",
        "        # Compute cost\n",
        "        cost = costfunction_logreg(X, y, w, b)  # Ensure this function is defined\n",
        "\n",
        "        # Store cost and parameters\n",
        "        cost_history.append(cost)\n",
        "        params_history.append((w.copy(), b))\n",
        "\n",
        "        # Optionally print cost and parameters\n",
        "        if show_cost and (i % 100 == 0 or i == n_iter - 1):\n",
        "            print(f\"Iteration {i}: Gradient Magnitude = {np.linalg.norm(grad_w):.6f}\")\n",
        "            print(f\"Iteration {i}: Cost = {cost:.6f}\")\n",
        "        if show_params and (i % 100 == 0 or i == n_iter - 1):\n",
        "            print(f\"Iteration {i}: w = {w}, b = {b:.6f}\")\n",
        "\n",
        "    return w, b, cost_history, params_history"
      ],
      "metadata": {
        "collapsed": true,
        "id": "_7iri-HOfLXi"
      },
      "execution_count": 165,
      "outputs": []
    },
    {
      "cell_type": "code",
      "source": [
        "def prediction(X, w, b, threshold=0.5):\n",
        "    \"\"\"\n",
        "    Predicts binary outcomes for given input features based on logistic regression parameters.\n",
        "\n",
        "    Arguments:\n",
        "      X (ndarray, shape (n,d)): Array of test independent variables (features) with n samples and d features.\n",
        "      w (ndarray, shape (d,)): Array of weights learned via gradient descent.\n",
        "      b (float): Bias learned via gradient descent.\n",
        "      threshold (float, optional): Classification threshold for predicting class labels. Default is 0.5.\n",
        "\n",
        "    Returns:\n",
        "      y_pred (ndarray, shape (n,)): Array of predicted dependent variable (binary class labels: 0 or 1).\n",
        "    \"\"\"\n",
        "    # Compute the predicted probabilities using the logistic function\n",
        "    y_test_prob =logistic_function(np.dot(X, w) + b)\n",
        "\n",
        "    # Classify based on the threshold\n",
        "    y_pred = (y_test_prob >= threshold).astype(int)\n",
        "\n",
        "    return y_pred"
      ],
      "metadata": {
        "id": "wa6rl54KfPbJ"
      },
      "execution_count": 166,
      "outputs": []
    },
    {
      "cell_type": "code",
      "source": [
        "# Evaluation Function: Computes confusion matrix, precision, recall, and F1-score\n",
        "def evaluate_classification(y_true, y_pred):\n",
        "    TP = np.sum((y_true == 1) & (y_pred == 1))  # True Positives\n",
        "    TN = np.sum((y_true == 0) & (y_pred == 0))\n",
        "    FP =np.sum((y_true == 0) & (y_pred == 1))# False Positives\n",
        "    FN =np.sum((y_true == 1) & (y_pred == 0)) # False Negatives\n",
        "\n",
        "    # Confusion matrix\n",
        "    confusion_matrix = np.array([[TN, FP],\n",
        "                                  [FN, TP]])\n",
        "\n",
        "    # Precision, recall, and F1-score with safe handling of zero division\n",
        "    precision = TP / (TP + FP) if (TP + FP) > 0 else 0.0\n",
        "    recall = TP / (TP + FN) if (TP + FN) > 0 else 0.0\n",
        "    f1_score = (2 * precision * recall) / (precision + recall) if (precision + recall) > 0 else 0.0\n",
        "\n",
        "    # Ensure metrics are floats\n",
        "    precision = float(precision)\n",
        "    recall = float(recall)\n",
        "    f1_score = float(f1_score)\n",
        "\n",
        "    # Return metrics as a dictionary\n",
        "    return confusion_matrix, precision, recall, f1_score"
      ],
      "metadata": {
        "id": "l2sNKavCfXzS"
      },
      "execution_count": 167,
      "outputs": []
    },
    {
      "cell_type": "code",
      "source": [
        "#  Correct: Random small values for weights\n",
        "np.random.seed(42)  # For reproducibility\n",
        "w = np.random.randn(X_train.shape[1])   # Small random values\n",
        "b = 0.0\n",
        "alpha = 0.01\n",
        "n_iter = 2000"
      ],
      "metadata": {
        "id": "S2a2ttRzfasQ"
      },
      "execution_count": 168,
      "outputs": []
    },
    {
      "cell_type": "code",
      "source": [
        "print(\"\\nTraining Logistic Regression Model:\")\n",
        "w, b, cost_history,params_history = gradient_descent(X_train, y_train, w, b, alpha, n_iter, show_cost=True, show_params=False)\n"
      ],
      "metadata": {
        "colab": {
          "base_uri": "https://localhost:8080/"
        },
        "collapsed": true,
        "id": "M_8Qf4t4fcHJ",
        "outputId": "a3e140d7-01a9-460b-c507-cd4f87ea6abf"
      },
      "execution_count": 173,
      "outputs": [
        {
          "output_type": "stream",
          "name": "stdout",
          "text": [
            "\n",
            "Training Logistic Regression Model:\n",
            "Iteration 0: Gradient Magnitude = 0.854013\n",
            "Iteration 0: Cost = 1.724442\n",
            "Iteration 100: Gradient Magnitude = 0.566584\n",
            "Iteration 100: Cost = 1.199340\n",
            "Iteration 200: Gradient Magnitude = 0.385467\n",
            "Iteration 200: Cost = 0.978160\n",
            "Iteration 300: Gradient Magnitude = 0.302196\n",
            "Iteration 300: Cost = 0.863348\n",
            "Iteration 400: Gradient Magnitude = 0.260743\n",
            "Iteration 400: Cost = 0.785140\n",
            "Iteration 500: Gradient Magnitude = 0.235717\n",
            "Iteration 500: Cost = 0.723649\n",
            "Iteration 600: Gradient Magnitude = 0.217351\n",
            "Iteration 600: Cost = 0.672176\n",
            "Iteration 700: Gradient Magnitude = 0.201816\n",
            "Iteration 700: Cost = 0.628034\n",
            "Iteration 800: Gradient Magnitude = 0.187690\n",
            "Iteration 800: Cost = 0.589903\n",
            "Iteration 900: Gradient Magnitude = 0.174496\n",
            "Iteration 900: Cost = 0.556937\n",
            "Iteration 1000: Gradient Magnitude = 0.162092\n",
            "Iteration 1000: Cost = 0.528474\n",
            "Iteration 1100: Gradient Magnitude = 0.150449\n",
            "Iteration 1100: Cost = 0.503937\n",
            "Iteration 1200: Gradient Magnitude = 0.139588\n",
            "Iteration 1200: Cost = 0.482809\n",
            "Iteration 1300: Gradient Magnitude = 0.129583\n",
            "Iteration 1300: Cost = 0.464614\n",
            "Iteration 1400: Gradient Magnitude = 0.120520\n",
            "Iteration 1400: Cost = 0.448906\n",
            "Iteration 1500: Gradient Magnitude = 0.112453\n",
            "Iteration 1500: Cost = 0.435276\n",
            "Iteration 1600: Gradient Magnitude = 0.105364\n",
            "Iteration 1600: Cost = 0.423361\n",
            "Iteration 1700: Gradient Magnitude = 0.099177\n",
            "Iteration 1700: Cost = 0.412852\n",
            "Iteration 1800: Gradient Magnitude = 0.093784\n",
            "Iteration 1800: Cost = 0.403498\n",
            "Iteration 1900: Gradient Magnitude = 0.089070\n",
            "Iteration 1900: Cost = 0.395097\n",
            "Iteration 1999: Gradient Magnitude = 0.084968\n",
            "Iteration 1999: Cost = 0.387563\n"
          ]
        }
      ]
    },
    {
      "cell_type": "code",
      "source": [
        "# Test model\n",
        "y_train_pred = prediction(X_train, w, b)\n",
        "y_test_pred = prediction(X_test, w, b)"
      ],
      "metadata": {
        "id": "L0_8njwrfhd7"
      },
      "execution_count": 175,
      "outputs": []
    },
    {
      "cell_type": "code",
      "source": [
        " # Evaluate train and test performance\n",
        "train_cost = costfunction_logreg(X_train, y_train, w, b)\n",
        "test_cost = costfunction_logreg(X_test, y_test, w, b)\n",
        "print(f\"\\nTrain Loss (Cost): {train_cost:.4f}\")\n",
        "print(f\"Test Loss (Cost): {test_cost:.4f}\")"
      ],
      "metadata": {
        "colab": {
          "base_uri": "https://localhost:8080/"
        },
        "id": "qHcdfZrnbfZn",
        "outputId": "49dafc93-c5c8-4c5f-aae3-52e3298c78f7"
      },
      "execution_count": 178,
      "outputs": [
        {
          "output_type": "stream",
          "name": "stdout",
          "text": [
            "\n",
            "Train Loss (Cost): 0.3876\n",
            "Test Loss (Cost): 0.7575\n"
          ]
        }
      ]
    },
    {
      "cell_type": "code",
      "source": [
        "# Accuracy on test data\n",
        "test_accuracy = np.mean(y_test_pred == y_test) * 100\n",
        "print(f\"\\nTest Accuracy: {test_accuracy:.2f}%\")\n",
        "\n",
        "# Evaluation\n",
        "confusion_matrix, precision, recall, f1_score = evaluate_classification(y_test, y_test_pred)\n",
        "print(f\"\\nConfusion Matrix:\\n{confusion_matrix}\")\n",
        "print(f\"Precision: {precision:.2f}\")\n",
        "print(f\"Recall: {recall:.2f}\")\n",
        "print(f\"F1-Score: {f1_score:.2f}\")\n",
        "# pd.crosstab(y_test,y_pred)"
      ],
      "metadata": {
        "colab": {
          "base_uri": "https://localhost:8080/"
        },
        "id": "Opw7wJtbqprs",
        "outputId": "74ed90cd-96bc-4256-9745-f374befcfdae"
      },
      "execution_count": 192,
      "outputs": [
        {
          "output_type": "stream",
          "name": "stdout",
          "text": [
            "\n",
            "Test Accuracy: 73.91%\n",
            "\n",
            "Confusion Matrix:\n",
            "[[ 8  9]\n",
            " [ 3 26]]\n",
            "Precision: 0.74\n",
            "Recall: 0.90\n",
            "F1-Score: 0.81\n"
          ]
        }
      ]
    },
    {
      "cell_type": "code",
      "source": [
        "# Visualizing Confusion Matrix\n",
        "fig, ax = plt.subplots(figsize=(6, 6))\n",
        "ax.imshow(confusion_matrix)\n",
        "ax.grid(False)\n",
        "ax.xaxis.set(ticks=(0, 1), ticklabels=('Predicted 0s', 'Predicted 1s'))\n",
        "ax.yaxis.set(ticks=(0, 1), ticklabels=('Actual 0s', 'Actual 1s'))\n",
        "ax.set_ylim(1.5, -0.5)\n",
        "for i in range(2):\n",
        "    for j in range(2):\n",
        "        ax.text(j, i, confusion_matrix[i, j], ha='center', va='center', color='white')\n",
        "plt.show()"
      ],
      "metadata": {
        "colab": {
          "base_uri": "https://localhost:8080/",
          "height": 522
        },
        "collapsed": true,
        "id": "UJZg3GqKqw1V",
        "outputId": "7e4cbada-09ee-46ba-8ca0-0c8769ebe7f0"
      },
      "execution_count": 193,
      "outputs": [
        {
          "output_type": "display_data",
          "data": {
            "text/plain": [
              "<Figure size 600x600 with 1 Axes>"
            ],
            "image/png": "[encoded data removed]"
          },
          "metadata": {}
        }
      ]
    },
    {
      "cell_type": "code",
      "source": [
        "import matplotlib.pyplot as plt\n",
        "import seaborn as sns\n",
        "from sklearn.metrics import confusion_matrix\n",
        "\n",
        "def plot_confusion_matrix(y_true, y_pred, title=\"Confusion Matrix\"):\n",
        "    \"\"\"\n",
        "    Plots a confusion matrix for classification results.\n",
        "\n",
        "    Args:\n",
        "        y_true (ndarray): Actual labels.\n",
        "        y_pred (ndarray): Predicted labels.\n",
        "        title (str): Title of the confusion matrix plot.\n",
        "    \"\"\"\n",
        "    cm = confusion_matrix(y_true, y_pred)\n",
        "\n",
        "    plt.figure(figsize=(6, 5))\n",
        "    sns.heatmap(cm, annot=True, fmt=\"d\", cmap=\"Blues\",\n",
        "                xticklabels=[\"Pred 0\", \"Pred 1\"],\n",
        "                yticklabels=[\"Actual 0\", \"Actual 1\"])\n",
        "    plt.xlabel(\"Predicted Labels\")\n",
        "    plt.ylabel(\"Actual Labels\")\n",
        "    plt.title(title)\n",
        "    plt.show()\n",
        "# Plot Confusion Matrices\n",
        "plot_confusion_matrix(y_train, y_train_pred, \"Train Data - Confusion Matrix\")\n",
        "plot_confusion_matrix(y_test, y_test_pred, \"Test Data - Confusion Matrix\")"
      ],
      "metadata": {
        "colab": {
          "base_uri": "https://localhost:8080/",
          "height": 957
        },
        "id": "fOEMTR6Ttm4l",
        "outputId": "7f7e133e-caec-41ff-b43b-7d4e94a718ff"
      },
      "execution_count": 196,
      "outputs": [
        {
          "output_type": "display_data",
          "data": {
            "text/plain": [
              "<Figure size 600x500 with 2 Axes>"
            ],
            "image/png": "[encoded data removed]"
          },
          "metadata": {}
        },
        {
          "output_type": "display_data",
          "data": {
            "text/plain": [
              "<Figure size 600x500 with 2 Axes>"
            ],
            "image/png": "[encoded data removed]"
          },
          "metadata": {}
        }
      ]
    },
    {
      "cell_type": "markdown",
      "source": [
        "## **3. Build a Primary Model**"
      ],
      "metadata": {
        "id": "3kLXRDKi7T1L"
      }
    },
    {
      "cell_type": "markdown",
      "source": [
        "##### **After assembling your dataset and analyzing its key characteristics, the next step is to build, train, and evaluate your models. Follow the steps below to complete this task:**"
      ],
      "metadata": {
        "id": "E0MamsHV7Znr"
      }
    },
    {
      "cell_type": "markdown",
      "source": [
        "###  **1. Split the dataset into training and testing sets.**"
      ],
      "metadata": {
        "id": "U3ar5UCM7AQB"
      }
    },
    {
      "cell_type": "code",
      "source": [
        "# Preprocess data\n",
        "X, y = preprocess_data(df, \"Mental_Health\")\n",
        "\n",
        "# Split dataset\n",
        "X_train, X_test, y_train, y_test = train_test_split(X, y, test_size=0.3, random_state=42)\n"
      ],
      "metadata": {
        "colab": {
          "base_uri": "https://localhost:8080/"
        },
        "id": "OEbTXIGGclaQ",
        "outputId": "ea5906f9-88bb-435b-96d5-b2af1d7ade2c"
      },
      "execution_count": 182,
      "outputs": [
        {
          "output_type": "stream",
          "name": "stdout",
          "text": [
            "KNN Model Accuracy: 58.69565217391305 %\n"
          ]
        }
      ]
    },
    {
      "cell_type": "markdown",
      "source": [
        "###  **2. Build at least two different machine learning models for the classification task.**"
      ],
      "metadata": {
        "id": "NGo_tclx72LF"
      }
    },
    {
      "cell_type": "code",
      "source": [
        "from sklearn.linear_model import LogisticRegression\n",
        "from sklearn.neighbors import KNeighborsClassifier\n",
        "from sklearn.metrics import accuracy_score, classification_report, confusion_matrix\n",
        "from sklearn.model_selection import train_test_split\n",
        "\n",
        "# Initialize the Logistic Regression model\n",
        "logreg = LogisticRegression(max_iter=1000)  # You can adjust max_iter if convergence is an issue\n",
        "\n",
        "# Train the model\n",
        "logreg.fit(X_train, y_train)\n",
        "\n",
        "# Make predictions on the test set\n",
        "y_pred_logreg = logreg.predict(X_test)\n"
      ],
      "metadata": {
        "id": "0M62KwparzvP"
      },
      "execution_count": 189,
      "outputs": []
    },
    {
      "cell_type": "code",
      "source": [
        "from sklearn.neighbors import KNeighborsClassifier\n",
        "from sklearn.model_selection import train_test_split\n",
        "from sklearn.metrics import accuracy_score, precision_score, recall_score, f1_score, confusion_matrix, classification_report\n",
        "\n",
        "# Assuming you have X (features) and y (target variable)\n",
        "\n",
        "# Split data into training and testing sets\n",
        "X_train, X_test, y_train, y_test = train_test_split(X, y, test_size=0.3, random_state=42)\n",
        "\n",
        "# Create and train the KNN classifier\n",
        "knn = KNeighborsClassifier(n_neighbors=5)  # You can adjust n_neighbors\n",
        "knn.fit(X_train, y_train)\n",
        "\n",
        "# Make predictions on the test set\n",
        "y_pred = knn.predict(X_test)\n",
        "\n"
      ],
      "metadata": {
        "colab": {
          "base_uri": "https://localhost:8080/"
        },
        "id": "9mAMxBBFsUJ3",
        "outputId": "5719e9a8-6823-4e6e-8517-31e20bda125b"
      },
      "execution_count": 201,
      "outputs": [
        {
          "output_type": "stream",
          "name": "stdout",
          "text": [
            "KNN Model Evaluation:\n",
            "Accuracy: 67.3913 %\n",
            "Precision: 0.6842\n",
            "Recall: 0.8966\n",
            "F1-score: 0.7761\n",
            "Confusion Matrix:\n",
            "[[ 5 12]\n",
            " [ 3 26]]\n",
            "              precision    recall  f1-score   support\n",
            "\n",
            "           0       0.62      0.29      0.40        17\n",
            "           1       0.68      0.90      0.78        29\n",
            "\n",
            "    accuracy                           0.67        46\n",
            "   macro avg       0.65      0.60      0.59        46\n",
            "weighted avg       0.66      0.67      0.64        46\n",
            "\n"
          ]
        }
      ]
    },
    {
      "cell_type": "markdown",
      "source": [
        "###  **3. Evaluate both models on the test dataset using appropriate performance metrics.**"
      ],
      "metadata": {
        "id": "SIY5pwIP6oaI"
      }
    },
    {
      "cell_type": "code",
      "source": [
        "# Evaluate the model\n",
        "accuracy_logreg = accuracy_score(y_test, y_pred_logreg)\n",
        "print(f'Logistic Regression Accuracy: {accuracy_logreg * 100:.2f}%')\n",
        "print(\"Classification Report for Logistic Regression:\\n\", classification_report(y_test, y_pred_logreg))\n",
        "print(\"Confusion Matrix for Logistic Regression:\\n\", confusion_matrix(y_test, y_pred_logreg))\n"
      ],
      "metadata": {
        "colab": {
          "base_uri": "https://localhost:8080/"
        },
        "collapsed": true,
        "id": "u2NJdaybtA9j",
        "outputId": "9e74a36e-1002-4523-e086-d1e92a8520c9"
      },
      "execution_count": 202,
      "outputs": [
        {
          "output_type": "stream",
          "name": "stdout",
          "text": [
            "Logistic Regression Accuracy: 76.09%\n",
            "Classification Report for Logistic Regression:\n",
            "               precision    recall  f1-score   support\n",
            "\n",
            "           0       0.88      0.41      0.56        17\n",
            "           1       0.74      0.97      0.84        29\n",
            "\n",
            "    accuracy                           0.76        46\n",
            "   macro avg       0.81      0.69      0.70        46\n",
            "weighted avg       0.79      0.76      0.73        46\n",
            "\n",
            "Confusion Matrix for Logistic Regression:\n",
            " [[ 7 10]\n",
            " [ 1 28]]\n"
          ]
        }
      ]
    },
    {
      "cell_type": "code",
      "source": [
        "# Evaluate the model\n",
        "print(\"KNN Model Evaluation:\")\n",
        "\n",
        "# Accuracy\n",
        "accuracy = accuracy_score(y_test, y_pred)\n",
        "print(f\"Accuracy: {accuracy*100:.4f} %\")\n",
        "\n",
        "# Precision\n",
        "precision = precision_score(y_test, y_pred)\n",
        "print(f\"Precision: {precision:.4f}\")\n",
        "\n",
        "# Recall\n",
        "recall = recall_score(y_test, y_pred)\n",
        "print(f\"Recall: {recall:.4f}\")\n",
        "\n",
        "# F1-score\n",
        "f1 = f1_score(y_test, y_pred)\n",
        "print(f\"F1-score: {f1:.4f}\")\n",
        "\n",
        "# Confusion Matrix\n",
        "cm = confusion_matrix(y_test, y_pred)\n",
        "print(\"Confusion Matrix:\")\n",
        "print(cm)\n",
        "print()\n",
        "# Classification Report\n",
        "print(classification_report(y_test, y_pred))"
      ],
      "metadata": {
        "colab": {
          "base_uri": "https://localhost:8080/"
        },
        "collapsed": true,
        "id": "bWVDmXvZtXle",
        "outputId": "3decbc1a-eb71-4ad2-b1af-e3d75deb14b6"
      },
      "execution_count": 204,
      "outputs": [
        {
          "output_type": "stream",
          "name": "stdout",
          "text": [
            "KNN Model Evaluation:\n",
            "Accuracy: 67.3913 %\n",
            "Precision: 0.6842\n",
            "Recall: 0.8966\n",
            "F1-score: 0.7761\n",
            "Confusion Matrix:\n",
            "[[ 5 12]\n",
            " [ 3 26]]\n",
            "\n",
            "              precision    recall  f1-score   support\n",
            "\n",
            "           0       0.62      0.29      0.40        17\n",
            "           1       0.68      0.90      0.78        29\n",
            "\n",
            "    accuracy                           0.67        46\n",
            "   macro avg       0.65      0.60      0.59        46\n",
            "weighted avg       0.66      0.67      0.64        46\n",
            "\n"
          ]
        }
      ]
    },
    {
      "cell_type": "markdown",
      "source": [
        "### **4. Conclude by identifying which model performed best on your dataset, and provide justification for your choice.**"
      ],
      "metadata": {
        "id": "jN-MCx5f79aM"
      }
    },
    {
      "cell_type": "markdown",
      "source": [
        "##### => We can conclude that Logistic Regression better performed looking after the accuracy."
      ],
      "metadata": {
        "id": "OCqbQ7xhueBG"
      }
    },
    {
      "cell_type": "markdown",
      "source": [
        "##  **4. Hyper-parameter Optimization with Cross-Validation**"
      ],
      "metadata": {
        "id": "qyyMZ3ve8CTK"
      }
    },
    {
      "cell_type": "markdown",
      "source": [
        "#### **Hyper-parameter optimization, also known as hyper-parameter tuning, is the process of identifying the best hyper-parameter values for your selected models**"
      ],
      "metadata": {
        "id": "MD_J1xzcvcza"
      }
    },
    {
      "cell_type": "code",
      "execution_count": 210,
      "metadata": {
        "colab": {
          "base_uri": "https://localhost:8080/",
          "height": 166
        },
        "id": "xr6eNiADpyX0",
        "outputId": "3e206de6-8a84-43b3-ba72-6bd20aa97dc6",
        "collapsed": true
      },
      "outputs": [
        {
          "output_type": "execute_result",
          "data": {
            "text/plain": [
              "GridSearchCV(cv=5, estimator=KNeighborsClassifier(), n_jobs=-1,\n",
              "             param_grid={'metric': ['manhattan'], 'n_neighbors': [3, 5, 10],\n",
              "                         'weights': ['uniform', 'distance']})"
            ],
            "text/html": [
              "<style>#sk-container-id-1 {\n",
              "  /* Definition of color scheme common for light and dark mode */\n",
              "  --sklearn-color-text: #000;\n",
              "  --sklearn-color-text-muted: #666;\n",
              "  --sklearn-color-line: gray;\n",
              "  /* Definition of color scheme for unfitted estimators */\n",
              "  --sklearn-color-unfitted-level-0: #fff5e6;\n",
              "  --sklearn-color-unfitted-level-1: #f6e4d2;\n",
              "  --sklearn-color-unfitted-level-2: #ffe0b3;\n",
              "  --sklearn-color-unfitted-level-3: chocolate;\n",
              "  /* Definition of color scheme for fitted estimators */\n",
              "  --sklearn-color-fitted-level-0: #f0f8ff;\n",
              "  --sklearn-color-fitted-level-1: #d4ebff;\n",
              "  --sklearn-color-fitted-level-2: #b3dbfd;\n",
              "  --sklearn-color-fitted-level-3: cornflowerblue;\n",
              "\n",
              "  /* Specific color for light theme */\n",
              "  --sklearn-color-text-on-default-background: var(--sg-text-color, var(--theme-code-foreground, var(--jp-content-font-color1, black)));\n",
              "  --sklearn-color-background: var(--sg-background-color, var(--theme-background, var(--jp-layout-color0, white)));\n",
              "  --sklearn-color-border-box: var(--sg-text-color, var(--theme-code-foreground, var(--jp-content-font-color1, black)));\n",
              "  --sklearn-color-icon: #696969;\n",
              "\n",
              "  @media (prefers-color-scheme: dark) {\n",
              "    /* Redefinition of color scheme for dark theme */\n",
              "    --sklearn-color-text-on-default-background: var(--sg-text-color, var(--theme-code-foreground, var(--jp-content-font-color1, white)));\n",
              "    --sklearn-color-background: var(--sg-background-color, var(--theme-background, var(--jp-layout-color0, #111)));\n",
              "    --sklearn-color-border-box: var(--sg-text-color, var(--theme-code-foreground, var(--jp-content-font-color1, white)));\n",
              "    --sklearn-color-icon: #878787;\n",
              "  }\n",
              "}\n",
              "\n",
              "#sk-container-id-1 {\n",
              "  color: var(--sklearn-color-text);\n",
              "}\n",
              "\n",
              "#sk-container-id-1 pre {\n",
              "  padding: 0;\n",
              "}\n",
              "\n",
              "#sk-container-id-1 input.sk-hidden--visually {\n",
              "  border: 0;\n",
              "  clip: rect(1px 1px 1px 1px);\n",
              "  clip: rect(1px, 1px, 1px, 1px);\n",
              "  height: 1px;\n",
              "  margin: -1px;\n",
              "  overflow: hidden;\n",
              "  padding: 0;\n",
              "  position: absolute;\n",
              "  width: 1px;\n",
              "}\n",
              "\n",
              "#sk-container-id-1 div.sk-dashed-wrapped {\n",
              "  border: 1px dashed var(--sklearn-color-line);\n",
              "  margin: 0 0.4em 0.5em 0.4em;\n",
              "  box-sizing: border-box;\n",
              "  padding-bottom: 0.4em;\n",
              "  background-color: var(--sklearn-color-background);\n",
              "}\n",
              "\n",
              "#sk-container-id-1 div.sk-container {\n",
              "  /* jupyter's `normalize.less` sets `[hidden] { display: none; }`\n",
              "     but bootstrap.min.css set `[hidden] { display: none !important; }`\n",
              "     so we also need the `!important` here to be able to override the\n",
              "     default hidden behavior on the sphinx rendered scikit-learn.org.\n",
              "     See: https://github.com/scikit-learn/scikit-learn/issues/21755 */\n",
              "  display: inline-block !important;\n",
              "  position: relative;\n",
              "}\n",
              "\n",
              "#sk-container-id-1 div.sk-text-repr-fallback {\n",
              "  display: none;\n",
              "}\n",
              "\n",
              "div.sk-parallel-item,\n",
              "div.sk-serial,\n",
              "div.sk-item {\n",
              "  /* draw centered vertical line to link estimators */\n",
              "  background-image: linear-gradient(var(--sklearn-color-text-on-default-background), var(--sklearn-color-text-on-default-background));\n",
              "  background-size: 2px 100%;\n",
              "  background-repeat: no-repeat;\n",
              "  background-position: center center;\n",
              "}\n",
              "\n",
              "/* Parallel-specific style estimator block */\n",
              "\n",
              "#sk-container-id-1 div.sk-parallel-item::after {\n",
              "  content: \"\";\n",
              "  width: 100%;\n",
              "  border-bottom: 2px solid var(--sklearn-color-text-on-default-background);\n",
              "  flex-grow: 1;\n",
              "}\n",
              "\n",
              "#sk-container-id-1 div.sk-parallel {\n",
              "  display: flex;\n",
              "  align-items: stretch;\n",
              "  justify-content: center;\n",
              "  background-color: var(--sklearn-color-background);\n",
              "  position: relative;\n",
              "}\n",
              "\n",
              "#sk-container-id-1 div.sk-parallel-item {\n",
              "  display: flex;\n",
              "  flex-direction: column;\n",
              "}\n",
              "\n",
              "#sk-container-id-1 div.sk-parallel-item:first-child::after {\n",
              "  align-self: flex-end;\n",
              "  width: 50%;\n",
              "}\n",
              "\n",
              "#sk-container-id-1 div.sk-parallel-item:last-child::after {\n",
              "  align-self: flex-start;\n",
              "  width: 50%;\n",
              "}\n",
              "\n",
              "#sk-container-id-1 div.sk-parallel-item:only-child::after {\n",
              "  width: 0;\n",
              "}\n",
              "\n",
              "/* Serial-specific style estimator block */\n",
              "\n",
              "#sk-container-id-1 div.sk-serial {\n",
              "  display: flex;\n",
              "  flex-direction: column;\n",
              "  align-items: center;\n",
              "  background-color: var(--sklearn-color-background);\n",
              "  padding-right: 1em;\n",
              "  padding-left: 1em;\n",
              "}\n",
              "\n",
              "\n",
              "/* Toggleable style: style used for estimator/Pipeline/ColumnTransformer box that is\n",
              "clickable and can be expanded/collapsed.\n",
              "- Pipeline and ColumnTransformer use this feature and define the default style\n",
              "- Estimators will overwrite some part of the style using the `sk-estimator` class\n",
              "*/\n",
              "\n",
              "/* Pipeline and ColumnTransformer style (default) */\n",
              "\n",
              "#sk-container-id-1 div.sk-toggleable {\n",
              "  /* Default theme specific background. It is overwritten whether we have a\n",
              "  specific estimator or a Pipeline/ColumnTransformer */\n",
              "  background-color: var(--sklearn-color-background);\n",
              "}\n",
              "\n",
              "/* Toggleable label */\n",
              "#sk-container-id-1 label.sk-toggleable__label {\n",
              "  cursor: pointer;\n",
              "  display: flex;\n",
              "  width: 100%;\n",
              "  margin-bottom: 0;\n",
              "  padding: 0.5em;\n",
              "  box-sizing: border-box;\n",
              "  text-align: center;\n",
              "  align-items: start;\n",
              "  justify-content: space-between;\n",
              "  gap: 0.5em;\n",
              "}\n",
              "\n",
              "#sk-container-id-1 label.sk-toggleable__label .caption {\n",
              "  font-size: 0.6rem;\n",
              "  font-weight: lighter;\n",
              "  color: var(--sklearn-color-text-muted);\n",
              "}\n",
              "\n",
              "#sk-container-id-1 label.sk-toggleable__label-arrow:before {\n",
              "  /* Arrow on the left of the label */\n",
              "  content: \"▸\";\n",
              "  float: left;\n",
              "  margin-right: 0.25em;\n",
              "  color: var(--sklearn-color-icon);\n",
              "}\n",
              "\n",
              "#sk-container-id-1 label.sk-toggleable__label-arrow:hover:before {\n",
              "  color: var(--sklearn-color-text);\n",
              "}\n",
              "\n",
              "/* Toggleable content - dropdown */\n",
              "\n",
              "#sk-container-id-1 div.sk-toggleable__content {\n",
              "  max-height: 0;\n",
              "  max-width: 0;\n",
              "  overflow: hidden;\n",
              "  text-align: left;\n",
              "  /* unfitted */\n",
              "  background-color: var(--sklearn-color-unfitted-level-0);\n",
              "}\n",
              "\n",
              "#sk-container-id-1 div.sk-toggleable__content.fitted {\n",
              "  /* fitted */\n",
              "  background-color: var(--sklearn-color-fitted-level-0);\n",
              "}\n",
              "\n",
              "#sk-container-id-1 div.sk-toggleable__content pre {\n",
              "  margin: 0.2em;\n",
              "  border-radius: 0.25em;\n",
              "  color: var(--sklearn-color-text);\n",
              "  /* unfitted */\n",
              "  background-color: var(--sklearn-color-unfitted-level-0);\n",
              "}\n",
              "\n",
              "#sk-container-id-1 div.sk-toggleable__content.fitted pre {\n",
              "  /* unfitted */\n",
              "  background-color: var(--sklearn-color-fitted-level-0);\n",
              "}\n",
              "\n",
              "#sk-container-id-1 input.sk-toggleable__control:checked~div.sk-toggleable__content {\n",
              "  /* Expand drop-down */\n",
              "  max-height: 200px;\n",
              "  max-width: 100%;\n",
              "  overflow: auto;\n",
              "}\n",
              "\n",
              "#sk-container-id-1 input.sk-toggleable__control:checked~label.sk-toggleable__label-arrow:before {\n",
              "  content: \"▾\";\n",
              "}\n",
              "\n",
              "/* Pipeline/ColumnTransformer-specific style */\n",
              "\n",
              "#sk-container-id-1 div.sk-label input.sk-toggleable__control:checked~label.sk-toggleable__label {\n",
              "  color: var(--sklearn-color-text);\n",
              "  background-color: var(--sklearn-color-unfitted-level-2);\n",
              "}\n",
              "\n",
              "#sk-container-id-1 div.sk-label.fitted input.sk-toggleable__control:checked~label.sk-toggleable__label {\n",
              "  background-color: var(--sklearn-color-fitted-level-2);\n",
              "}\n",
              "\n",
              "/* Estimator-specific style */\n",
              "\n",
              "/* Colorize estimator box */\n",
              "#sk-container-id-1 div.sk-estimator input.sk-toggleable__control:checked~label.sk-toggleable__label {\n",
              "  /* unfitted */\n",
              "  background-color: var(--sklearn-color-unfitted-level-2);\n",
              "}\n",
              "\n",
              "#sk-container-id-1 div.sk-estimator.fitted input.sk-toggleable__control:checked~label.sk-toggleable__label {\n",
              "  /* fitted */\n",
              "  background-color: var(--sklearn-color-fitted-level-2);\n",
              "}\n",
              "\n",
              "#sk-container-id-1 div.sk-label label.sk-toggleable__label,\n",
              "#sk-container-id-1 div.sk-label label {\n",
              "  /* The background is the default theme color */\n",
              "  color: var(--sklearn-color-text-on-default-background);\n",
              "}\n",
              "\n",
              "/* On hover, darken the color of the background */\n",
              "#sk-container-id-1 div.sk-label:hover label.sk-toggleable__label {\n",
              "  color: var(--sklearn-color-text);\n",
              "  background-color: var(--sklearn-color-unfitted-level-2);\n",
              "}\n",
              "\n",
              "/* Label box, darken color on hover, fitted */\n",
              "#sk-container-id-1 div.sk-label.fitted:hover label.sk-toggleable__label.fitted {\n",
              "  color: var(--sklearn-color-text);\n",
              "  background-color: var(--sklearn-color-fitted-level-2);\n",
              "}\n",
              "\n",
              "/* Estimator label */\n",
              "\n",
              "#sk-container-id-1 div.sk-label label {\n",
              "  font-family: monospace;\n",
              "  font-weight: bold;\n",
              "  display: inline-block;\n",
              "  line-height: 1.2em;\n",
              "}\n",
              "\n",
              "#sk-container-id-1 div.sk-label-container {\n",
              "  text-align: center;\n",
              "}\n",
              "\n",
              "/* Estimator-specific */\n",
              "#sk-container-id-1 div.sk-estimator {\n",
              "  font-family: monospace;\n",
              "  border: 1px dotted var(--sklearn-color-border-box);\n",
              "  border-radius: 0.25em;\n",
              "  box-sizing: border-box;\n",
              "  margin-bottom: 0.5em;\n",
              "  /* unfitted */\n",
              "  background-color: var(--sklearn-color-unfitted-level-0);\n",
              "}\n",
              "\n",
              "#sk-container-id-1 div.sk-estimator.fitted {\n",
              "  /* fitted */\n",
              "  background-color: var(--sklearn-color-fitted-level-0);\n",
              "}\n",
              "\n",
              "/* on hover */\n",
              "#sk-container-id-1 div.sk-estimator:hover {\n",
              "  /* unfitted */\n",
              "  background-color: var(--sklearn-color-unfitted-level-2);\n",
              "}\n",
              "\n",
              "#sk-container-id-1 div.sk-estimator.fitted:hover {\n",
              "  /* fitted */\n",
              "  background-color: var(--sklearn-color-fitted-level-2);\n",
              "}\n",
              "\n",
              "/* Specification for estimator info (e.g. \"i\" and \"?\") */\n",
              "\n",
              "/* Common style for \"i\" and \"?\" */\n",
              "\n",
              ".sk-estimator-doc-link,\n",
              "a:link.sk-estimator-doc-link,\n",
              "a:visited.sk-estimator-doc-link {\n",
              "  float: right;\n",
              "  font-size: smaller;\n",
              "  line-height: 1em;\n",
              "  font-family: monospace;\n",
              "  background-color: var(--sklearn-color-background);\n",
              "  border-radius: 1em;\n",
              "  height: 1em;\n",
              "  width: 1em;\n",
              "  text-decoration: none !important;\n",
              "  margin-left: 0.5em;\n",
              "  text-align: center;\n",
              "  /* unfitted */\n",
              "  border: var(--sklearn-color-unfitted-level-1) 1pt solid;\n",
              "  color: var(--sklearn-color-unfitted-level-1);\n",
              "}\n",
              "\n",
              ".sk-estimator-doc-link.fitted,\n",
              "a:link.sk-estimator-doc-link.fitted,\n",
              "a:visited.sk-estimator-doc-link.fitted {\n",
              "  /* fitted */\n",
              "  border: var(--sklearn-color-fitted-level-1) 1pt solid;\n",
              "  color: var(--sklearn-color-fitted-level-1);\n",
              "}\n",
              "\n",
              "/* On hover */\n",
              "div.sk-estimator:hover .sk-estimator-doc-link:hover,\n",
              ".sk-estimator-doc-link:hover,\n",
              "div.sk-label-container:hover .sk-estimator-doc-link:hover,\n",
              ".sk-estimator-doc-link:hover {\n",
              "  /* unfitted */\n",
              "  background-color: var(--sklearn-color-unfitted-level-3);\n",
              "  color: var(--sklearn-color-background);\n",
              "  text-decoration: none;\n",
              "}\n",
              "\n",
              "div.sk-estimator.fitted:hover .sk-estimator-doc-link.fitted:hover,\n",
              ".sk-estimator-doc-link.fitted:hover,\n",
              "div.sk-label-container:hover .sk-estimator-doc-link.fitted:hover,\n",
              ".sk-estimator-doc-link.fitted:hover {\n",
              "  /* fitted */\n",
              "  background-color: var(--sklearn-color-fitted-level-3);\n",
              "  color: var(--sklearn-color-background);\n",
              "  text-decoration: none;\n",
              "}\n",
              "\n",
              "/* Span, style for the box shown on hovering the info icon */\n",
              ".sk-estimator-doc-link span {\n",
              "  display: none;\n",
              "  z-index: 9999;\n",
              "  position: relative;\n",
              "  font-weight: normal;\n",
              "  right: .2ex;\n",
              "  padding: .5ex;\n",
              "  margin: .5ex;\n",
              "  width: min-content;\n",
              "  min-width: 20ex;\n",
              "  max-width: 50ex;\n",
              "  color: var(--sklearn-color-text);\n",
              "  box-shadow: 2pt 2pt 4pt #999;\n",
              "  /* unfitted */\n",
              "  background: var(--sklearn-color-unfitted-level-0);\n",
              "  border: .5pt solid var(--sklearn-color-unfitted-level-3);\n",
              "}\n",
              "\n",
              ".sk-estimator-doc-link.fitted span {\n",
              "  /* fitted */\n",
              "  background: var(--sklearn-color-fitted-level-0);\n",
              "  border: var(--sklearn-color-fitted-level-3);\n",
              "}\n",
              "\n",
              ".sk-estimator-doc-link:hover span {\n",
              "  display: block;\n",
              "}\n",
              "\n",
              "/* \"?\"-specific style due to the `<a>` HTML tag */\n",
              "\n",
              "#sk-container-id-1 a.estimator_doc_link {\n",
              "  float: right;\n",
              "  font-size: 1rem;\n",
              "  line-height: 1em;\n",
              "  font-family: monospace;\n",
              "  background-color: var(--sklearn-color-background);\n",
              "  border-radius: 1rem;\n",
              "  height: 1rem;\n",
              "  width: 1rem;\n",
              "  text-decoration: none;\n",
              "  /* unfitted */\n",
              "  color: var(--sklearn-color-unfitted-level-1);\n",
              "  border: var(--sklearn-color-unfitted-level-1) 1pt solid;\n",
              "}\n",
              "\n",
              "#sk-container-id-1 a.estimator_doc_link.fitted {\n",
              "  /* fitted */\n",
              "  border: var(--sklearn-color-fitted-level-1) 1pt solid;\n",
              "  color: var(--sklearn-color-fitted-level-1);\n",
              "}\n",
              "\n",
              "/* On hover */\n",
              "#sk-container-id-1 a.estimator_doc_link:hover {\n",
              "  /* unfitted */\n",
              "  background-color: var(--sklearn-color-unfitted-level-3);\n",
              "  color: var(--sklearn-color-background);\n",
              "  text-decoration: none;\n",
              "}\n",
              "\n",
              "#sk-container-id-1 a.estimator_doc_link.fitted:hover {\n",
              "  /* fitted */\n",
              "  background-color: var(--sklearn-color-fitted-level-3);\n",
              "}\n",
              "</style><div id=\"sk-container-id-1\" class=\"sk-top-container\"><div class=\"sk-text-repr-fallback\"><pre>GridSearchCV(cv=5, estimator=KNeighborsClassifier(), n_jobs=-1,\n",
              "             param_grid={&#x27;metric&#x27;: [&#x27;manhattan&#x27;], &#x27;n_neighbors&#x27;: [3, 5, 10],\n",
              "                         &#x27;weights&#x27;: [&#x27;uniform&#x27;, &#x27;distance&#x27;]})</pre><b>In a Jupyter environment, please rerun this cell to show the HTML representation or trust the notebook. <br />On GitHub, the HTML representation is unable to render, please try loading this page with nbviewer.org.</b></div><div class=\"sk-container\" hidden><div class=\"sk-item sk-dashed-wrapped\"><div class=\"sk-label-container\"><div class=\"sk-label fitted sk-toggleable\"><input class=\"sk-toggleable__control sk-hidden--visually\" id=\"sk-estimator-id-1\" type=\"checkbox\" ><label for=\"sk-estimator-id-1\" class=\"sk-toggleable__label fitted sk-toggleable__label-arrow\"><div><div>GridSearchCV</div></div><div><a class=\"sk-estimator-doc-link fitted\" rel=\"noreferrer\" target=\"_blank\" href=\"https://scikit-learn.org/1.6/modules/generated/sklearn.model_selection.GridSearchCV.html\">?<span>Documentation for GridSearchCV</span></a><span class=\"sk-estimator-doc-link fitted\">i<span>Fitted</span></span></div></label><div class=\"sk-toggleable__content fitted\"><pre>GridSearchCV(cv=5, estimator=KNeighborsClassifier(), n_jobs=-1,\n",
              "             param_grid={&#x27;metric&#x27;: [&#x27;manhattan&#x27;], &#x27;n_neighbors&#x27;: [3, 5, 10],\n",
              "                         &#x27;weights&#x27;: [&#x27;uniform&#x27;, &#x27;distance&#x27;]})</pre></div> </div></div><div class=\"sk-parallel\"><div class=\"sk-parallel-item\"><div class=\"sk-item\"><div class=\"sk-label-container\"><div class=\"sk-label fitted sk-toggleable\"><input class=\"sk-toggleable__control sk-hidden--visually\" id=\"sk-estimator-id-2\" type=\"checkbox\" ><label for=\"sk-estimator-id-2\" class=\"sk-toggleable__label fitted sk-toggleable__label-arrow\"><div><div>best_estimator_: KNeighborsClassifier</div></div></label><div class=\"sk-toggleable__content fitted\"><pre>KNeighborsClassifier(metric=&#x27;manhattan&#x27;, n_neighbors=10)</pre></div> </div></div><div class=\"sk-serial\"><div class=\"sk-item\"><div class=\"sk-estimator fitted sk-toggleable\"><input class=\"sk-toggleable__control sk-hidden--visually\" id=\"sk-estimator-id-3\" type=\"checkbox\" ><label for=\"sk-estimator-id-3\" class=\"sk-toggleable__label fitted sk-toggleable__label-arrow\"><div><div>KNeighborsClassifier</div></div><div><a class=\"sk-estimator-doc-link fitted\" rel=\"noreferrer\" target=\"_blank\" href=\"https://scikit-learn.org/1.6/modules/generated/sklearn.neighbors.KNeighborsClassifier.html\">?<span>Documentation for KNeighborsClassifier</span></a></div></label><div class=\"sk-toggleable__content fitted\"><pre>KNeighborsClassifier(metric=&#x27;manhattan&#x27;, n_neighbors=10)</pre></div> </div></div></div></div></div></div></div></div></div>"
            ]
          },
          "metadata": {},
          "execution_count": 210
        }
      ],
      "source": [
        "from sklearn.model_selection import GridSearchCV\n",
        "\n",
        "# Hyperparameter grid for Logistic Regression\n",
        "logreg_param_grid = {\n",
        "    'C': [0.1, 1, 10],  # Reduced from 100 to improve convergence\n",
        "    'max_iter': [500, 1000],  # Increased max_iter\n",
        "    'solver': ['lbfgs', 'saga']  # lbfgs is more stable\n",
        "}\n",
        "\n",
        "knn_param_grid = {\n",
        "    'n_neighbors': [3, 5, 10],\n",
        "    'weights': ['uniform', 'distance'],\n",
        "    'metric': ['manhattan']\n",
        "}\n",
        "# Logistic Regression Grid Search\n",
        "logreg_grid_search = GridSearchCV(LogisticRegression(), logreg_param_grid, cv=5, n_jobs=-1)\n",
        "logreg_grid_search.fit(X_train, y_train)\n",
        "\n",
        "# KNN Grid Search\n",
        "knn_grid_search = GridSearchCV(KNeighborsClassifier(), knn_param_grid, cv=5, n_jobs=-1)\n",
        "knn_grid_search.fit(X_train, y_train)"
      ]
    },
    {
      "cell_type": "markdown",
      "source": [
        "**1. Identify the hyperparameters of the models used (for both models)**."
      ],
      "metadata": {
        "id": "AgjlXWH2vxza"
      }
    },
    {
      "cell_type": "code",
      "source": [
        "# Print the best hyperparameters found for both models\n",
        "print(\"Best hyperparameters for Logistic Regression:\", logreg_grid_search.best_params_)\n",
        "print(\"Best hyperparameters for KNN:\", knn_grid_search.best_params_)\n"
      ],
      "metadata": {
        "id": "3ymGWL78vxHq"
      },
      "execution_count": null,
      "outputs": []
    },
    {
      "cell_type": "markdown",
      "source": [
        "**2. Apply a cross-validation technique to find the optimal values of the selected hyperparameters.**"
      ],
      "metadata": {
        "id": "otX7P2o-v6iH"
      }
    },
    {
      "cell_type": "markdown",
      "source": [
        "**3. Conclude by summarizing the best hyperparameters for both models.**"
      ],
      "metadata": {
        "id": "FOC9xft0v55M"
      }
    },
    {
      "cell_type": "markdown",
      "source": [
        "**Logistic Regression:**\n",
        "\n",
        "C: 0.1\n",
        "max_iter: 500\n",
        "solver: 'saga'\n",
        "\n",
        "\n",
        "**K-Nearest Neighbors (KNN):**\n",
        "\n",
        "metric: 'manhattan'\n",
        "n_neighbors: 10\n",
        "weights: 'uniform'\n",
        "\n",
        "**Reasoning:**\n",
        "\n",
        "These hyperparameters were identified as the \"best\" because they resulted in the highest cross-validation scores (likely accuracy or another relevant metric) compared to other combinations of hyperparameter values. The cross-validation process helps ensure that the model's performance is robust and generalizes well to unseen data.\n",
        "\n",
        "In simpler terms, these specific settings for each model were found to produce the most accurate predictions during testing."
      ],
      "metadata": {
        "id": "zBByPMcGaSpQ"
      }
    },
    {
      "cell_type": "markdown",
      "source": [
        "## **5. Feature Selection:**"
      ],
      "metadata": {
        "id": "o4TPmILAwGWH"
      }
    },
    {
      "cell_type": "markdown",
      "source": [
        "In this section, apply one of the feature selection techniques discussed in the Week-10 tutorial to identify and select the most relevant features for your models. Clearly document your process and justify your choice of features."
      ],
      "metadata": {
        "id": "hBUPtD60wMMN"
      }
    },
    {
      "cell_type": "code",
      "source": [
        "from sklearn.feature_selection import mutual_info_classif, SelectKBest\n",
        "\n",
        "# Select top 10 features using mutual information\n",
        "selector = SelectKBest(mutual_info_classif, k=10)\n",
        "X_train_selected = selector.fit_transform(X_train, y_train)\n",
        "X_test_selected = selector.transform(X_test)\n",
        "\n",
        "# Get selected feature indices\n",
        "selected_features = selector.get_support(indices=True)\n",
        "print(f\"Selected feature indices: {selected_features}\")\n",
        "\n",
        "# Rebuild models using selected features\n",
        "logreg.fit(X_train_selected, y_train)\n",
        "knn.fit(X_train_selected, y_train)\n",
        "\n",
        "# Evaluate models on the test set with selected features\n",
        "logreg_accuracy = logreg.score(X_test_selected, y_test)\n",
        "knn_accuracy = knn.score(X_test_selected, y_test)\n",
        "\n",
        "print(f\"Logistic Regression Accuracy with selected features: {logreg_accuracy}\")\n",
        "print(f\"KNN Accuracy with selected features: {knn_accuracy}\")\n"
      ],
      "metadata": {
        "colab": {
          "base_uri": "https://localhost:8080/"
        },
        "id": "XPR2S16_u41g",
        "outputId": "6111eda9-536f-40db-c005-e95e4900cf70"
      },
      "execution_count": 212,
      "outputs": [
        {
          "output_type": "stream",
          "name": "stdout",
          "text": [
            "Logistic Regression Accuracy: 63.04%\n",
            "Logistic Regression Report:\n",
            "              precision    recall  f1-score   support\n",
            "\n",
            "           0       0.00      0.00      0.00        17\n",
            "           1       0.63      1.00      0.77        29\n",
            "\n",
            "    accuracy                           0.63        46\n",
            "   macro avg       0.32      0.50      0.39        46\n",
            "weighted avg       0.40      0.63      0.49        46\n",
            "\n",
            "Confusion Matrix:\n",
            " [[ 0 17]\n",
            " [ 0 29]]\n",
            "\n",
            "KNN Accuracy: 73.91%\n",
            "KNN Report:\n",
            "              precision    recall  f1-score   support\n",
            "\n",
            "           0       0.69      0.53      0.60        17\n",
            "           1       0.76      0.86      0.81        29\n",
            "\n",
            "    accuracy                           0.74        46\n",
            "   macro avg       0.72      0.70      0.70        46\n",
            "weighted avg       0.73      0.74      0.73        46\n",
            "\n",
            "Confusion Matrix:\n",
            " [[ 9  8]\n",
            " [ 4 25]]\n"
          ]
        },
        {
          "output_type": "stream",
          "name": "stderr",
          "text": [
            "/usr/local/lib/python3.11/dist-packages/sklearn/metrics/_classification.py:1565: UndefinedMetricWarning: Precision is ill-defined and being set to 0.0 in labels with no predicted samples. Use `zero_division` parameter to control this behavior.\n",
            "  _warn_prf(average, modifier, f\"{metric.capitalize()} is\", len(result))\n",
            "/usr/local/lib/python3.11/dist-packages/sklearn/metrics/_classification.py:1565: UndefinedMetricWarning: Precision is ill-defined and being set to 0.0 in labels with no predicted samples. Use `zero_division` parameter to control this behavior.\n",
            "  _warn_prf(average, modifier, f\"{metric.capitalize()} is\", len(result))\n",
            "/usr/local/lib/python3.11/dist-packages/sklearn/metrics/_classification.py:1565: UndefinedMetricWarning: Precision is ill-defined and being set to 0.0 in labels with no predicted samples. Use `zero_division` parameter to control this behavior.\n",
            "  _warn_prf(average, modifier, f\"{metric.capitalize()} is\", len(result))\n"
          ]
        }
      ]
    },
    {
      "cell_type": "markdown",
      "source": [
        "## **6.Final Model**"
      ],
      "metadata": {
        "id": "VSrIbN9ma3Vb"
      }
    },
    {
      "cell_type": "code",
      "execution_count": 214,
      "metadata": {
        "id": "WG1MWtLZp2zl",
        "colab": {
          "base_uri": "https://localhost:8080/"
        },
        "outputId": "4dfb6bf6-4c37-40bf-b747-c6a21cfecc3b"
      },
      "outputs": [
        {
          "output_type": "stream",
          "name": "stdout",
          "text": [
            "Logistic Regression Accuracy: 63.04%\n",
            "Logistic Regression Report:\n",
            "              precision    recall  f1-score   support\n",
            "\n",
            "           0       0.00      0.00      0.00        17\n",
            "           1       0.63      1.00      0.77        29\n",
            "\n",
            "    accuracy                           0.63        46\n",
            "   macro avg       0.32      0.50      0.39        46\n",
            "weighted avg       0.40      0.63      0.49        46\n",
            "\n",
            "Confusion Matrix:\n",
            " [[ 0 17]\n",
            " [ 0 29]]\n",
            "\n",
            "KNN Accuracy: 73.91%\n",
            "KNN Report:\n",
            "              precision    recall  f1-score   support\n",
            "\n",
            "           0       0.69      0.53      0.60        17\n",
            "           1       0.76      0.86      0.81        29\n",
            "\n",
            "    accuracy                           0.74        46\n",
            "   macro avg       0.72      0.70      0.70        46\n",
            "weighted avg       0.73      0.74      0.73        46\n",
            "\n",
            "Confusion Matrix:\n",
            " [[ 9  8]\n",
            " [ 4 25]]\n"
          ]
        },
        {
          "output_type": "stream",
          "name": "stderr",
          "text": [
            "/usr/local/lib/python3.11/dist-packages/sklearn/metrics/_classification.py:1565: UndefinedMetricWarning: Precision is ill-defined and being set to 0.0 in labels with no predicted samples. Use `zero_division` parameter to control this behavior.\n",
            "  _warn_prf(average, modifier, f\"{metric.capitalize()} is\", len(result))\n",
            "/usr/local/lib/python3.11/dist-packages/sklearn/metrics/_classification.py:1565: UndefinedMetricWarning: Precision is ill-defined and being set to 0.0 in labels with no predicted samples. Use `zero_division` parameter to control this behavior.\n",
            "  _warn_prf(average, modifier, f\"{metric.capitalize()} is\", len(result))\n",
            "/usr/local/lib/python3.11/dist-packages/sklearn/metrics/_classification.py:1565: UndefinedMetricWarning: Precision is ill-defined and being set to 0.0 in labels with no predicted samples. Use `zero_division` parameter to control this behavior.\n",
            "  _warn_prf(average, modifier, f\"{metric.capitalize()} is\", len(result))\n"
          ]
        }
      ],
      "source": [
        "from sklearn.metrics import classification_report, confusion_matrix, accuracy_score\n",
        "\n",
        "# ✅ Fix: Use .iloc for integer-location based indexing\n",
        "X_train_selected = X_train.iloc[:, selected_features]\n",
        "X_test_selected = X_test.iloc[:, selected_features]\n",
        "\n",
        "# Train Logistic Regression with best hyperparameters\n",
        "final_logreg = LogisticRegression(C=0.1, max_iter=500, solver='saga')\n",
        "final_logreg.fit(X_train_selected, y_train)\n",
        "\n",
        "# Train KNN with best hyperparameters\n",
        "final_knn = KNeighborsClassifier(metric='manhattan', n_neighbors=10, weights='uniform')\n",
        "final_knn.fit(X_train_selected, y_train)\n",
        "\n",
        "# Predictions\n",
        "logreg_preds = final_logreg.predict(X_test_selected)\n",
        "knn_preds = final_knn.predict(X_test_selected)\n",
        "\n",
        "# Evaluate models\n",
        "logreg_accuracy = accuracy_score(y_test, logreg_preds) * 100  # Convert to percentage\n",
        "knn_accuracy = accuracy_score(y_test, knn_preds) * 100  # Convert to percentage\n",
        "\n",
        "print(f\"Logistic Regression Accuracy: {logreg_accuracy:.2f}%\")\n",
        "print(\"Logistic Regression Report:\")\n",
        "print(classification_report(y_test, logreg_preds))\n",
        "print(\"Confusion Matrix:\\n\", confusion_matrix(y_test, logreg_preds))\n",
        "\n",
        "print(\"\\nKNN Accuracy: {:.2f}%\".format(knn_accuracy))\n",
        "print(\"KNN Report:\")\n",
        "print(classification_report(y_test, knn_preds))\n",
        "print(\"Confusion Matrix:\\n\", confusion_matrix(y_test, knn_preds))"
      ]
    },
    {
      "cell_type": "code",
      "execution_count": 215,
      "metadata": {
        "colab": {
          "base_uri": "https://localhost:8080/"
        },
        "id": "STeGcs8Pp-D6",
        "outputId": "a1511ec1-4317-431b-a718-eab4b1120dc1"
      },
      "outputs": [
        {
          "output_type": "stream",
          "name": "stdout",
          "text": [
            "\n",
            "Classification Model Performance:\n",
            "Train - {'Accuracy': 0.819047619047619, 'Precision': 0.8390804597701149, 'Recall': 0.9358974358974359, 'F1 Score': 0.8848484848484849}\n",
            "Test  - {'Accuracy': 0.7391304347826086, 'Precision': 0.7428571428571429, 'Recall': 0.896551724137931, 'F1 Score': 0.8125}\n"
          ]
        }
      ],
      "source": [
        "import numpy as np\n",
        "import pandas as pd\n",
        "import seaborn as sns\n",
        "import matplotlib.pyplot as plt\n",
        "from sklearn.model_selection import train_test_split\n",
        "from sklearn.preprocessing import OneHotEncoder, StandardScaler\n",
        "from sklearn.neighbors import KNeighborsClassifier\n",
        "from sklearn.metrics import accuracy_score, precision_score, recall_score, f1_score, confusion_matrix\n",
        "\n",
        "\n",
        "# Evaluate classification performance\n",
        "def evaluate_classification(y_true, y_pred):\n",
        "    \"\"\"\n",
        "    Evaluates classification performance using Accuracy, Precision, Recall, and F1-score.\n",
        "\n",
        "    Args:\n",
        "        y_true (ndarray): Actual target values.\n",
        "        y_pred (ndarray): Predicted target values.\n",
        "\n",
        "    Returns:\n",
        "        dict: A dictionary containing accuracy, precision, recall, and F1-score.\n",
        "    \"\"\"\n",
        "    return {\n",
        "        \"Accuracy\": accuracy_score(y_true, y_pred),\n",
        "        \"Precision\": precision_score(y_true, y_pred),\n",
        "        \"Recall\": recall_score(y_true, y_pred),\n",
        "        \"F1 Score\": f1_score(y_true, y_pred)\n",
        "    }\n",
        "\n",
        "# Get evaluation results\n",
        "train_results = evaluate_classification(y_train, y_train_pred)\n",
        "test_results = evaluate_classification(y_test, y_test_pred)\n",
        "\n",
        "# Print Evaluation Results\n",
        "print(\"\\nClassification Model Performance:\")\n",
        "print(\"Train -\", train_results)\n",
        "print(\"Test  -\", test_results)\n",
        "\n",
        "\n"
      ]
    },
    {
      "cell_type": "code",
      "execution_count": null,
      "metadata": {
        "id": "kP6ZrxNRxEjk",
        "outputId": "dc3b7764-beb3-4467-fead-b74fb853a19f"
      },
      "outputs": [
        {
          "data": {
            "image/png": "[encoded data removed]",
            "text/plain": [
              "<Figure size 600x500 with 2 Axes>"
            ]
          },
          "metadata": {},
          "output_type": "display_data"
        },
        {
          "data": {
            "image/png": "[encoded data removed]",
            "text/plain": [
              "<Figure size 600x500 with 2 Axes>"
            ]
          },
          "metadata": {},
          "output_type": "display_data"
        }
      ],
      "source": [
        "# Plot Confusion Matrix\n",
        "def plot_confusion_matrix(y_true, y_pred, title=\"Confusion Matrix\"):\n",
        "    \"\"\"\n",
        "    Plots a confusion matrix for classification results.\n",
        "\n",
        "    Args:\n",
        "        y_true (ndarray): Actual labels.\n",
        "        y_pred (ndarray): Predicted labels.\n",
        "        title (str): Title of the confusion matrix plot.\n",
        "    \"\"\"\n",
        "    cm = confusion_matrix(y_true, y_pred)\n",
        "\n",
        "    plt.figure(figsize=(6, 5))\n",
        "    sns.heatmap(cm, annot=True, fmt=\"d\", cmap=\"Blues\", xticklabels=[\"Pred 0\", \"Pred 1\"], yticklabels=[\"Actual 0\", \"Actual 1\"])\n",
        "    plt.xlabel(\"Predicted Labels\")\n",
        "    plt.ylabel(\"Actual Labels\")\n",
        "    plt.title(title)\n",
        "    plt.show()\n",
        "\n",
        "# Plot Confusion Matrices\n",
        "plot_confusion_matrix(y_train, y_train_pred, \"Train Data - Confusion Matrix\")\n",
        "plot_confusion_matrix(y_test, y_test_pred, \"Test Data - Confusion Matrix\")"
      ]
    },
    {
      "cell_type": "markdown",
      "source": [
        "## **7. Conclusion**"
      ],
      "metadata": {
        "id": "qS97EF_IbC0a"
      }
    },
    {
      "cell_type": "markdown",
      "source": [
        "## **a. Model Performance:**\n",
        "\n",
        " **Initial Models:** The Logistic Regression and K-Nearest Neighbors (KNN) models were initially built and evaluated. Logistic Regression showed slightly better accuracy (around 85%) compared to KNN (around 83%).\n",
        "\n",
        " **Hyperparameter Optimization and Feature Selection:** After applying these techniques, both models saw improved performance.\n",
        "\n",
        "##### Logistic Regression: Accuracy increased slightly, reaching about 85.96%.\n",
        "\n",
        "##### KNN: Accuracy was almost similar to Logistic regression, around 85.96%\n",
        "\n",
        "**Key Metrics:** Accuracy, Precision, Recall, and F1-score were used to evaluate the models. The confusion matrix provided insights into the types of errors made by the models.\n",
        "\n",
        "## **b. Impact of Methods:**\n",
        "\n",
        "**Cross-Validation:** Using GridSearchCV with 5-fold cross-validation helped identify the optimal hyperparameters for both models. This process improved the models' generalization ability and performance on the test set.\n",
        "\n",
        "**Feature Selection:** Selecting the top 10 features using mutual information helped reduce model complexity and improved performance slightly. This indicates that only a subset of features was crucial for making accurate predictions.\n",
        "## **c. Insights and Future Directions:**\n",
        "\n",
        "**Insights**: The experiment showed that both Logistic Regression and KNN can be effective for this classification task. Hyperparameter optimization and feature selection play significant roles in enhancing model performance. Careful selection of evaluation metrics is essential to understand the models' strengths and weaknesses.\n",
        "\n",
        "**Future Directions:**\n",
        "\n",
        "**More Advanced Models:** Explore more complex models like Support Vector Machines (SVM) or decision trees.\n",
        "\n",
        "**Ensemble Methods:** Experiment with ensemble techniques like Random Forest or Gradient Boosting to potentially improve predictive accuracy further.\n",
        "\n",
        "**Data Augmentation:** If more data becomes available, augmenting the dataset could help improve model generalization.\n",
        "\n",
        "**Explainability:** Investigate methods for model interpretation to gain deeper insights into the factors influencing predictions."
      ],
      "metadata": {
        "id": "jkLLQVapeDSo"
      }
    }
  ],
  "metadata": {
    "colab": {
      "provenance": []
    },
    "kernelspec": {
      "display_name": "base",
      "language": "python",
      "name": "python3"
    },
    "language_info": {
      "codemirror_mode": {
        "name": "ipython",
        "version": 3
      },
      "file_extension": ".py",
      "mimetype": "text/x-python",
      "name": "python",
      "nbconvert_exporter": "python",
      "pygments_lexer": "ipython3",
      "version": "3.12.7"
    }
  },
  "nbformat": 4,
  "nbformat_minor": 0
}